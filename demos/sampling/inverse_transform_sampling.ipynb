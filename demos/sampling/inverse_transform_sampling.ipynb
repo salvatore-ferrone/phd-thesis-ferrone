{
 "cells": [
  {
   "cell_type": "code",
   "execution_count": 20,
   "id": "159184c1",
   "metadata": {},
   "outputs": [],
   "source": [
    "import tstrippy \n",
    "import matplotlib.pyplot as plt \n",
    "import numpy as np\n",
    "import matplotlib as mpl\n",
    "mpl.rcParams['text.usetex'] = True"
   ]
  },
  {
   "cell_type": "code",
   "execution_count": 85,
   "id": "a14bd8dd",
   "metadata": {},
   "outputs": [],
   "source": [
    "Mt,Rc,NP=1,1,int(1e4)\n",
    "r = np.logspace(-2,1,1000)\n",
    "Menc=tstrippy.ergodic.PlummerMassProfile(Mt, Rc,r)\n",
    "Y = np.random.rand(NP)\n",
    "r_samp = tstrippy.ergodic.PlummerRadius(Y,Rc)# does the inverse transform sampling\n",
    "# find the intersection of the cumulative mass profile and the uniform distribution\n",
    "M_enc_samp = tstrippy.ergodic.PlummerMassProfile(Mt, Rc,r_samp)\n",
    "# make a nice histogram\n",
    "nbins= int(np.ceil(np.sqrt(NP)))\n",
    "# bins = np.logspace(-2,1,nbins)\n",
    "bins = np.linspace(r_samp.min(),10,nbins)\n",
    "m_hist = np.histogram(r_samp,bins=bins)[0]"
   ]
  },
  {
   "cell_type": "code",
   "execution_count": 92,
   "id": "9951217b",
   "metadata": {},
   "outputs": [
    {
     "data": {
      "text/plain": [
       "[]"
      ]
     },
     "execution_count": 92,
     "metadata": {},
     "output_type": "execute_result"
    },
    {
     "data": {
      "image/png": "[encoded data removed]",
      "text/plain": [
       "<Figure size 725x350 with 2 Axes>"
      ]
     },
     "metadata": {},
     "output_type": "display_data"
    }
   ],
   "source": [
    "fig,axis=plt.subplots(2,1,figsize=(8.25-1,3.5),sharex=True)\n",
    "axis[0].plot(r,Menc,label='Menc(r)',color='k');\n",
    "axis[0].set_xlim(r.min(),r.max())\n",
    "axis[0].set_ylim(0,1)\n",
    "axis[0].set_ylabel(r\"$\\mathrm{M}_\\mathrm{enc}~[\\mathrm{M}]$\")\n",
    "axis[1].set_xlabel(r\"$r~[r_c]$\")\n",
    "nskip = 100\n",
    "axis[0].hlines(M_enc_samp[::nskip],np.zeros_like(r_samp)[::nskip],r_samp[::nskip],color='k',linestyle='-',alpha=.1)\n",
    "axis[0].vlines(r_samp[::nskip],np.zeros_like(r_samp)[::nskip],M_enc_samp[::nskip],color='k',linestyle='-',alpha=.1)\n",
    "axis[1].hist(r_samp,bins=bins,density=True,label='Sampled',color='k',alpha=.5);\n",
    "axis[1].set_ylabel(r\"$\\mathrm{d}N/\\mathrm{d}r~[\\mathrm{M}^{-1}]$\")\n",
    "axis[1].set_yticks([])\n",
    "axis[0].set_yticks([])\n"
   ]
  },
  {
   "cell_type": "code",
   "execution_count": null,
   "id": "8220d305",
   "metadata": {},
   "outputs": [
    {
     "ename": "TypeError",
     "evalue": "velocitySampling() missing 5 required positional arguments: 'DistFunc', 'Mt', 'Rc', 'rAll', and 'G'",
     "output_type": "error",
     "traceback": [
      "\u001b[31m---------------------------------------------------------------------------\u001b[39m",
      "\u001b[31mTypeError\u001b[39m                                 Traceback (most recent call last)",
      "\u001b[36mCell\u001b[39m\u001b[36m \u001b[39m\u001b[32mIn[94]\u001b[39m\u001b[32m, line 2\u001b[39m\n\u001b[32m      1\u001b[39m \u001b[38;5;66;03m# now show the sampling of the velocities \u001b[39;00m\n\u001b[32m----> \u001b[39m\u001b[32m2\u001b[39m \u001b[43mtstrippy\u001b[49m\u001b[43m.\u001b[49m\u001b[43mergodic\u001b[49m\u001b[43m.\u001b[49m\u001b[43mvelocitySampling\u001b[49m\u001b[43m(\u001b[49m\u001b[43m)\u001b[49m\n\u001b[32m      3\u001b[39m get_ipython().run_line_magic(\u001b[33m'\u001b[39m\u001b[33mpinfo\u001b[39m\u001b[33m'\u001b[39m, \u001b[33m'\u001b[39m\u001b[33mtstrippy.ergodic.DFPlummer\u001b[39m\u001b[33m'\u001b[39m)\n",
      "\u001b[31mTypeError\u001b[39m: velocitySampling() missing 5 required positional arguments: 'DistFunc', 'Mt', 'Rc', 'rAll', and 'G'"
     ]
    }
   ],
   "source": [
    "# now show the sampling of the velocities \n",
    "tstrippy.ergodic.velocitySampling()\n"
   ]
  },
  {
   "cell_type": "code",
   "execution_count": null,
   "id": "d22fc928",
   "metadata": {},
   "outputs": [],
   "source": []
  }
 ],
 "metadata": {
  "kernelspec": {
   "display_name": "thesis",
   "language": "python",
   "name": "python3"
  },
  "language_info": {
   "codemirror_mode": {
    "name": "ipython",
    "version": 3
   },
   "file_extension": ".py",
   "mimetype": "text/x-python",
   "name": "python",
   "nbconvert_exporter": "python",
   "pygments_lexer": "ipython3",
   "version": "3.11.12"
  }
 },
 "nbformat": 4,
 "nbformat_minor": 5
}
