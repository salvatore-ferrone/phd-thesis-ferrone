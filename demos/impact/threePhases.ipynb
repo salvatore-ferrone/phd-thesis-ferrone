{
 "cells": [
  {
   "cell_type": "code",
   "execution_count": 1,
   "metadata": {},
   "outputs": [],
   "source": [
    "import numpy as np \n",
    "import matplotlib.pyplot as plt\n",
    "from matplotlib import gridspec\n",
    "from ipywidgets import interact, FloatSlider\n",
    "import sympy as sp"
   ]
  },
  {
   "cell_type": "code",
   "execution_count": 2,
   "metadata": {},
   "outputs": [
    {
     "data": {
      "text/latex": [
       "$\\displaystyle \\left[\\begin{matrix}1 & 0 & 0 & 1\\\\0 & 1 & 0 & 2\\\\0 & 0 & 1 & -1\\end{matrix}\\right]$"
      ],
      "text/plain": [
       "Matrix([\n",
       "[1, 0, 0,  1],\n",
       "[0, 1, 0,  2],\n",
       "[0, 0, 1, -1]])"
      ]
     },
     "metadata": {},
     "output_type": "display_data"
    }
   ],
   "source": [
    "# how to de-dimensionalize the problem?\n",
    "import sympy as sp\n",
    "# let the fundamental units be R,V, and G\n",
    "\n",
    "Rc      =   sp.Matrix([1, 0, 0])\n",
    "Vc      =   sp.Matrix([0, 1, 0])\n",
    "G       =   sp.Matrix([0, 0, 1])\n",
    "M       =   sp.Matrix([1, 2, -1])\n",
    "\n",
    "B=sp.Matrix(Rc.row_join(Vc).row_join(G).row_join(M))\n",
    "display(B)"
   ]
  },
  {
   "cell_type": "code",
   "execution_count": 3,
   "metadata": {},
   "outputs": [
    {
     "data": {
      "text/latex": [
       "$\\displaystyle \\left[\\begin{matrix}-1\\\\-2\\\\1\\\\1\\end{matrix}\\right]$"
      ],
      "text/plain": [
       "Matrix([\n",
       "[-1],\n",
       "[-2],\n",
       "[ 1],\n",
       "[ 1]])"
      ]
     },
     "metadata": {},
     "output_type": "display_data"
    }
   ],
   "source": [
    "display(B.nullspace()[0])"
   ]
  },
  {
   "cell_type": "markdown",
   "metadata": {},
   "source": [
    "### non-dimensional number\n",
    "\n",
    "$ \\Pi_1 = \\frac{GM_c}{R_c V_c^2}$\n",
    "\n",
    "which basically tells us, the closer, slower, and more massive we are, the larger the change in velocity. It scales qudratically with velocity, which is cool"
   ]
  },
  {
   "cell_type": "markdown",
   "metadata": {},
   "source": [
    "$$ \\Delta v_ {x} = \\frac {2GM(bw^ {2}\\cos \\alpha + yw_ {\\bot }w_ {\\parallel}\\sin \\alpha )}{w((b^ {2}+r_ {s}^ {2})w^ {2}+w_ {\\bot}^ {2}y^ {2})} $$\n",
    "\n",
    " \n",
    "$$ \\Delta v_ {y}  =- \\frac{ 2GMw_{\\bot}^ {2} y}{w(( b^ {2} + r_s^ {2} ) y^{2} + y^2 w_{\\bot}^ {2}) }$$\n",
    "\n",
    "<!-- $$ \\Delta $ $ v_ {z} $ = $ \\frac {2GM(bw^ {2}\\sin \\alpha -yw_ {\\bot }w_ {\\parallel}\\cos \\alpha )}{w((b^ {2}+r_ {s}^ {2})w^ {2}+w_ {\\parallel}^ {2}y^ {2})} $$ -->\n",
    "\n",
    "$$ \\Delta v_ {z} = \\frac {2GM(bw^ {2}\\sin \\alpha -yw_ {\\bot }w_ {\\parallel}\\cos \\alpha )}{w((b^ {2}+r_ {s}^ {2})w^ {2}+w_ {\\parallel}^ {2}y^ {2})} $$\n",
    "\n"
   ]
  },
  {
   "cell_type": "markdown",
   "metadata": {},
   "source": [
    "the critical points\n",
    "\n",
    "$$ \\delta v_{y,\\text{max}}=\\frac{GMw_{\\bot}}{w^2\\sqrt{b^2+r^2}} $$\n",
    "\n",
    "$$ y_{fwhm} = \\frac{3.5w\\sqrt{b^2+r^2}}{w_{\\bot}} $$\n",
    "\n",
    "$$ y_{\\text{max prop}} = \\frac{w\\sqrt{b^2+r^2}}{w_{\\bot}} $$"
   ]
  },
  {
   "cell_type": "code",
   "execution_count": 4,
   "metadata": {},
   "outputs": [],
   "source": [
    "def get_kick_velocity(PI1,M,b,alpha,y,Wperp,Wpar,Rs):\n",
    "    \"\"\" \n",
    "    the changes in velocoity of the particle due to the gravitational force of da passage\n",
    "    \"\"\"\n",
    "    Wmag=np.sqrt(Wperp**2+Wpar**2)\n",
    "    term1 = b*(Wmag**2)*np.cos(alpha)\n",
    "    term2 = y*Wperp*Wpar*np.sin(alpha)\n",
    "    term3 = (b**2 + Rs**2)*(Wmag**2)\n",
    "    term4 = (Wperp**2)*(y**2)\n",
    "\n",
    "    denominator = Wmag*(term3+term4)\n",
    "\n",
    "    dX= 2*PI1*M*(term1+term2)/denominator\n",
    "    dY=-2*PI1*(M*(Wperp**2)*y)/denominator\n",
    "    # re-arrange the numerator for dZ    \n",
    "    term1= (b*Wmag**2*np.sin(alpha))\n",
    "    term2= y*Wperp*Wpar*np.cos(alpha)\n",
    "    dZ= 2*PI1*M*(term1-term2)/denominator\n",
    "    return np.array([dX,dY,dZ])"
   ]
  },
  {
   "cell_type": "code",
   "execution_count": 5,
   "metadata": {},
   "outputs": [],
   "source": [
    "def get_critical_points(PI1,M,b,Wperp,Wpar,Rs):\n",
    "    \"\"\" \n",
    "    From Figure 3\n",
    "    \"\"\"\n",
    "    W=np.sqrt(Wperp**2+Wpar**2)\n",
    "    dVmax=PI1 * M * Wperp / (W**2 * np.sqrt( Rs**2 + b**2))\n",
    "    y_cord= (W/Wperp)*np.sqrt(Rs**2 + b**2)\n",
    "    half_width = 3.5 * W * np.sqrt(Rs**2 + b**2) / (Wperp)\n",
    "    return dVmax, y_cord, half_width"
   ]
  },
  {
   "cell_type": "code",
   "execution_count": 6,
   "metadata": {},
   "outputs": [],
   "source": [
    "def plot_three_phases(axis,b, alpha, Wperp, Wpar):\n",
    "    # make vector per impact parameter\n",
    "    B = np.array([b*np.cos(alpha),0,b*np.sin(alpha)])\n",
    "\n",
    "    # Define the line for the perturber\n",
    "    W=np.array([-Wperp*np.sin(alpha),Wpar,Wperp*np.cos(alpha)])\n",
    "    Wnorm=W/np.linalg.norm(W)\n",
    "    \n",
    "    # find where the line intersects the x-y plane for clarity\n",
    "    t_inter = -B[2]/Wnorm[2]\n",
    "\n",
    "    # make time array for the line\n",
    "    t = np.linspace(-t_inter,t_inter,10)\n",
    "    intersection_point=np.array([Wnorm[0]*t_inter + B[0],Wnorm[1]*t_inter+B[1],Wnorm[2]*t_inter+B[2]])    \n",
    "    # make a parametric line for W\n",
    "    Wline = np.array([Wnorm[0]*t + B[0],Wnorm[1]*t+B[1],Wnorm[2]*t+B[2]])\n",
    "\n",
    "    # find the position of the particle at that time\n",
    "    \n",
    "    # Define the parameters for the arc\n",
    "    radius = np.linalg.norm(B)/2\n",
    "    theta = np.linspace(0, alpha, 100)\n",
    "\n",
    "    # Parametric equations for the 3D arc\n",
    "    x_arc = radius * np.cos(theta)\n",
    "    y_arc = radius * np.sin(theta) * np.cos(np.arccos(B[1] / np.linalg.norm(B[1:])))\n",
    "    z_arc = radius * np.sin(theta) * np.sin(np.arccos(B[1] / np.linalg.norm(B[1:])))\n",
    "\n",
    "\n",
    "\n",
    "    limit=1\n",
    "    # Plot the X, Y, and Z coordinate axes\n",
    "    axis.plot3D([0, limit], [0, 0], [0, 0], 'k',)\n",
    "    axis.plot3D([0, 0], [0, limit], [0, 0], 'k',)\n",
    "    axis.plot3D([0, 0], [0, 0], [0, limit], 'k',)\n",
    "\n",
    "    # Add x-y-z axis labels\n",
    "    axis.text(limit, 0, 0, 'X', color='k')\n",
    "    axis.text(0, limit, 0, 'Y', color='k')\n",
    "    axis.text(0, 0, limit, 'Z', color='k')\n",
    "\n",
    "    # Plot the vector B\n",
    "    B_handle = axis.quiver(0, 0, 0, B[0], B[1], B[2], color='r', label='B')\n",
    "\n",
    "    # Add a label for the vector B\n",
    "    axis.text(B[0], B[1], B[2], 'b', color='r')\n",
    "\n",
    "    arc_handle = axis.plot(x_arc,y_arc,z_arc)\n",
    "\n",
    "    axis.text(x_arc.mean(),y_arc.mean(),z_arc.mean(),r'$\\alpha$',color='b')\n",
    "\n",
    "    # plot the line W\n",
    "    Wline_handle = axis.plot(Wline[0],Wline[1],Wline[2],'b')\n",
    "\n",
    "\n",
    "    # Calculate the intersection point of the line W with the xy-plane\n",
    "\n",
    "    # Plot the line from the intersection point to the xy-plane\n",
    "    axis.plot3D([intersection_point[0], intersection_point[0]], [0, intersection_point[1]], [0, 0], 'k--')\n",
    "\n",
    "    # Update the plot\n",
    "    # plt.show()\n",
    "    \n",
    "    axis.scatter(intersection_point[0], intersection_point[1], intersection_point[2], color='k')\n",
    "    # ax.plot([intersection_point[0],intersection_point[0]],[0,0],[0,intersection_point[2]],'k--')\n",
    "\n",
    "\n",
    "    axis.set_xlim(-limit, limit)\n",
    "    axis.set_ylim(-limit, limit)\n",
    "    axis.set_zlim(-limit, limit)\n",
    "    # Turn off the axis panes\n",
    "    axis.axis('off')\n",
    "\n",
    "    # Return the plot handles\n",
    "    return axis, B_handle, arc_handle, Wline_handle"
   ]
  },
  {
   "cell_type": "code",
   "execution_count": 7,
   "metadata": {},
   "outputs": [
    {
     "data": {
      "application/vnd.jupyter.widget-view+json": {
       "model_id": "a0e88dc6bf40400d867091b62f4b30e8",
       "version_major": 2,
       "version_minor": 0
      },
      "text/plain": [
       "interactive(children=(FloatSlider(value=2.0, description='PI1', min=0.01), FloatSlider(value=1.0, description=…"
      ]
     },
     "metadata": {},
     "output_type": "display_data"
    },
    {
     "data": {
      "text/plain": [
       "<function __main__.update_figure(PI1, M, b, alpha, Wperp, Wpar, Rs)>"
      ]
     },
     "execution_count": 7,
     "metadata": {},
     "output_type": "execute_result"
    }
   ],
   "source": [
    "def update_figure(PI1,M,b,alpha,Wperp,Wpar,Rs,):\n",
    "    # ylims=(-50,50)\n",
    "    xlims=(-1,1)\n",
    "    fig=plt.figure(figsize=(15, 4))\n",
    "    fig.clf()\n",
    "    y=np.linspace(-50,50,1000)\n",
    "    dV=get_kick_velocity(PI1,M,b,alpha,y,Wperp,Wpar,Rs)\n",
    "    \n",
    "    # Create a new figure\n",
    "    # fig = plt.figure(figsize=(15, 4))\n",
    "\n",
    "    # Add two 3D subplots to the figure using the grid layout\n",
    "    gs = gridspec.GridSpec(1, 2, width_ratios=[1, 2], wspace=0)\n",
    "    axes=[]\n",
    "    axes.append(fig.add_subplot(gs[0]))\n",
    "    axes.append(fig.add_subplot(gs[1], projection='3d'))\n",
    "\n",
    "    non_dimen_text = r\"$\\Pi$: $\\frac{{GM_c}}{{V_c^2 R_c}}$ = {:2.1f}\".format(PI1)\n",
    "    axes[1].text(-1.5, 0.5,0, non_dimen_text, fontsize=18, ha='center')\n",
    "\n",
    "    plot_three_phases(axes[1], b, alpha, Wperp, Wpar)\n",
    "    \n",
    "    # get the critical points\n",
    "    dVmax, y_cord, half_width = get_critical_points(PI1,M,b,Wperp,Wpar,Rs)\n",
    "    \n",
    "    # plot the critical points\n",
    "    markerline, stemlines, baseline=axes[0].stem([y_cord,-y_cord], [-dVmax,dVmax], linefmt='k--', markerfmt='ko', basefmt='k-',)\n",
    "    plt.setp(stemlines, 'linewidth', 0.5)\n",
    "    xrange=np.linspace(-half_width/2,half_width/2,2)-2*y_cord\n",
    "    axes[0].plot(xrange,[dVmax/2,dVmax/2],'k--')\n",
    "    xrange=np.linspace(-half_width/2,half_width/2,2)+2*y_cord\n",
    "    axes[0].plot(xrange,[-dVmax/2,-dVmax/2],'k--')\n",
    "    # axes[0].plot([-(y_cord-half_width),-(y_cord+half_width)],[-dVmax/2,-dVmax/2],'k--')\n",
    "    axes[0].plot(y, dV[0], label='dVx')\n",
    "    axes[0].plot(y, dV[1], label='dVy')\n",
    "    axes[0].plot(y, dV[2], label='dVz')\n",
    "    axes[0].legend()\n",
    "    axes[0].set_xlabel('y [$x_c$]')\n",
    "    axes[0].set_ylabel('dV [$v_c$]')\n",
    "\n",
    "    title_text=r\"b:{:2.2f},$\\alpha$:{:2.0f}$^{{\\circ}}$, $W_\\bot$:{:2.1f} $W_\\parallel${:2.1f}\".format(b,(180/np.pi)*alpha,Wperp,Wpar)\n",
    "    axes[0].set_title(title_text)\n",
    "\n",
    "\n",
    "    # figname=\"pi_{:2.1f}_b_{:2.2f}_alpha_{:2.0f}_Wperp_{:2.1f}_Wpar_{:2.1f}.png\".format(PI1,b,(180/np.pi)*alpha,Wperp,Wpar)\n",
    "    \n",
    "    # axes[0].set_xlim(xlims)\n",
    "    plt.show()\n",
    "    \n",
    "    \n",
    "PI1=2\n",
    "M=1\n",
    "b=0.5\n",
    "Wperp = 2\n",
    "Wpar = 2\n",
    "Rs = 1\n",
    "alpha = np.pi/4\n",
    "\n",
    "interact(update_figure,\n",
    "         PI1=FloatSlider(min=1e-2, max=100.0, step=0.1, value=PI1),\n",
    "         M=FloatSlider(min=0.0, max=10, step=0.1, value=M),\n",
    "         b=FloatSlider(min=1e-2, max=5.0, step=0.1, value=b),\n",
    "         alpha=FloatSlider(min=1e-2, max=2*np.pi, step=1/500, value=alpha),\n",
    "         Wperp=FloatSlider(min=0.0, max=2.0, step=0.1, value=Wperp),\n",
    "         Wpar=FloatSlider(min=0.0, max=2.0, step=0.1, value=Wpar),\n",
    "         Rs=FloatSlider(min=1e-2, max=5.0, step=0.1, value=Rs))"
   ]
  },
  {
   "cell_type": "markdown",
   "metadata": {},
   "source": [
    "make a set of initial conditions"
   ]
  },
  {
   "cell_type": "code",
   "execution_count": 8,
   "metadata": {},
   "outputs": [
    {
     "data": {
      "application/vnd.jupyter.widget-view+json": {
       "model_id": "44200334074140eca113ad982adb4cd0",
       "version_major": 2,
       "version_minor": 0
      },
      "text/plain": [
       "interactive(children=(FloatSlider(value=2.0, description='PI1', min=0.01), FloatSlider(value=1.0, description=…"
      ]
     },
     "metadata": {},
     "output_type": "display_data"
    },
    {
     "data": {
      "text/plain": [
       "<function __main__.update_figure(PI1, M, b, alpha, Wperp, Wpar, Rs)>"
      ]
     },
     "execution_count": 8,
     "metadata": {},
     "output_type": "execute_result"
    }
   ],
   "source": [
    "PI1=2\n",
    "M=1\n",
    "b=0.5\n",
    "Wperp = 2\n",
    "Wpar = 2\n",
    "Rs = 1\n",
    "alpha = np.pi/4\n",
    "\n",
    "interact(update_figure,\n",
    "         PI1=FloatSlider(min=1e-2, max=100.0, step=0.1, value=PI1),\n",
    "         M=FloatSlider(min=0.0, max=10, step=0.1, value=M),\n",
    "         b=FloatSlider(min=1e-2, max=5.0, step=0.1, value=b),\n",
    "         alpha=FloatSlider(min=1e-2, max=2*np.pi, step=1/500, value=alpha),\n",
    "         Wperp=FloatSlider(min=0.0, max=2.0, step=0.1, value=Wperp),\n",
    "         Wpar=FloatSlider(min=0.0, max=2.0, step=0.1, value=Wpar),\n",
    "         Rs=FloatSlider(min=1e-2, max=5.0, step=0.1, value=Rs))"
   ]
  },
  {
   "cell_type": "code",
   "execution_count": 9,
   "metadata": {},
   "outputs": [
    {
     "data": {
      "application/vnd.jupyter.widget-view+json": {
       "model_id": "89eaf8ab8b684cbc80877c0b5f93d5bc",
       "version_major": 2,
       "version_minor": 0
      },
      "text/plain": [
       "interactive(children=(FloatSlider(value=2.0, description='PI1', min=0.01), FloatSlider(value=1.0, description=…"
      ]
     },
     "metadata": {},
     "output_type": "display_data"
    },
    {
     "data": {
      "text/plain": [
       "<function __main__.update_figure(PI1, M, b, alpha, Wperp, Wpar, Rs)>"
      ]
     },
     "execution_count": 9,
     "metadata": {},
     "output_type": "execute_result"
    }
   ],
   "source": [
    "interact(update_figure,\n",
    "         PI1=FloatSlider(min=1e-2, max=100.0, step=0.1, value=PI1),\n",
    "         M=FloatSlider(min=0.0, max=10, step=0.1, value=M),\n",
    "         b=FloatSlider(min=1e-2, max=5.0, step=0.1, value=b),\n",
    "         alpha=FloatSlider(min=1e-2, max=2*np.pi, step=1/500, value=alpha),\n",
    "         Wperp=FloatSlider(min=0.0, max=2.0, step=0.1, value=Wperp),\n",
    "         Wpar=FloatSlider(min=0.0, max=2.0, step=0.1, value=Wpar),\n",
    "         Rs=FloatSlider(min=1e-2, max=5.0, step=0.1, value=Rs))"
   ]
  },
  {
   "cell_type": "markdown",
   "metadata": {},
   "source": [
    "# Range of validity \n",
    "The region over which the velocity kick occurs must be much smaller than the orbital radius\n",
    "$$ \\frac{W}{W_\\bot} \\sqrt{b^2 + r_s^2} <<1 $$\n",
    "\n",
    "$$ \\sqrt{1 + \\left(\\frac{W_{\\parallel}}{W_\\bot}\\right)^2} \\sqrt{b^2 + r_s^2} << r_0 $$\n",
    "\n",
    "where $r_0$ is the orbital radius. \n",
    "\n",
    "The time of the interaction must be very small compared to the orbital time\n",
    "\n",
    "$$ \\frac{\\sqrt{b^2 + r_s^2}}{W_\\bot} << \\frac{r_0}{v_y} $$"
   ]
  },
  {
   "cell_type": "code",
   "execution_count": null,
   "metadata": {},
   "outputs": [],
   "source": []
  },
  {
   "cell_type": "markdown",
   "metadata": {},
   "source": [
    "## $$ \\nabla^2 \\left(\\phi_\\mathrm{disk_0}+\\phi_\\mathrm{disk_0}+\\phi_\\mathrm{halo} \\right)=4\\pi G\\left(\\rho_\\mathrm{disk_0} + \\rho_\\mathrm{disk_1} + \\rho_\\mathrm{halo} \\right) $$ "
   ]
  },
  {
   "cell_type": "markdown",
   "metadata": {},
   "source": [
    "## $$ \\vec{a}_{GC,j}  = -\\nabla \\Phi_{\\textrm{MW}} + \\sum_{i,i!=j} \\frac{GM_i}{\\delta |R_{ij}|^{3}}\\delta\\vec{R}_{ij}$$"
   ]
  },
  {
   "cell_type": "markdown",
   "metadata": {},
   "source": []
  },
  {
   "cell_type": "markdown",
   "metadata": {},
   "source": [
    "## $$ \\vec{a}_p  = -\\nabla \\Phi_{\\textrm{MW}} + G M \\frac{\\vec{r}_{GC}(t)-\\vec{r}_p}{\\left(b^2 + |\\vec{r}_p-\\vec{r}_{GC}(t)|^2\\right)^{3/2}} + \\sum_{i,i!=j} \\frac{GM_i}{\\delta |R_{ij}|^{3}}\\delta\\vec{R}_{ij}$$"
   ]
  },
  {
   "cell_type": "markdown",
   "metadata": {},
   "source": [
    "## $$ n\\left(r\\right) $$\n",
    "## $$ N\\left(M\\right) $$\n",
    "## $$ b $$\n",
    "## $$ v_\\bot $$\n",
    "## $$ f\\left(v_\\bot\\right) $$\n",
    "## $$ M $$\n",
    "## $$ \\mathcal{R}_{\\bigcup} (r)$$"
   ]
  },
  {
   "cell_type": "markdown",
   "metadata": {},
   "source": []
  }
 ],
 "metadata": {
  "kernelspec": {
   "display_name": "thesis",
   "language": "python",
   "name": "python3"
  },
  "language_info": {
   "codemirror_mode": {
    "name": "ipython",
    "version": 3
   },
   "file_extension": ".py",
   "mimetype": "text/x-python",
   "name": "python",
   "nbconvert_exporter": "python",
   "pygments_lexer": "ipython3",
   "version": "3.11.12"
  }
 },
 "nbformat": 4,
 "nbformat_minor": 2
}
