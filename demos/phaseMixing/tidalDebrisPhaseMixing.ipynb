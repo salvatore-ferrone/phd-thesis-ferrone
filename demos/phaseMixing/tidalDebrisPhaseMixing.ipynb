{
 "cells": [
  {
   "cell_type": "code",
   "execution_count": 9,
   "id": "9790206c",
   "metadata": {},
   "outputs": [],
   "source": [
    "import numpy as np \n",
    "import matplotlib.pyplot as plt\n",
    "import tstrippy\n",
    "from astropy import units as u\n",
    "from astropy import coordinates as coord\n",
    "import matplotlib as mpl\n",
    "import tidalDebrisPhaseMixing as TDPM\n",
    "mpl.rcParams['text.usetex'] = True\n",
    "import datetime"
   ]
  },
  {
   "cell_type": "markdown",
   "id": "6fb1823a",
   "metadata": {},
   "source": [
    "## Pick a random cluster. In one case, show it phase mix without self gravity, in another case turn gravity on "
   ]
  },
  {
   "cell_type": "code",
   "execution_count": 2,
   "id": "ebff31ea",
   "metadata": {},
   "outputs": [],
   "source": [
    "# parameters to pick \n",
    "NP=int(1e2)\n",
    "GCname = \"NGC5139\"\n",
    "# laod data\n",
    "clusters=tstrippy.Parsers.baumgardtMWGCs()\n",
    "mean,cov=clusters.getGCCovarianceMatrix(GCname)\n",
    "RA,DEC,Rsun,RV,mualpha,mu_delta,Mass,rh_m=mean\n",
    "MWparams = tstrippy.Parsers.pouliasis2017pii()"
   ]
  },
  {
   "cell_type": "code",
   "execution_count": 3,
   "id": "95fe2bdd",
   "metadata": {},
   "outputs": [],
   "source": [
    "# put the cluster in the MW \n",
    "skycoords=coord.sky_coordinate.SkyCoord(\n",
    "    ra = RA * u.deg,\n",
    "    dec = DEC * u.deg,\n",
    "    distance = Rsun * u.kpc,\n",
    "    radial_velocity = RV * u.km / u.s,\n",
    "    pm_ra_cosdec = mualpha * u.mas / u.yr,\n",
    "    pm_dec = mu_delta * u.mas / u.yr,)\n",
    "galactocentric=skycoords.transform_to(coord.Galactocentric)"
   ]
  },
  {
   "cell_type": "code",
   "execution_count": 4,
   "id": "0a21a2b2",
   "metadata": {},
   "outputs": [
    {
     "name": "stdout",
     "output_type": "stream",
     "text": [
      "dynamical time 0.08901507188023168 Gyr\n"
     ]
    }
   ],
   "source": [
    "# estimate the dynamical time \n",
    "ax,ay,az,_ = tstrippy.potentials.pouliasis2017pii(MWparams,galactocentric.x.to(u.kpc).value,\n",
    "                                                galactocentric.y.to(u.kpc).value,\n",
    "                                                galactocentric.z.to(u.kpc).value)\n",
    "gradPhi = np.sqrt(ax**2 + ay**2 + az**2)\n",
    "r_gal = np.sqrt(galactocentric.x.to(u.kpc).value**2 +\n",
    "                galactocentric.y.to(u.kpc).value**2 +\n",
    "                galactocentric.z.to(u.kpc).value**2)\n",
    "t_dyn = (1/2) * np.sqrt(r_gal / gradPhi[0])\n",
    "print(\"dynamical time\", t_dyn*np.pi*2, \"Gyr\")\n"
   ]
  },
  {
   "cell_type": "code",
   "execution_count": 5,
   "id": "3a4b8760",
   "metadata": {},
   "outputs": [
    {
     "name": "stdout",
     "output_type": "stream",
     "text": [
      "Integration time =  1 Gyr\n",
      "Crossing time =  258.3883467157559 Myr\n",
      "NSTEP 387014\n",
      "dt =  2583.883467157559 years\n"
     ]
    }
   ],
   "source": [
    "# get the crossing time within the cluster\n",
    "G = MWparams[0]\n",
    "tcross = np.sqrt(rh_m**3/(G*Mass))\n",
    "dt = tcross/100\n",
    "integration_time = 1\n",
    "NSTEP  = int(integration_time/dt)\n",
    "integrationparamsCluster = [0,dt,NSTEP]\n",
    "print(\"Integration time = \", integration_time, \"Gyr\")\n",
    "print(\"Crossing time = \", tcross*1e6, \"Myr\")\n",
    "print(\"NSTEP\", NSTEP)\n",
    "print(\"dt = \", dt*1e9, \"years\")"
   ]
  },
  {
   "cell_type": "code",
   "execution_count": 6,
   "id": "114a601c",
   "metadata": {},
   "outputs": [],
   "source": [
    "# INTEGRATE THE HOST GLOBULAR CLUSTER\n",
    "initialkinematics = [galactocentric.x.to(u.kpc).value,\n",
    "                     galactocentric.y.to(u.kpc).value,\n",
    "                     galactocentric.z.to(u.kpc).value,\n",
    "                     galactocentric.v_x.to(u.km/u.s).value,\n",
    "                     galactocentric.v_y.to(u.km/u.s).value,\n",
    "                     galactocentric.v_z.to(u.km/u.s).value]\n",
    "staticgalaxy = [\"pouliasis2017pii\",MWparams]\n",
    "# let's see how this goes in any case \n",
    "# start the integration \n",
    "tstrippy.integrator.deallocate()\n",
    "tstrippy.integrator.setstaticgalaxy(*staticgalaxy)\n",
    "tstrippy.integrator.setinitialkinematics(*initialkinematics)\n",
    "tstrippy.integrator.setintegrationparameters(*integrationparamsCluster)\n",
    "tstrippy.integrator.setbackwardorbit()\n",
    "xtGC,ytGC,ztGC,vxtGC,vytGC,vztGC=tstrippy.integrator.leapfrogintime(NSTEP,1)\n",
    "timestamps = tstrippy.integrator.timestamps.copy() \n",
    "tstrippy.integrator.deallocate()                    \n",
    "# flip everything \n",
    "xtGC = xtGC[0,::-1]\n",
    "ytGC = ytGC[0,::-1]\n",
    "ztGC = ztGC[0,::-1]\n",
    "vxtGC = -vxtGC[0,::-1]\n",
    "vytGC = -vytGC[0,::-1]\n",
    "vztGC = -vztGC[0,::-1]\n",
    "timestamps = timestamps[::-1]"
   ]
  },
  {
   "cell_type": "code",
   "execution_count": 7,
   "id": "dbe1e390",
   "metadata": {},
   "outputs": [],
   "source": [
    "# extract the cluster's initial conditions \n",
    "x0,y0,z0 = xtGC[0],ytGC[0],ztGC[0]\n",
    "vx0,vy0,vz0 = -vxtGC[0],-vytGC[0],-vztGC[0]\n",
    "# create a plummer sphere\n",
    "rplum=tstrippy.ergodic.convertHalfMassRadiusToPlummerRadius(rh_m)\n",
    "xp,yp,zp,vxp,vyp,vzp=tstrippy.ergodic.isotropicplummer(MWparams[0],Mass,rh_m,NP)\n",
    "# place the particles in the cluster's frame\n",
    "xpp,ypp,zpp,vxpp,vypp,vzpp = xp+x0,yp+y0,zp+z0,vxp+vx0,vyp+vy0,vzp+vz0"
   ]
  },
  {
   "cell_type": "code",
   "execution_count": null,
   "id": "69ba2a33",
   "metadata": {},
   "outputs": [],
   "source": [
    "initialkinematics = [xpp,ypp,zpp,vxpp,vypp,vzpp]\n",
    "# set the initial conditions for the particles\n",
    "integrationparamsParticles = [timestamps[0],dt,NSTEP]\n",
    "hostperturber=[timestamps, xtGC, ytGC, ztGC, vxtGC, vytGC, vztGC, Mass, rplum]\n",
    "startime=datetime.datetime.now()\n",
    "TDPM.integrate_particles(staticgalaxy,integrationparamsParticles,initialkinematics,hostperturber)\n",
    "endtime=datetime.datetime.now()\n",
    "print(\"Integration took\", endtime-starttime, \"seconds\")"
   ]
  },
  {
   "cell_type": "code",
   "execution_count": null,
   "id": "62223126",
   "metadata": {},
   "outputs": [],
   "source": []
  },
  {
   "cell_type": "code",
   "execution_count": null,
   "id": "9929e2d4",
   "metadata": {},
   "outputs": [
    {
     "name": "stdout",
     "output_type": "stream",
     "text": [
      "\u001b[31mSignature:\u001b[39m\n",
      "TDPM.integrate_particles(\n",
      "    staticgalaxy,\n",
      "    integrationparams,\n",
      "    initialkinematics,\n",
      "    hostperturber,\n",
      ")\n",
      "\u001b[31mDocstring:\u001b[39m <no docstring>\n",
      "\u001b[31mFile:\u001b[39m      ~/repos/phd-thesis-ferrone/demos/phaseMixing/tidalDebrisPhaseMixing.py\n",
      "\u001b[31mType:\u001b[39m      function"
     ]
    }
   ],
   "source": []
  },
  {
   "cell_type": "code",
   "execution_count": 23,
   "id": "50e04610",
   "metadata": {},
   "outputs": [
    {
     "name": "stdout",
     "output_type": "stream",
     "text": [
      "3480.5919742151004\n",
      "3480.5919742151004\n",
      "estimate the miximg time  1.534236690793534 Gyr\n"
     ]
    }
   ],
   "source": [
    "# measure the distribution of energy of all the particles \n",
    "T = 0.5 * (vxpp**2 + vypp**2 + vzpp**2)\n",
    "_,_,_,U = tstrippy.potentials.pouliasis2017pii(MWparams,xpp,ypp,zpp)\n",
    "E = T + U\n",
    "dE = 2*np.std(E)\n",
    "meanE = np.mean(E)\n",
    "print(dE)\n",
    "# dE = np.min(E) - np.max(E)\n",
    "print(dE)\n",
    "mixingtime = 2*np.pi*t_dyn*np.abs(meanE/(3*dE))\n",
    "print(\"estimate the miximg time \",mixingtime, \"Gyr\")\n"
   ]
  },
  {
   "cell_type": "code",
   "execution_count": null,
   "id": "d8f64a11",
   "metadata": {},
   "outputs": [],
   "source": []
  },
  {
   "cell_type": "code",
   "execution_count": null,
   "id": "099ce07c",
   "metadata": {},
   "outputs": [],
   "source": [
    "\n",
    "NSTEP = int(integrationparams[2])\n",
    "NPARTICLES = len(initialkinematics[0])\n",
    "tstrippy.integrator.deallocate()\n",
    "tstrippy.integrator.setstaticgalaxy(*staticgalaxy)\n",
    "tstrippy.integrator.setinitialkinematics(*initialkinematics)\n",
    "tstrippy.integrator.setintegrationparameters(*integrationparams)\n",
    "tstrippy.integrator.inithostperturber(*hostperturber)\n",
    "xt,yt,zt,vxt,vyt,vzt=tstrippy.integrator.leapfrogintime(NSTEP,NPARTICLES)\n",
    "timestamps = tstrippy.integrator.timestamps.copy() \n",
    "tstrippy.integrator.deallocate()\n"
   ]
  },
  {
   "cell_type": "code",
   "execution_count": null,
   "id": "b94b67f2",
   "metadata": {},
   "outputs": [],
   "source": []
  },
  {
   "cell_type": "code",
   "execution_count": null,
   "id": "a13728c7",
   "metadata": {},
   "outputs": [
    {
     "name": "stdout",
     "output_type": "stream",
     "text": [
      "Using  6 CPUs\n",
      "Finished integrating batches\n",
      "Time taken for integration: 0:02:50.360699\n"
     ]
    }
   ],
   "source": [
    "import datetime\n",
    "import multiprocessing as mp\n",
    "# integrate the particles in batches\n",
    "ncpu = mp.cpu_count() - 2 \n",
    "nbatches = ncpu\n",
    "batchsize = int(NP/nbatches)\n",
    "\n",
    "print(\"Using \", ncpu, \"CPUs\")\n",
    "batches = []\n",
    "for i in range(nbatches):\n",
    "    start = i * batchsize\n",
    "    end = (i + 1) * batchsize\n",
    "    if i == nbatches - 1:\n",
    "        end = NP  # last batch may be smaller\n",
    "    batch_kinematics = [\n",
    "        xpp[start:end], ypp[start:end], zpp[start:end],\n",
    "        vxpp[start:end], vyp[start:end], vzpp[start:end]\n",
    "    ]\n",
    "    batches.append(batch_kinematics)\n",
    "\n",
    "start_time = datetime.datetime.now()\n",
    "arg_list = [\n",
    "    (staticgalaxy, integrationparamsParticles, batch_kinematics, [timestamps, xtGC, ytGC, ztGC, vxtGC, vytGC, vztGC, Mass, rplum])\n",
    "    for batch_kinematics in batches\n",
    "]\n",
    "\n",
    "with mp.Pool(ncpu) as pool:\n",
    "    results = pool.starmap(TDPM.integrate_particles, arg_list)\n",
    "    print(\"Finished integrating batches\")\n",
    "end_time = datetime.datetime.now()\n",
    "print(\"Time taken for integration:\", end_time - start_time)"
   ]
  },
  {
   "cell_type": "code",
   "execution_count": 25,
   "id": "b86b6ab8",
   "metadata": {},
   "outputs": [],
   "source": [
    "# stack the results\n",
    "xt, yt, zt, vxt, vyt, vzt = np.zeros((NP,NSTEP+1)), np.zeros((NP,NSTEP+1)), np.zeros((NP,NSTEP+1)), np.zeros((NP,NSTEP+1)), np.zeros((NP,NSTEP+1)), np.zeros((NP,NSTEP+1))\n",
    "\n",
    "for i in range(len(results)):\n",
    "    start = i * batchsize\n",
    "    end = (i + 1) * batchsize \n",
    "    if i == nbatches - 1:\n",
    "        end = NP    \n",
    "    xt[start:end, :] = results[i][0]\n",
    "    yt[start:end, :] = results[i][1]\n",
    "    zt[start:end, :] = results[i][2]\n",
    "    vxt[start:end, :] = results[i][3]\n",
    "    vyt[start:end, :] = results[i][4]\n",
    "    vzt[start:end, :] = results[i][5]"
   ]
  },
  {
   "cell_type": "code",
   "execution_count": 26,
   "id": "fe7fa51e",
   "metadata": {},
   "outputs": [
    {
     "data": {
      "image/png": "[encoded data removed]",
      "text/plain": [
       "<Figure size 400x400 with 1 Axes>"
      ]
     },
     "metadata": {},
     "output_type": "display_data"
    }
   ],
   "source": [
    "fig,axis=plt.subplots(1, 1, figsize=(4, 4))\n",
    "axis.set_title(\"Tidal Debris Phase Mixing in \" + GCname)\n",
    "axis.set_xlabel(\"X (kpc)\")\n",
    "axis.set_ylabel(\"Y (kpc)\")\n",
    "axis.set_xlim(-10, 10)\n",
    "axis.set_ylim(-10, 10)\n",
    "axis.set_aspect('equal', adjustable='box')\n",
    "axis.plot(xtGC, ytGC, color='black', label='Host GC Orbit')\n",
    "index = 10000\n",
    "for i in range(len(results)):\n",
    "    axis.scatter(results[i][1][:, index], results[i][2][:, index], s=1,color='blue', alpha=0.1)\n",
    "\n"
   ]
  },
  {
   "cell_type": "code",
   "execution_count": null,
   "id": "6d2ba826",
   "metadata": {},
   "outputs": [],
   "source": []
  }
 ],
 "metadata": {
  "kernelspec": {
   "display_name": "thesis",
   "language": "python",
   "name": "python3"
  },
  "language_info": {
   "codemirror_mode": {
    "name": "ipython",
    "version": 3
   },
   "file_extension": ".py",
   "mimetype": "text/x-python",
   "name": "python",
   "nbconvert_exporter": "python",
   "pygments_lexer": "ipython3",
   "version": "3.11.12"
  }
 },
 "nbformat": 4,
 "nbformat_minor": 5
}
