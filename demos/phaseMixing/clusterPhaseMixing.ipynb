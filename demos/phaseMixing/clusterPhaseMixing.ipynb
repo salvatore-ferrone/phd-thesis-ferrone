{
 "cells": [
  {
   "cell_type": "code",
   "execution_count": 1,
   "id": "d9393dd4",
   "metadata": {},
   "outputs": [],
   "source": [
    "import numpy as np \n",
    "import matplotlib.pyplot as plt\n",
    "import tstrippy\n",
    "from astropy import units as u\n",
    "from astropy import coordinates as coord\n",
    "import matplotlib as mpl\n",
    "mpl.rcParams['text.usetex'] = True"
   ]
  },
  {
   "cell_type": "code",
   "execution_count": 49,
   "id": "e8394141",
   "metadata": {},
   "outputs": [
    {
     "data": {
      "text/latex": [
       "$\\displaystyle \\left\\{\\left( - \\frac{3}{2}, \\  1, \\  1\\right)\\right\\}$"
      ],
      "text/plain": [
       "{(-3/2, 1, 1)}"
      ]
     },
     "execution_count": 49,
     "metadata": {},
     "output_type": "execute_result"
    }
   ],
   "source": [
    "# what is the combination to get time interms of energy?\n",
    "import sympy as sp\n",
    "\n",
    "A = sp.Matrix([\n",
    "    [2, 3, 0],\n",
    "    [-2, -2, 0],\n",
    "    [0, -1, 1]\n",
    "])\n",
    "b = sp.Matrix([0, 1, 0])\n",
    "x, y, z = sp.symbols('x y z')\n",
    "solution = sp.linsolve((A, b), x, y, z)\n",
    "solution"
   ]
  },
  {
   "cell_type": "markdown",
   "id": "9a5be8ad",
   "metadata": {},
   "source": [
    "$$ T_{\\mathrm{dyn}}=\\frac{GM}{E^{3/2}}$$ \n",
    "\n",
    "$$ \\delta \\theta = \\delta \\omega \\times t$$\n",
    "\n",
    "$$ \\delta \\omega = 2\\pi \\left(\\frac{1}{T_1} - \\frac{1}{T_2} \\right)$$\n",
    "\n",
    "$$ T_{\\mathrm{phase}} = \\frac{1}{\\delta \\omega}$$\n",
    "\n",
    "$$ T_{1}=\\frac{GM}{\\left(E+\\delta E\\right)^{3/2}}$$ \n",
    "\n",
    "$$ T_{2}=\\frac{GM}{\\left(E-\\delta E\\right)^{3/2}}$$ \n",
    "\n",
    "$$ T_\\textrm{phase} = \\frac{T_1 T_2}{T_1 - T_2} $$\n",
    "\n",
    "Doing a taylor series and ignoring all terms higher than $\\mathcal{O}(2)$\n",
    "\n",
    "$$ T_\\mathrm{Phase} = T_\\mathrm{dyn}\\left(\\frac{E}{3\\delta E}\\right)"
   ]
  },
  {
   "cell_type": "markdown",
   "id": "5fd94d14",
   "metadata": {},
   "source": [
    "Phase mixing for a cluster WITHOUT a central force and then one with one"
   ]
  },
  {
   "cell_type": "code",
   "execution_count": 305,
   "id": "4fc3c8e6",
   "metadata": {},
   "outputs": [],
   "source": [
    "GCname = \"NGC6715\"\n",
    "clusters=tstrippy.Parsers.baumgardtMWGCs()\n",
    "mean,cov=clusters.getGCCovarianceMatrix(GCname)\n",
    "RA,DEC,Rsun,RV,mualpha,mu_delta,Mass,rh_m=mean\n",
    "# put this in galactocentric coordinates\n",
    "# put the coordinates on the sky \n",
    "skycoords=coord.sky_coordinate.SkyCoord(\n",
    "    ra = RA * u.deg,\n",
    "    dec = DEC * u.deg,\n",
    "    distance = Rsun * u.kpc,\n",
    "    radial_velocity = RV * u.km / u.s,\n",
    "    pm_ra_cosdec = mualpha * u.mas / u.yr,\n",
    "    pm_dec = mu_delta * u.mas / u.yr,)\n",
    "galactocentric=skycoords.transform_to(coord.Galactocentric)\n",
    "# extact the galacticentric coordinates\n",
    "xc,yc,zc = galactocentric.x.value, galactocentric.y.value, galactocentric.z.value\n",
    "vxc,vyc,vzc = galactocentric.v_x.value, galactocentric.v_y.value, galactocentric.v_z.value"
   ]
  },
  {
   "cell_type": "code",
   "execution_count": 317,
   "id": "9f378201",
   "metadata": {},
   "outputs": [],
   "source": [
    "MWparams = tstrippy.Parsers.pouliasis2017pii()\n",
    "rplum = tstrippy.ergodic.convertHalfMassRadiusToPlummerRadius(rh_m)\n",
    "plumParams = [MWparams[0],Mass,rplum]\n"
   ]
  },
  {
   "cell_type": "code",
   "execution_count": 307,
   "id": "4fd4c10f",
   "metadata": {},
   "outputs": [],
   "source": [
    "xp,yp,zp,vxp,vyp,vzp=tstrippy.ergodic.isotropicplummer(MWparams[0],Mass,rh_m,int(5e2))"
   ]
  },
  {
   "cell_type": "code",
   "execution_count": 308,
   "id": "29d373ac",
   "metadata": {},
   "outputs": [],
   "source": [
    "# Find the mixing time of the system\n",
    "_,_,_,phiMW=tstrippy.potentials.pouliasis2017pii(MWparams, xp+xc, yp+yc, zp+zc)\n",
    "_,_,_,phiGC=tstrippy.potentials.plummer(plumParams,xp,yp,zp)\n",
    "kineticEnergy = 0.5 * ((vxp+vxc)**2 + (vyp+vyc)**2 + (vzp+vzc)**2)\n",
    "totalEnergy = kineticEnergy + phiMW + phiGC\n",
    "# get the mean and spread of the total energy\n",
    "meanE = np.mean(totalEnergy)\n",
    "stdE = np.std(totalEnergy)\n"
   ]
  },
  {
   "cell_type": "code",
   "execution_count": 309,
   "id": "2f2ad8f2",
   "metadata": {},
   "outputs": [
    {
     "name": "stdout",
     "output_type": "stream",
     "text": [
      "force: 0.03753498752717843\n",
      "r/v 0.05913709652749826\n"
     ]
    }
   ],
   "source": [
    "# get the dynamical time \n",
    "ax,ay,ax,phiGC=tstrippy.potentials.pouliasis2017pii(MWparams, xc, yc, zc)\n",
    "force = np.sqrt(ax**2 + ay**2 + ax**2)\n",
    "tdyn = (1/2)*np.sqrt(rc/force[0])\n",
    "# measure it the other way too \n",
    "r = np.sqrt(xc**2 + yc**2 + zc**2)\n",
    "v = np.sqrt(vxc**2 + vyc**2 + vzc**2)\n",
    "tdyn2 = r / v\n",
    "print(\"force:\", tdyn)\n",
    "print(\"r/v\", tdyn2)\n"
   ]
  },
  {
   "cell_type": "code",
   "execution_count": 310,
   "id": "76dcb86c",
   "metadata": {},
   "outputs": [
    {
     "name": "stdout",
     "output_type": "stream",
     "text": [
      "NGC6715\n",
      "0.23583928213593655\n",
      "1.3090224629821419\n"
     ]
    }
   ],
   "source": [
    "# get the mixing time\n",
    "print(GCname)\n",
    "print(2*np.pi*tdyn)\n",
    "print(2*np.pi*np.abs(tdyn * (meanE/(3*stdE))))"
   ]
  },
  {
   "cell_type": "code",
   "execution_count": 313,
   "id": "6696bedd",
   "metadata": {},
   "outputs": [
    {
     "data": {
      "text/plain": [
       "np.float64(-0.06005480904141264)"
      ]
     },
     "execution_count": 313,
     "metadata": {},
     "output_type": "execute_result"
    }
   ],
   "source": [
    "stdE/meanE"
   ]
  },
  {
   "cell_type": "code",
   "execution_count": null,
   "id": "f822df8c",
   "metadata": {},
   "outputs": [],
   "source": []
  }
 ],
 "metadata": {
  "kernelspec": {
   "display_name": "thesis",
   "language": "python",
   "name": "python3"
  },
  "language_info": {
   "codemirror_mode": {
    "name": "ipython",
    "version": 3
   },
   "file_extension": ".py",
   "mimetype": "text/x-python",
   "name": "python",
   "nbconvert_exporter": "python",
   "pygments_lexer": "ipython3",
   "version": "3.11.12"
  }
 },
 "nbformat": 4,
 "nbformat_minor": 5
}
