{
 "cells": [
  {
   "cell_type": "code",
   "execution_count": null,
   "id": "0fb104d3",
   "metadata": {},
   "outputs": [],
   "source": [
    "import numpy as np \n",
    "import matplotlib.pyplot as plt\n",
    "import tstrippy\n",
    "from astropy import units as u\n",
    "from astropy import coordinates as coord\n",
    "import matplotlib as mpl\n",
    "mpl.rcParams['text.usetex'] = True"
   ]
  },
  {
   "cell_type": "markdown",
   "id": "ce0606b7",
   "metadata": {},
   "source": [
    "## Pick a globular cluster and show the phase mixing!!"
   ]
  },
  {
   "cell_type": "code",
   "execution_count": null,
   "id": "78e38710",
   "metadata": {},
   "outputs": [],
   "source": [
    "clusters=tstrippy.Parsers.baumgardtMWGCs()\n",
    "mean,cov=clusters.getGCCovarianceMatrix(\"Pal5\")\n",
    "RA,DEC,Rsun,RV,mualpha,mu_delta,Mass,rh_m=mean"
   ]
  },
  {
   "cell_type": "code",
   "execution_count": null,
   "id": "443645a8",
   "metadata": {},
   "outputs": [],
   "source": [
    "nsamples=100\n",
    "RA,DEC,Rsun,RV,mualpha,mu_delta,Mass,rh_m=np.random.multivariate_normal(mean,cov,nsamples).T"
   ]
  },
  {
   "cell_type": "code",
   "execution_count": null,
   "id": "3ca90850",
   "metadata": {},
   "outputs": [],
   "source": [
    "# put the coordinates on the sky \n",
    "skycoords=coord.sky_coordinate.SkyCoord(\n",
    "    ra = RA * u.deg,\n",
    "    dec = DEC * u.deg,\n",
    "    distance = Rsun * u.kpc,\n",
    "    radial_velocity = RV * u.km / u.s,\n",
    "    pm_ra_cosdec = mualpha * u.mas / u.yr,\n",
    "    pm_dec = mu_delta * u.mas / u.yr,)\n",
    "galactocentric=skycoords.transform_to(coord.Galactocentric)"
   ]
  },
  {
   "cell_type": "code",
   "execution_count": null,
   "id": "949d67ba",
   "metadata": {},
   "outputs": [],
   "source": [
    "# measure the energy of each \n",
    "MWparams=tstrippy.Parsers.pouliasis2017pii()\n",
    "_,_,_,phi = tstrippy.potentials.pouliasis2017pii(MWparams,galactocentric.x.value,galactocentric.y.value,galactocentric.z.value)\n",
    "T = 0.5 * (galactocentric.v_x.value**2 + galactocentric.v_y.value**2 + galactocentric.v_z.value**2)\n",
    "E = T + phi"
   ]
  },
  {
   "cell_type": "code",
   "execution_count": null,
   "id": "72170d66",
   "metadata": {},
   "outputs": [],
   "source": [
    "# sort based on the orbital energy\n",
    "sortidx = np.argsort(E)\n",
    "# sort the coordinates\n",
    "galactocentric = galactocentric[sortidx]"
   ]
  },
  {
   "cell_type": "code",
   "execution_count": null,
   "id": "98c308ff",
   "metadata": {},
   "outputs": [],
   "source": [
    "# get the dynamical time \n",
    "r = np.sqrt(galactocentric.x.value**2 + galactocentric.y.value**2 + galactocentric.z.value**2)\n",
    "v = np.sqrt(galactocentric.v_x.value**2 + galactocentric.v_y.value**2 + galactocentric.v_z.value**2)\n",
    "dynamical_time = r / v\n",
    "dtfrac = 1/1000\n",
    "norbits = 7\n",
    "t_char = np.mean(dynamical_time) \n",
    "integration_time = norbits*2*np.pi*t_char\n",
    "dt = dtfrac * t_char\n",
    "NSTEP = int(integration_time / dt)\n",
    "integrationparams = [0,dt,NSTEP]"
   ]
  },
  {
   "cell_type": "code",
   "execution_count": null,
   "id": "72d83fa0",
   "metadata": {},
   "outputs": [],
   "source": [
    "# set the initial kinematics \n",
    "x,y,z,= galactocentric.x.value,galactocentric.y.value,galactocentric.z.value\n",
    "v_x,v_y,v_z = galactocentric.v_x.value,galactocentric.v_y.value,galactocentric.v_z.value\n",
    "initialkinematics = [x,y,z,v_x,v_y,v_z]"
   ]
  },
  {
   "cell_type": "code",
   "execution_count": null,
   "id": "a5fc0394",
   "metadata": {},
   "outputs": [],
   "source": [
    "# start the integration \n",
    "tstrippy.integrator.deallocate()\n",
    "tstrippy.integrator.setstaticgalaxy(\"pouliasis2017pii\",MWparams)\n",
    "tstrippy.integrator.setinitialkinematics(*initialkinematics)\n",
    "tstrippy.integrator.setintegrationparameters(*integrationparams)\n",
    "xt,yt,zt,vxt,vyt,vzt=tstrippy.integrator.leapfrogintime(NSTEP,nsamples)\n",
    "timestamps = tstrippy.integrator.timestamps.copy()"
   ]
  },
  {
   "cell_type": "code",
   "execution_count": null,
   "id": "35e8b596",
   "metadata": {},
   "outputs": [],
   "source": [
    "Rt = np.sqrt(xt**2 + yt**2 )"
   ]
  },
  {
   "cell_type": "code",
   "execution_count": null,
   "id": "3b087236",
   "metadata": {},
   "outputs": [],
   "source": [
    "unitT = u.kpc/(u.km/u.s)\n",
    "toGyr=unitT.to(u.Gyr)\n",
    "nplots=6\n",
    "time_indexes = np.linspace(0,NSTEP-1,nplots).astype(int)\n",
    "# make it log space\n",
    "time_indexes = np.unique(np.logspace(0,np.log10(NSTEP-1),nplots).astype(int))\n",
    "# what if I want to do exponential spacing?\n",
    "time_indexes = np.unique(np.geomspace(1,NSTEP-1,nplots).astype(int))\n",
    "time_indexes"
   ]
  },
  {
   "cell_type": "code",
   "execution_count": null,
   "id": "ffe037a0",
   "metadata": {},
   "outputs": [],
   "source": [
    "# what if I want to do sqrt sampling?\n",
    "time_indexes = np.unique(np.sqrt(np.arange(1,NSTEP-1,nplots)).astype(int))\n",
    "time_indexes=np.linspace(0,np.sqrt(NSTEP-1),nplots).astype(int)**2"
   ]
  },
  {
   "cell_type": "code",
   "execution_count": null,
   "id": "e061edd2",
   "metadata": {},
   "outputs": [],
   "source": [
    "# get zmax\n",
    "zmax = np.max(np.abs(zt))\n",
    "colors = plt.cm.rainbow(np.linspace(0,1,nsamples))"
   ]
  },
  {
   "cell_type": "code",
   "execution_count": null,
   "id": "eb529969",
   "metadata": {},
   "outputs": [],
   "source": [
    "fig= plt.figure(figsize=(9,9))\n",
    "gs = mpl.gridspec.GridSpec(3, 4, height_ratios=[1, 1, 1], hspace=0.15,width_ratios=[1, 1,1, 1/25])\n",
    "ax1 = fig.add_subplot(gs[0, 0])\n",
    "ax2 = fig.add_subplot(gs[0, 1])\n",
    "ax3 = fig.add_subplot(gs[0, 2])\n",
    "ax4 = fig.add_subplot(gs[1, 0])\n",
    "ax5 = fig.add_subplot(gs[1, 1])\n",
    "ax6 = fig.add_subplot(gs[1, 2])\n",
    "ax7 = fig.add_subplot(gs[2, 0:3])\n",
    "caxis = fig.add_subplot(gs[:, 3])\n",
    "axes = [ax1, ax2, ax3, ax4, ax5, ax6]\n",
    "nplots = len(axes)\n",
    "txt = r\"$t = {0:.2f}~\\mathrm{{Gyr}}$\"\n",
    "labels = [r\"$\\mathrm{A}$\", r\"$\\mathrm{B}$\", r\"$\\mathrm{C}$\", r\"$\\mathrm{D}$\", r\"$\\mathrm{E}$\", r\"$\\mathrm{F}$\"]\n",
    "for i,ax in enumerate(axes):\n",
    "    idx = time_indexes[i]\n",
    "    ax.scatter(xt[:,idx],yt[:,idx],s=10,color=colors,alpha=1)\n",
    "    ax.set_xlim(-20,20)\n",
    "    ax.set_ylim(-20,20)\n",
    "    ax.set_aspect('equal', adjustable='box')\n",
    "    ax.set_xticks([])\n",
    "    ax.set_yticks([])\n",
    "    mytext = txt.format(toGyr*timestamps[idx])\n",
    "    ax.text(0.025, 0.025, mytext, transform=ax.transAxes, ha='left', va='bottom', fontsize=12)\n",
    "    ax7.vlines(toGyr*timestamps[idx],-20,20,color='k',linestyle='-',linewidth=1,zorder=nsamples+100)\n",
    "    # Add text with white background box\n",
    "    ha = \"right\" if i == nplots-1 else \"left\"\n",
    "    ax7.text(toGyr*timestamps[idx], 0.9*zmax, labels[i], ha=ha, va='top', fontsize=12, color='k',\n",
    "             bbox=dict(facecolor='white', alpha=1, edgecolor='none', pad=3))\n",
    "    ax.text(.025, 0.95, labels[i], transform=ax.transAxes, ha='left', va='top', fontsize=12, color='k',\n",
    "    )\n",
    "\n",
    "for i in range(nsamples):\n",
    "    ax7.plot(toGyr*timestamps,zt[i,:],color=colors[i],label=f\"Sample {i+1}\")\n",
    "    ax7.scatter(toGyr*timestamps[-1],zt[i,-1],marker='o',s=50,edgecolor=\"w\",facecolor=colors[i],zorder=nsamples+10)\n",
    "\n",
    "# pick some certain labels \n",
    "ax1.set_ylabel(r\"$y~[\\mathrm{kpc}]$\")\n",
    "ax4.set_ylabel(r\"$y~[\\mathrm{kpc}]$\")\n",
    "ax7.set_xlabel(r\"$\\mathrm{Time~[Gyr]}$\")\n",
    "ax7.set_ylabel(r\"$z~[\\mathrm{kpc}]$\")\n",
    "ax4.set_xlabel(r\"$x~[\\mathrm{kpc}]$\")\n",
    "ax5.set_xlabel(r\"$x~[\\mathrm{kpc}]$\")\n",
    "ax6.set_xlabel(r\"$x~[\\mathrm{kpc}]$\")\n",
    "ax1.set_yticks(np.arange(-20,21,8));\n",
    "ax4.set_yticks(np.arange(-20,21,8));\n",
    "ax4.set_xticks(np.arange(-20,21,8))\n",
    "ax5.set_xticks(np.arange(-20,21,8))\n",
    "ax6.set_xticks(np.arange(-20,21,8))\n",
    "# Move x-ticks to the top\n",
    "ax4.xaxis.tick_top()\n",
    "ax5.xaxis.tick_top()\n",
    "ax6.xaxis.tick_top()\n",
    "# Set x-ticks for top plots\n",
    "ax1.set_xticks(np.arange(-20,21,8))\n",
    "ax2.set_xticks(np.arange(-20,21,8))\n",
    "ax3.set_xticks(np.arange(-20,21,8))\n",
    "ax1.set_xticklabels([])\n",
    "ax2.set_xticklabels([])\n",
    "ax3.set_xticklabels([])\n",
    "# make the colorbar correspond to the energy \n",
    "norm = mpl.colors.Normalize(vmin=np.min(E)/1e5, vmax=np.max(E)/1e5)\n",
    "\n",
    "cmap = mpl.cm.rainbow\n",
    "sm = mpl.cm.ScalarMappable(norm=norm, cmap=cmap)\n",
    "sm.set_array([])  # Only needed for older versions of matplotlib\n",
    "# cbar = fig.colorbar(sm, ax=caxis, fraction=0.02, pad=0.1)\n",
    "cbar = fig.colorbar(sm, cax=caxis, orientation='vertical')\n",
    "ax7.set_xlim(toGyr*timestamps[0],toGyr*timestamps[-1])\n",
    "ax7.set_ylim(-zmax,zmax)\n",
    "cbar.set_label(r\"$E~[10^5\\mathrm{km^2/s^2}]$\", labelpad=15)\n",
    "ax1.set_title(r\"$\\mathrm{Phase-mixing}$\", fontsize=16)\n",
    "ax2.set_title(r\"$\\mathrm{of~Palomar~5's}$\", fontsize=16)\n",
    "ax3.set_title(r\"$\\mathrm{orbital~solutions}$\", fontsize=16)\n",
    "fig.savefig(\"../../tempImages/phase_mixing_palomar_5_orbital_solutions.png\", bbox_inches='tight', dpi=300)"
   ]
  }
 ],
 "metadata": {
  "kernelspec": {
   "display_name": "thesis",
   "language": "python",
   "name": "python3"
  },
  "language_info": {
   "codemirror_mode": {
    "name": "ipython",
    "version": 3
   },
   "file_extension": ".py",
   "mimetype": "text/x-python",
   "name": "python",
   "nbconvert_exporter": "python",
   "pygments_lexer": "ipython3",
   "version": "3.11.12"
  }
 },
 "nbformat": 4,
 "nbformat_minor": 5
}
