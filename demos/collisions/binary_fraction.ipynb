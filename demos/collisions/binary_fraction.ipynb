{
 "cells": [
  {
   "cell_type": "code",
   "execution_count": 1,
   "id": "e75acc97",
   "metadata": {},
   "outputs": [],
   "source": [
    "import numpy as np \n",
    "import tstrippy"
   ]
  },
  {
   "cell_type": "code",
   "execution_count": 2,
   "id": "d579c680",
   "metadata": {},
   "outputs": [],
   "source": [
    "# how many binaries are there?"
   ]
  },
  {
   "cell_type": "code",
   "execution_count": 53,
   "id": "44024a80",
   "metadata": {},
   "outputs": [],
   "source": [
    "G,M,a,NP=1,1,1,1000\n",
    "m = M/NP\n",
    "halfmassradius=1/tstrippy.ergodic.convertHalfMassRadiusToPlummerRadius(a)\n",
    "x,y,z,vx,vy,vz = tstrippy.ergodic.isotropicplummer(G,M,halfmassradius,NP)"
   ]
  },
  {
   "cell_type": "code",
   "execution_count": 65,
   "id": "535528c0",
   "metadata": {},
   "outputs": [
    {
     "name": "stdout",
     "output_type": "stream",
     "text": [
      "bound 0\n"
     ]
    },
    {
     "name": "stderr",
     "output_type": "stream",
     "text": [
      "/var/folders/vt/72vlp8hj577dnzr1gl35j41c0000gn/T/ipykernel_8384/1501629195.py:9: RuntimeWarning: divide by zero encountered in divide\n",
      "  phi = -G*m*m/dr\n"
     ]
    }
   ],
   "source": [
    "dvx=vx - vx[:,np.newaxis]\n",
    "dvy=vy - vy[:,np.newaxis]\n",
    "dvz=vz - vz[:,np.newaxis]\n",
    "dx=x - x[:,np.newaxis]\n",
    "dy=y - y[:,np.newaxis]\n",
    "dz=z - z[:,np.newaxis]\n",
    "dr = np.sqrt(dx**2 + dy**2 + dz**2)\n",
    "T = (1/2) * (dvx**2 + dvy**2 + dvz**2)\n",
    "phi = -G*m*m/dr\n",
    "# set the diagonal to zero\n",
    "np.fill_diagonal(phi,0)\n",
    "E = T + phi\n",
    "print(\"bound\", np.sum(E < 0 ))"
   ]
  },
  {
   "cell_type": "code",
   "execution_count": 77,
   "id": "57dae80a",
   "metadata": {},
   "outputs": [
    {
     "name": "stdout",
     "output_type": "stream",
     "text": [
      "0.3446569407262359\n"
     ]
    },
    {
     "data": {
      "text/plain": [
       "np.float64(-3.6797944085985514e-07)"
      ]
     },
     "execution_count": 77,
     "metadata": {},
     "output_type": "execute_result"
    }
   ],
   "source": [
    "dr[0][dr[0]>0].argmin()\n",
    "print(T[0][dr[0][dr[0]>0].argmin()])\n",
    "phi[0][dr[0][dr[0]>0].argmin()]\n"
   ]
  },
  {
   "cell_type": "code",
   "execution_count": null,
   "id": "08175f27",
   "metadata": {},
   "outputs": [],
   "source": []
  }
 ],
 "metadata": {
  "kernelspec": {
   "display_name": "thesis",
   "language": "python",
   "name": "python3"
  },
  "language_info": {
   "codemirror_mode": {
    "name": "ipython",
    "version": 3
   },
   "file_extension": ".py",
   "mimetype": "text/x-python",
   "name": "python",
   "nbconvert_exporter": "python",
   "pygments_lexer": "ipython3",
   "version": "3.11.12"
  }
 },
 "nbformat": 4,
 "nbformat_minor": 5
}
