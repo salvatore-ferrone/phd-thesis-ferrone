{
 "cells": [
  {
   "cell_type": "code",
   "execution_count": 1,
   "id": "52bb236c",
   "metadata": {},
   "outputs": [],
   "source": [
    "import sympy as sp \n",
    "import numpy as np\n",
    "import matplotlib as mpl\n",
    "import matplotlib.pyplot as plt\n",
    "from astropy import units as u\n",
    "import datetime\n",
    "import thesis_rcparams\n",
    "import moon_tidal_deviation as MTD\n",
    "from matplotlib.patches import Ellipse"
   ]
  },
  {
   "cell_type": "markdown",
   "id": "49ff2370",
   "metadata": {},
   "source": [
    "# Spherical case\n",
    "Try to show that the longest eigen vector of the tidal tensor will always align with the radial vector "
   ]
  },
  {
   "cell_type": "code",
   "execution_count": 104,
   "id": "71faf5c4",
   "metadata": {},
   "outputs": [
    {
     "data": {
      "text/latex": [
       "$\\displaystyle \\left[\\begin{matrix}\\frac{3 G M x^{2}}{\\left(x^{2} + y^{2} + z^{2}\\right)^{\\frac{5}{2}}} - \\frac{G M}{\\left(x^{2} + y^{2} + z^{2}\\right)^{\\frac{3}{2}}} & \\frac{3 G M x y}{\\left(x^{2} + y^{2} + z^{2}\\right)^{\\frac{5}{2}}} & \\frac{3 G M x z}{\\left(x^{2} + y^{2} + z^{2}\\right)^{\\frac{5}{2}}}\\\\\\frac{3 G M x y}{\\left(x^{2} + y^{2} + z^{2}\\right)^{\\frac{5}{2}}} & \\frac{3 G M y^{2}}{\\left(x^{2} + y^{2} + z^{2}\\right)^{\\frac{5}{2}}} - \\frac{G M}{\\left(x^{2} + y^{2} + z^{2}\\right)^{\\frac{3}{2}}} & \\frac{3 G M y z}{\\left(x^{2} + y^{2} + z^{2}\\right)^{\\frac{5}{2}}}\\\\\\frac{3 G M x z}{\\left(x^{2} + y^{2} + z^{2}\\right)^{\\frac{5}{2}}} & \\frac{3 G M y z}{\\left(x^{2} + y^{2} + z^{2}\\right)^{\\frac{5}{2}}} & \\frac{3 G M z^{2}}{\\left(x^{2} + y^{2} + z^{2}\\right)^{\\frac{5}{2}}} - \\frac{G M}{\\left(x^{2} + y^{2} + z^{2}\\right)^{\\frac{3}{2}}}\\end{matrix}\\right]$"
      ],
      "text/plain": [
       "Matrix([\n",
       "[3*G*M*x**2/(x**2 + y**2 + z**2)**(5/2) - G*M/(x**2 + y**2 + z**2)**(3/2),                                    3*G*M*x*y/(x**2 + y**2 + z**2)**(5/2),                                    3*G*M*x*z/(x**2 + y**2 + z**2)**(5/2)],\n",
       "[                                   3*G*M*x*y/(x**2 + y**2 + z**2)**(5/2), 3*G*M*y**2/(x**2 + y**2 + z**2)**(5/2) - G*M/(x**2 + y**2 + z**2)**(3/2),                                    3*G*M*y*z/(x**2 + y**2 + z**2)**(5/2)],\n",
       "[                                   3*G*M*x*z/(x**2 + y**2 + z**2)**(5/2),                                    3*G*M*y*z/(x**2 + y**2 + z**2)**(5/2), 3*G*M*z**2/(x**2 + y**2 + z**2)**(5/2) - G*M/(x**2 + y**2 + z**2)**(3/2)]])"
      ]
     },
     "execution_count": 104,
     "metadata": {},
     "output_type": "execute_result"
    }
   ],
   "source": [
    "# Variables\n",
    "x, y, z, G, M = sp.symbols('x y z G M')\n",
    "r = sp.sqrt(x**2 + y**2 + z**2)\n",
    "\n",
    "# Potential\n",
    "Phi = -G*M/r\n",
    "\n",
    "# Force = grad(Phi)\n",
    "grad_Phi = [sp.diff(Phi, var) for var in (x, y, z)]\n",
    "\n",
    "# Hessian (tidal tensor)\n",
    "tidal_tensor = -sp.Matrix([\n",
    "    [sp.diff(grad_Phi[i], var) for var in (x, y, z)]\n",
    "    for i in range(3)\n",
    "])\n",
    "\n",
    "tidal_tensor"
   ]
  },
  {
   "cell_type": "markdown",
   "id": "510e444d",
   "metadata": {},
   "source": [
    "Note that sympy is having a hard time doing all the algebraic manipulations, like finding the eigen vectors. I will simplify this expression to find the tidal tensor. This can be done by replacing $x^2 + y^2 + z^2$ with $r^2$ and factoring out  $\\frac{GM}{r^3}$ This way, I can have a \"scaled\" tidal tensor.\n",
    "\n",
    "Note that below I introduce $r$ without establishing that it is $r^2=x^2 + y^2 + z^2$. With SymPy, this manouver keeps the equation neat and orderly. "
   ]
  },
  {
   "cell_type": "code",
   "execution_count": 14,
   "id": "bbc63546",
   "metadata": {},
   "outputs": [
    {
     "data": {
      "text/latex": [
       "$\\displaystyle \\left[\\begin{matrix}1 - \\frac{3 x^{2}}{r^{2}} & - \\frac{3 x y}{r^{2}} & - \\frac{3 x z}{r^{2}}\\\\- \\frac{3 x y}{r^{2}} & 1 - \\frac{3 y^{2}}{r^{2}} & - \\frac{3 y z}{r^{2}}\\\\- \\frac{3 x z}{r^{2}} & - \\frac{3 y z}{r^{2}} & 1 - \\frac{3 z^{2}}{r^{2}}\\end{matrix}\\right]$"
      ],
      "text/plain": [
       "Matrix([\n",
       "[1 - 3*x**2/r**2,     -3*x*y/r**2,     -3*x*z/r**2],\n",
       "[    -3*x*y/r**2, 1 - 3*y**2/r**2,     -3*y*z/r**2],\n",
       "[    -3*x*z/r**2,     -3*y*z/r**2, 1 - 3*z**2/r**2]])"
      ]
     },
     "execution_count": 14,
     "metadata": {},
     "output_type": "execute_result"
    }
   ],
   "source": [
    "r,x,y,z=sp.symbols('r x y z', real=True)\n",
    "T = sp.Matrix(\n",
    "    [1 - 3*x**2/r**2, \n",
    "     -3*x*y/r**2, \n",
    "     -3*x*z/r**2,\n",
    "     -3*x*y/r**2,\n",
    "     1 - 3*y**2/r**2,\n",
    "     -3*y*z/r**2,\n",
    "     -3*x*z/r**2,\n",
    "     -3*y*z/r**2,\n",
    "     1 - 3*z**2/r**2]\n",
    ")\n",
    "scaled_tidal_tensor=T.reshape(3,3)\n",
    "scaled_tidal_tensor"
   ]
  },
  {
   "cell_type": "markdown",
   "id": "d5f205d8",
   "metadata": {},
   "source": [
    "# Solve the equations of motion \n",
    "$$ \\ddot{r}_\\text{moon,earth} = -\\nabla \\Phi(r_\\text{moon,earth})_{\\text{Earth}} - T_\\odot(r_\\text{earth,sun}) \\cdot \\vec{r}_\\text{moon,earth} - \\vec{\\omega} \\times \\left(\\vec{\\omega} \\times {\\vec{r}_{\\text{moon,sun}}}\\right)$$ \n",
    "\n",
    "We can use scipy's `solve_ivp`  since orbits are initial value problems of ordinary differential equations. Since I need to evaluate the position of the earth a function of time, the equations of motion will not be a set of autonomous differentia equations. They will depend on time "
   ]
  },
  {
   "cell_type": "code",
   "execution_count": null,
   "id": "69285a3c",
   "metadata": {},
   "outputs": [],
   "source": [
    "r,x,y,z=sp.symbols('r x y z', real=True)\n",
    "T = -sp.Matrix(\n",
    "    [1 - 3*x**2/r**2, \n",
    "     -3*x*y/r**2, \n",
    "     -3*x*z/r**2,\n",
    "     -3*x*y/r**2,\n",
    "     1 - 3*y**2/r**2,\n",
    "     -3*y*z/r**2,\n",
    "     -3*x*z/r**2,\n",
    "     -3*y*z/r**2,\n",
    "     1 - 3*z**2/r**2]\n",
    ")\n",
    "scaled_tidal_tensor=T.reshape(3,3)\n",
    "scaled_tidal_tensor_func = sp.lambdify((r, x, y, z), scaled_tidal_tensor, \"numpy\")\n"
   ]
  }
 ],
 "metadata": {
  "kernelspec": {
   "display_name": "thesis",
   "language": "python",
   "name": "python3"
  },
  "language_info": {
   "codemirror_mode": {
    "name": "ipython",
    "version": 3
   },
   "file_extension": ".py",
   "mimetype": "text/x-python",
   "name": "python",
   "nbconvert_exporter": "python",
   "pygments_lexer": "ipython3",
   "version": "3.11.12"
  }
 },
 "nbformat": 4,
 "nbformat_minor": 5
}
