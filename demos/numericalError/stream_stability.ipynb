{
 "cells": [
  {
   "cell_type": "code",
   "execution_count": 2,
   "id": "df327afd",
   "metadata": {},
   "outputs": [],
   "source": [
    "import stream_time_reversability as STR\n",
    "import numpy as np\n",
    "import matplotlib.pyplot as plt\n",
    "import matplotlib as mpl\n",
    "import tstrippy\n",
    "import datetime\n",
    "import multiprocessing as mp\n",
    "from astropy import units as u\n",
    "from astropy.coordinates import SkyCoord\n",
    "import h5py\n",
    "plt.rcParams['axes.prop_cycle'] = plt.cycler(color=plt.cm.Pastel2.colors)\n",
    "plt.rcParams.update({\n",
    "    \"text.usetex\": True,\n",
    "    \"font.family\": \"serif\",\n",
    "    \"font.serif\": [\"Computer Modern Roman\"],\n",
    "})"
   ]
  },
  {
   "cell_type": "markdown",
   "id": "3181a64c",
   "metadata": {},
   "source": [
    "# design reverse integrability"
   ]
  },
  {
   "cell_type": "code",
   "execution_count": 51,
   "id": "cf8fcd35",
   "metadata": {},
   "outputs": [],
   "source": [
    "path=\"./simulations/\"\n",
    "fnames=os.listdir(\"./simulations/\")\n",
    "fnames = [f for f in fnames if f.endswith('.hdf5') ]\n",
    "fname = fnames[3]\n",
    "myfile = h5py.File(path+fname, 'r')\n",
    "GCname = myfile.attrs['GCname']"
   ]
  },
  {
   "cell_type": "code",
   "execution_count": null,
   "id": "abcb2ab7",
   "metadata": {},
   "outputs": [
    {
     "name": "stdout",
     "output_type": "stream",
     "text": [
      "(6, 735)\n"
     ]
    }
   ],
   "source": [
    "streaminitial = myfile['streaminitial'][:]\n",
    "hostorbit=myfile[\"hostorbit\"][:]\n",
    "hosttimestamps = myfile[\"timestamps\"][:]\n",
    "hostparams = myfile.attrs[\"hostparams\"]\n",
    "inithostperturber = [hosttimestamps, *hostorbit, *hostparams]\n",
    "integrationparameters = myfile.attrs[\"integrationparameters\"]\n",
    "staticgalaxy=[myfile.attrs['potentialname'], myfile.attrs['potentialparams']]\n",
    "streamfinal=myfile['streamfinal'][:]\n",
    "args = [streamfinal, staticgalaxy, integrationparameters, inithostperturber]\n",
    "stream_retrace, tesc, timestamps_retrace, comptime = STR.leapfrogtofinalpositions_stream_retrace(args)\n",
    "print(streaminitial.shape)\n",
    "# shift to where it should be \n",
    "streaminitial = streaminitial + hostorbit[:,0][:,np.newaxis]"
   ]
  },
  {
   "cell_type": "code",
   "execution_count": 89,
   "id": "be1b4502",
   "metadata": {},
   "outputs": [
    {
     "name": "stdout",
     "output_type": "stream",
     "text": [
      "Timestep: dt = 0.00048828125\n",
      "Dynamical time: τ = 0.01284\n",
      "Number of steps per dynamical time: 26.3\n",
      "Ratio dt/τ = $0.1 \\times 10^{-3}$\n",
      "Boosted ratio dt/τ = $\\Delta t = 3.8 \\times 10^{-2} \\tau$\n",
      "$\\mathrm{Comp~time} = 2.94~\\mathrm{s}$\n",
      "$\\mathrm{T} = 978~\\mathrm{Myr}$\n"
     ]
    }
   ],
   "source": [
    "dt = integrationparameters[1]\n",
    "tau=np.sqrt(hostparams[2]**3/(hostparams[0]*hostparams[1]))\n",
    "alpha = dt/tau\n",
    "alpha\n",
    "# Calculate the number of timesteps per dynamical time\n",
    "n_steps_per_tau = tau / dt\n",
    "\n",
    "# Format alpha (dt/tau) in scientific notation\n",
    "mantissa =  10**(int(np.floor(np.log10(abs(alpha)))))\n",
    "exponent = int(np.floor(np.log10(abs(alpha))))\n",
    "alpha_formatted = r\"${:.1f} \\times 10^{{{}}}$\".format(mantissa*10, exponent-1)\n",
    "\n",
    "print(f\"Timestep: dt = {dt}\")\n",
    "print(f\"Dynamical time: τ = {tau:.5f}\")\n",
    "print(f\"Number of steps per dynamical time: {n_steps_per_tau:.1f}\")\n",
    "print(f\"Ratio dt/τ = {alpha_formatted}\")\n",
    "\n",
    "boost = 1\n",
    "matissa = 10**(np.log10(alpha) - int(np.log10(alpha)) + boost)\n",
    "exponent = int(np.log10(alpha)) - boost\n",
    "alpha_formatted = r\"$\\Delta t = {:.1f} \\times 10^{{{}}} \\tau$\".format(matissa, exponent)\n",
    "print(f\"Boosted ratio dt/τ = {alpha_formatted}\")\n",
    "text_comp_time = r\"$\\mathrm{{Comp~time}} = {:.2f}~\\mathrm{{s}}$\".format(comptime)\n",
    "integrationtime=integrationparameters[-1]*integrationparameters[1]\n",
    "NSTEPS = int(integrationparameters[-1])\n",
    "integrationtime=integrationtime*(u.s * (u.kpc/u.km))\n",
    "integrationtime = integrationtime.to(u.Myr)\n",
    "text_integration_time = r\"$\\mathrm{{T}} = {:.0f}~\\mathrm{{Myr}}$\".format(integrationtime.value)\n",
    "print(text_comp_time)\n",
    "print(text_integration_time)\n",
    "image_name = \"NumericalErrorStreamRetrace_{:s}_Nsteps_{:d}_stepsPerTau_{:d}.png\".format(GCname, NSTEPS, int(n_steps_per_tau))"
   ]
  },
  {
   "cell_type": "code",
   "execution_count": 5,
   "id": "3549b61d",
   "metadata": {},
   "outputs": [],
   "source": [
    "_,_,_,phiMW = tstrippy.potentials.pouliasis2017pii(staticgalaxy[1],stream_retrace[0], stream_retrace[1], stream_retrace[2],)\n",
    "T = 0.5 * (stream_retrace[3]**2 + stream_retrace[4]**2 + stream_retrace[5]**2) \n",
    "dx,dy,dz = stream_retrace[0] - hostorbit[0][0], stream_retrace[1] - hostorbit[0][1], stream_retrace[2] - hostorbit[0][2]\n",
    "_,_,_,phiGC = tstrippy.potentials.plummer(hostparams, dx, dy, dz)\n",
    "EF = T + phiMW + phiGC"
   ]
  },
  {
   "cell_type": "code",
   "execution_count": 6,
   "id": "01aa18c9",
   "metadata": {},
   "outputs": [],
   "source": [
    "_,_,_,phiMW = tstrippy.potentials.pouliasis2017pii(staticgalaxy[1],streaminitial[0], streaminitial[1], streaminitial[2],)\n",
    "T = 0.5 * (streaminitial[3]**2 + streaminitial[4]**2 + streaminitial[5]**2)\n",
    "dx,dy,dz = streaminitial[0] - hostorbit[0][0], streaminitial[1] - hostorbit[0][1], streaminitial[2] - hostorbit[0][2]\n",
    "_,_,_,phiGC = tstrippy.potentials.plummer(hostparams, dx, dy, dz)\n",
    "E0 = T + phiMW + phiGC"
   ]
  },
  {
   "cell_type": "code",
   "execution_count": 7,
   "id": "7c1effdc",
   "metadata": {},
   "outputs": [],
   "source": [
    "_,_,_,phiMW = tstrippy.potentials.pouliasis2017pii(staticgalaxy[1],stream_retrace[0], stream_retrace[1], stream_retrace[2],)\n",
    "T = 0.5 * (stream_retrace[3]**2 + stream_retrace[4]**2 + stream_retrace[5]**2) \n",
    "dx,dy,dz = stream_retrace[0] - hostorbit[0][0], stream_retrace[1] - hostorbit[0][1], stream_retrace[2] - hostorbit[0][2]\n",
    "_,_,_,phiGC = tstrippy.potentials.plummer(hostparams, dx, dy, dz)\n",
    "Eretrace = T + phiMW + phiGC"
   ]
  },
  {
   "cell_type": "code",
   "execution_count": 8,
   "id": "03e18b85",
   "metadata": {},
   "outputs": [],
   "source": [
    "errEF=np.abs((EF - E0) / E0)\n",
    "errER = np.abs((Eretrace - E0) / E0)"
   ]
  },
  {
   "cell_type": "code",
   "execution_count": 9,
   "id": "e7922528",
   "metadata": {},
   "outputs": [],
   "source": [
    "plt.rcParams['axes.prop_cycle'] = plt.cycler(color=plt.cm.Accent.colors)"
   ]
  },
  {
   "cell_type": "code",
   "execution_count": 102,
   "id": "c3c38c7c",
   "metadata": {},
   "outputs": [
    {
     "data": {
      "image/png": "[encoded data removed]",
      "text/plain": [
       "<Figure size 625x450 with 2 Axes>"
      ]
     },
     "metadata": {},
     "output_type": "display_data"
    }
   ],
   "source": [
    "# fig,axis= plt.subplots(1,1,figsize=((8.25-2),(8.25-2)/2))\n",
    "fig = plt.figure(figsize=(8.25-2, 4.5))\n",
    "gs = mpl.gridspec.GridSpec(1, 2, figure=fig)\n",
    "axis = fig.add_subplot(gs[0, 0])\n",
    "ax2 = fig.add_subplot(gs[0, 1], )\n",
    "axis.plot(hostorbit[0,6:], hostorbit[1,6:], 'k-', label='Host orbit',zorder=0)\n",
    "scatStream=axis.scatter(streamfinal[0], streamfinal[1], s=1, label='Stream')\n",
    "scatRetrace=axis.scatter(stream_retrace[0], stream_retrace[1], s=1, label='Retrace')\n",
    "scatInit=axis.scatter(streaminitial[0],  streaminitial[1], s=1,  label='Initial')\n",
    "# Also make markers in the inset legend bigger if needed\n",
    "xymin = np.min([axis.get_xlim()[0], axis.get_ylim()[0]])\n",
    "xymax = np.max([axis.get_xlim()[1], axis.get_ylim()[1]])\n",
    "axis.set_xlim(xymin, xymax)\n",
    "axis.set_ylim(xymin, xymax)\n",
    "\n",
    "# add a subplot that zooms on the retrace positions\n",
    "axins = axis.inset_axes([0.075, 0.575, 0.4, 0.4])  # [x0, y0, width, height]\n",
    "axins.scatter(stream_retrace[0], stream_retrace[1], s=1, c=scatRetrace.get_edgecolor(), label='Stream retrace positions')\n",
    "axins.scatter(streaminitial[0],   streaminitial[1], s=1, c=scatInit.get_edgecolor(), label='Stream initial positions')\n",
    "axins.set_aspect('equal', adjustable='box')\n",
    "# Add indicator lines from the main plot to the inset\n",
    "axis.indicate_inset_zoom(axins, edgecolor=\"black\")\n",
    "# only do a couple characteristic radii\n",
    "radius = .5\n",
    "axins.set_xlim(hostorbit[0,0] + - radius, hostorbit[0,0]  + radius)\n",
    "axins.set_ylim(hostorbit[1,0] + - radius, hostorbit[1,0]  + radius)\n",
    "axins.set_xticks([])\n",
    "axins.set_yticks([])\n",
    "\n",
    "# Make markers in legend bigger\n",
    "axis.legend(loc='lower right')\n",
    "axis.set_aspect('equal', )\n",
    "axis.set_xlabel(r'$x$ [kpc]')\n",
    "axis.set_ylabel(r'$y$ [kpc]')\n",
    "legend = axis.legend(loc='lower right')\n",
    "for handle in legend.legend_handles:\n",
    "    handle._sizes = [30]\n",
    "\n",
    "\n",
    "bins = np.logspace(-12,1,40)\n",
    "ax2.hist(errEF,bins=bins, histtype='step', color=scatStream.get_facecolor(), lw=2, label='Stream', linestyle='-');\n",
    "ax2.hist(errER,bins=bins, histtype='step', color=scatRetrace.get_facecolor(), lw=2, label='Retrace', linestyle='--');\n",
    "ax2.set_xscale('log')\n",
    "\n",
    "ax2.set_xlabel(r'$|E - E_0| / E_0$')\n",
    "ax2.legend()\n",
    "\n",
    "# Make sure ax2 has the same height as axis\n",
    "ax2.set_position([ax2.get_position().x0, \n",
    "                 axis.get_position().y0, \n",
    "                 ax2.get_position().width, \n",
    "                 axis.get_position().height])\n",
    "ax2.text(0.05, 0.9, r\"$\\mathrm{{{:s}}}$\".format(GCname), transform=ax2.transAxes, ha='left', va='bottom', fontsize=\"medium\")\n",
    "ax2.text(0.05, 0.8, alpha_formatted, transform=ax2.transAxes, ha='left', va='bottom', fontsize=\"medium\")\n",
    "ax2.text(0.05, 0.7, text_comp_time, transform=ax2.transAxes, ha='left', va='bottom', fontsize=\"medium\")\n",
    "ax2.text(0.05, 0.6, text_integration_time, transform=ax2.transAxes, ha='left', va='bottom', fontsize=\"medium\")\n",
    "fig.savefig(\"../../images/\"+image_name, bbox_inches='tight', dpi=300)"
   ]
  },
  {
   "cell_type": "code",
   "execution_count": 161,
   "id": "e447f5b7",
   "metadata": {},
   "outputs": [],
   "source": [
    "# pseduo code\n",
    "\n",
    "# slip the sign of the velocities for the host when we change directions \n",
    "\n",
    "# no need to reorient the array becuase the new func to coordinate the indicies is good\n",
    "\n",
    "# no need to flip the sign of the velocities for the stream, setbackwardorbit does that\n",
    "\n",
    "# so load in the orbit\n",
    "\n",
    "# take the integration parameters\n",
    "\n",
    "# load in the stream particles at the end\n",
    "\n",
    "# integrate backward and see where we land "
   ]
  },
  {
   "cell_type": "code",
   "execution_count": 91,
   "id": "dcbc42a9",
   "metadata": {},
   "outputs": [
    {
     "data": {
      "text/latex": [
       "$7.6388889 \\; \\mathrm{d}$"
      ],
      "text/plain": [
       "<Quantity 7.63888889 d>"
      ]
     },
     "execution_count": 91,
     "metadata": {},
     "output_type": "execute_result"
    }
   ],
   "source": [
    "NSTEP = int(1e6)\n",
    "NP = int(1e5)\n",
    "Nc = 80e-9\n",
    "Nmc = 50\n",
    "NGC = 165\n",
    "comptime=Nmc*NGC*NSTEP*NP*Nc * u.s\n",
    "comptime.to(u.day) / 100"
   ]
  },
  {
   "cell_type": "markdown",
   "id": "98a5283f",
   "metadata": {},
   "source": [
    "# Computation time\n",
    "\n",
    "$$C(N_p, N_{\\text{Steps}}) = A \\cdot N_p^\\alpha \\cdot N_{\\text{Steps}}^\\beta $$\n",
    "\n",
    "$$\\log C = \\log A + \\alpha \\log N_p + \\beta \\log N_{\\text{Steps}} $$\n",
    "\n",
    "$$\\log C = \\log A + \\alpha \\log N_p + \\beta \\log N_{\\text{Steps}} $$\n"
   ]
  },
  {
   "cell_type": "code",
   "execution_count": 92,
   "id": "50f7d39d",
   "metadata": {},
   "outputs": [],
   "source": [
    "import os \n",
    "targetGC = 'NGC6760'\n",
    "integrationtime = 1  # in dynamical time units\n",
    "NPs = np.logspace(1,3,3, dtype=int)  # number of particles for the stream\n",
    "alphas = np.logspace(1,-2,3)\n",
    "Nc = 80e-9 # mean time per single step "
   ]
  },
  {
   "cell_type": "code",
   "execution_count": 93,
   "id": "aa51a1a7",
   "metadata": {},
   "outputs": [],
   "source": [
    "path=\"./simulations/\"\n",
    "fnames=os.listdir(\"./simulations/\")\n",
    "fnames = [f for f in fnames if f.endswith('.hdf5') ]\n",
    "NPs = [ ]\n",
    "NSTEPS = []\n",
    "comp = []\n",
    "for i in range(0,len(fnames)):\n",
    "    myfile=h5py.File(path+fnames[i], 'r')\n",
    "    NSTEP = myfile['hostorbit'].shape[1]\n",
    "    NP = myfile['streamfinal'].shape[1]\n",
    "    comptimestream = myfile['comptimestream'][()]\n",
    "\n",
    "    NPs.append(NP)\n",
    "    NSTEPS.append(NSTEP)\n",
    "    comp.append(comptimestream)\n",
    "\n",
    "NPs = np.array(NPs)\n",
    "NSTEPS = np.array(NSTEPS)\n",
    "comp = np.array(comp)"
   ]
  },
  {
   "cell_type": "code",
   "execution_count": 94,
   "id": "be51ec80",
   "metadata": {},
   "outputs": [
    {
     "data": {
      "text/plain": [
       "np.float64(4.459246713536144e-06)"
      ]
     },
     "execution_count": 94,
     "metadata": {},
     "output_type": "execute_result"
    }
   ],
   "source": [
    "np.mean(comp/NPs/NSTEPS)"
   ]
  },
  {
   "cell_type": "code",
   "execution_count": 95,
   "id": "364a09fe",
   "metadata": {},
   "outputs": [],
   "source": [
    "logNPS = np.log10(NPs)\n",
    "logNSTEPS = np.log10(NSTEPS)\n",
    "logcomp = np.log10(comp)"
   ]
  },
  {
   "cell_type": "code",
   "execution_count": 96,
   "id": "df90f806",
   "metadata": {},
   "outputs": [
    {
     "name": "stdout",
     "output_type": "stream",
     "text": [
      "Fit: log C = -6.98 ± 0.22 + 1.49 ± 0.07 log Np + 1.00 ± 0.04 log Nsteps\n",
      "Fit: C = 10^-6.98 ± 0.22 * Np^1.49 ± 0.07 * Nsteps^1.00 ± 0.04\n"
     ]
    }
   ],
   "source": [
    "A = np.vstack([np.ones_like(logNPS), logNPS, logNSTEPS]).T\n",
    "coeffs, residuals, rank, s = np.linalg.lstsq(A, logcomp, rcond=None)\n",
    "logA, alpha, beta = coeffs\n",
    "\n",
    "# Estimate variance of residuals\n",
    "n = len(logcomp)\n",
    "p = A.shape[1]\n",
    "res_var = residuals[0] / (n - p) if residuals.size > 0 else 0\n",
    "\n",
    "# Covariance matrix of coefficients\n",
    "cov = res_var * np.linalg.inv(A.T @ A)\n",
    "errors = np.sqrt(np.diag(cov))\n",
    "\n",
    "logA_err, alpha_err, beta_err = errors\n",
    "\n",
    "print(f\"Fit: log C = {logA:.2f} ± {logA_err:.2f} + {alpha:.2f} ± {alpha_err:.2f} log Np + {beta:.2f} ± {beta_err:.2f} log Nsteps\")\n",
    "print(f\"Fit: C = 10^{logA:.2f} ± {logA_err:.2f} * Np^{alpha:.2f} ± {alpha_err:.2f} * Nsteps^{beta:.2f} ± {beta_err:.2f}\")\n"
   ]
  },
  {
   "cell_type": "code",
   "execution_count": 97,
   "id": "7b0f35c2",
   "metadata": {},
   "outputs": [
    {
     "name": "stdout",
     "output_type": "stream",
     "text": [
      "Fit: log C = -6.98 + 1.49 log Np + 1.00 log Nsteps\n",
      "Fit: C = 10^-6.98 * Np^1.49 * Nsteps^1.00\n"
     ]
    }
   ],
   "source": [
    "print(f\"Fit: log C = {logA:.2f} + {alpha:.2f} log Np + {beta:.2f} log Nsteps\")\n",
    "print(f\"Fit: C = 10^{logA:.2f} * Np^{alpha:.2f} * Nsteps^{beta:.2f}\")"
   ]
  },
  {
   "cell_type": "code",
   "execution_count": 98,
   "id": "ba9c9397",
   "metadata": {},
   "outputs": [],
   "source": [
    "cmax = np.max(comp)\n",
    "cmin = np.min(comp)\n",
    "norm = mpl.colors.LogNorm(vmin=cmin, vmax=cmax)\n",
    "cmap = mpl.cm.rainbow\n",
    "colors = cmap(norm(comp))"
   ]
  },
  {
   "cell_type": "code",
   "execution_count": 99,
   "id": "bc931e3a",
   "metadata": {},
   "outputs": [
    {
     "name": "stderr",
     "output_type": "stream",
     "text": [
      "/var/folders/vt/72vlp8hj577dnzr1gl35j41c0000gn/T/ipykernel_4476/1490778462.py:6: UserWarning: No data for colormapping provided via 'c'. Parameters 'cmap' will be ignored\n",
      "  axis.scatter(NSTEPS, NPs, c=colors, marker=\"s\", s=100, cmap='viridis', alpha=0.7)\n"
     ]
    },
    {
     "data": {
      "image/png": "[encoded data removed]",
      "text/plain": [
       "<Figure size 625x300 with 2 Axes>"
      ]
     },
     "metadata": {},
     "output_type": "display_data"
    }
   ],
   "source": [
    "fig=plt.figure(figsize=(8.25-2,3))\n",
    "gs = fig.add_gridspec(1, 2, width_ratios=[1, 1/50],hspace=0.1, wspace=0.1)\n",
    "axis = fig.add_subplot(gs[0, 0])\n",
    "cax = fig.add_subplot(gs[0, 1])\n",
    "axis.grid(True, which='both', linestyle='--', linewidth=0.1)\n",
    "axis.scatter(NSTEPS, NPs, c=colors, marker=\"s\", s=100, cmap='viridis', alpha=0.7)\n",
    "axis.set_xlabel(r'$\\mathrm{N}_{\\mathrm{steps}}$')\n",
    "axis.set_ylabel(r'$\\mathrm{N}_{\\mathrm{particles}}$')\n",
    "axis.set_title(r'$\\mathrm{Stream~creation~in~Pouliasis~2017~MW}$')\n",
    "axis.set_xscale('log')\n",
    "axis.set_yscale('log')\n",
    "# axis.set_aspect('equal')\n",
    "sm = plt.cm.ScalarMappable(cmap=cmap, norm=norm)\n",
    "sm.set_array([])\n",
    "cbar = fig.colorbar(sm, cax=cax)\n",
    "cbar.set_label(r'$\\mathrm{Computation~time~(s)}$', rotation=270, labelpad=15)\n",
    "cbar.ax.tick_params(labelsize=8)\n",
    "# make the colorbar the same height as the plot\n",
    "# Adjust colorbar position to match plot height\n",
    "cbar.ax.set_position([cbar.ax.get_position().x0, \n",
    "                     axis.get_position().y0, \n",
    "                     cbar.ax.get_position().width, \n",
    "                     axis.get_position().height])"
   ]
  },
  {
   "cell_type": "code",
   "execution_count": 69,
   "id": "77d7ae09",
   "metadata": {},
   "outputs": [
    {
     "data": {
      "text/plain": [
       "np.int64(3162)"
      ]
     },
     "execution_count": 69,
     "metadata": {},
     "output_type": "execute_result"
    }
   ],
   "source": [
    "NPs.max()"
   ]
  }
 ],
 "metadata": {
  "kernelspec": {
   "display_name": "thesis",
   "language": "python",
   "name": "python3"
  },
  "language_info": {
   "codemirror_mode": {
    "name": "ipython",
    "version": 3
   },
   "file_extension": ".py",
   "mimetype": "text/x-python",
   "name": "python",
   "nbconvert_exporter": "python",
   "pygments_lexer": "ipython3",
   "version": "3.11.12"
  }
 },
 "nbformat": 4,
 "nbformat_minor": 5
}
