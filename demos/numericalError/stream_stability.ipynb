{
 "cells": [
  {
   "cell_type": "code",
   "execution_count": 1,
   "id": "df327afd",
   "metadata": {},
   "outputs": [],
   "source": [
    "import stream_time_reversability as STR\n",
    "import numpy as np\n",
    "import matplotlib.pyplot as plt\n",
    "import matplotlib as mpl\n",
    "import tstrippy\n",
    "import datetime\n",
    "import multiprocessing as mp\n",
    "from astropy import units as u\n",
    "from astropy.coordinates import SkyCoord\n",
    "import numericalErrorFunctions as NEF"
   ]
  },
  {
   "cell_type": "code",
   "execution_count": 2,
   "id": "e447f5b7",
   "metadata": {},
   "outputs": [],
   "source": [
    "integrationtime = .5 \n",
    "currenttime = 0 "
   ]
  },
  {
   "cell_type": "code",
   "execution_count": 3,
   "id": "be2feb57",
   "metadata": {},
   "outputs": [],
   "source": [
    "MWparams = tstrippy.Parsers.pouliasis2017pii()\n",
    "dtfactor = 1/20\n",
    "staticgalaxy = [\"pouliasis2017pii\", MWparams]\n",
    "G = MWparams[0]\n",
    "M = 1e5\n",
    "a = 5e-3\n",
    "NP = int(1e3)\n",
    "aplum = tstrippy.ergodic.convertHalfMassRadiusToPlummerRadius(a)\n",
    "tau = STR.plummer_dynamical_time([G,M,a])"
   ]
  },
  {
   "cell_type": "code",
   "execution_count": 4,
   "id": "264cb899",
   "metadata": {},
   "outputs": [],
   "source": [
    "targetGC = \"NGC5139\"\n",
    "initialkinematics = STR.pick_GC_get_kinematics(targetGC)"
   ]
  },
  {
   "cell_type": "code",
   "execution_count": 5,
   "id": "3e3b55d1",
   "metadata": {},
   "outputs": [],
   "source": [
    "integrationparameters = STR.prepare_integration_arguments(currenttime=currenttime,\n",
    "                                                          integrationtime=integrationtime,\n",
    "                                                          tdyn=tau,\n",
    "                                                          alpha=dtfactor)"
   ]
  },
  {
   "cell_type": "code",
   "execution_count": 6,
   "id": "b52cdd4d",
   "metadata": {},
   "outputs": [
    {
     "name": "stdout",
     "output_type": "stream",
     "text": [
      "integration time:  0:00:00.092845\n"
     ]
    }
   ],
   "source": [
    "args = initialkinematics, staticgalaxy, integrationparameters\n",
    "orbit, timestamps, comptime = STR.integrate_host_orbit_back(args)"
   ]
  },
  {
   "cell_type": "code",
   "execution_count": null,
   "id": "d362eb90",
   "metadata": {},
   "outputs": [],
   "source": [
    "inithostperturber = [timestamps, *orbit, G, M, aplum ]\n",
    "initialkinematics_stream = tstrippy.ergodic.isotropicplummer(G,M,a,NP)\n",
    "integrationparameters_stream = [timestamps[0],*integrationparameters[1:]]"
   ]
  },
  {
   "cell_type": "code",
   "execution_count": null,
   "id": "5ffbdf57",
   "metadata": {},
   "outputs": [],
   "source": []
  },
  {
   "cell_type": "code",
   "execution_count": null,
   "id": "b5a7fae1",
   "metadata": {},
   "outputs": [],
   "source": []
  }
 ],
 "metadata": {
  "kernelspec": {
   "display_name": "thesis",
   "language": "python",
   "name": "python3"
  },
  "language_info": {
   "codemirror_mode": {
    "name": "ipython",
    "version": 3
   },
   "file_extension": ".py",
   "mimetype": "text/x-python",
   "name": "python",
   "nbconvert_exporter": "python",
   "pygments_lexer": "ipython3",
   "version": "3.11.12"
  }
 },
 "nbformat": 4,
 "nbformat_minor": 5
}
