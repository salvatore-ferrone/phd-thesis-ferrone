{
 "cells": [
  {
   "cell_type": "code",
   "execution_count": 1,
   "id": "df327afd",
   "metadata": {},
   "outputs": [],
   "source": [
    "import stream_time_reversability as STR\n",
    "import numpy as np\n",
    "import matplotlib.pyplot as plt\n",
    "import matplotlib as mpl\n",
    "import tstrippy\n",
    "import datetime\n",
    "import multiprocessing as mp\n",
    "from astropy import units as u\n",
    "from astropy.coordinates import SkyCoord\n",
    "import h5py\n",
    "# plt.rcParams['axes.prop_cycle'] = plt.cycler(color=plt.cm.Pastel2.colors)\n",
    "# plt.rcParams.update({\n",
    "    # \"text.usetex\": True,\n",
    "    # \"font.family\": \"serif\",\n",
    "    # \"font.serif\": [\"Computer Modern Roman\"],\n",
    "# })"
   ]
  },
  {
   "cell_type": "code",
   "execution_count": 2,
   "id": "2fb5d93e",
   "metadata": {},
   "outputs": [],
   "source": [
    "# # quick test to look at the time steps that are being used...\n",
    "# MWparams = tstrippy.Parsers.pouliasis2017pii()\n",
    "# staticgalaxy = [\"poulisasis2017pii\", MWparams ]\n",
    "# integrationparameters = [0, 1e-5, 2]\n",
    "# clusterinitialkinematics = [0, 8, 0, 220, 0, 0]\n",
    "# G,M,rhm,NP = MWparams[0],1e5, 5e-3,int(1e3)\n",
    "# aplum = tstrippy.ergodic.convertHalfMassRadiusToPlummerRadius(rhm)\n",
    "# hostparams = [G, M, aplum]\n",
    "# initialstream=tstrippy.ergodic.isotropicplummer(G,M,rhm,NP)\n",
    "# args = staticgalaxy, integrationparameters, clusterinitialkinematics, hostparams, initialstream\n",
    "# timestamps, timestamps_stream, hostorbit, streamfinal, tesc, comptimeorbit, comptimestream=STR.generate_stream_leapfrogtofinalpositions(args)"
   ]
  },
  {
   "cell_type": "markdown",
   "id": "3181a64c",
   "metadata": {},
   "source": [
    "# design reverse integrability"
   ]
  },
  {
   "cell_type": "code",
   "execution_count": 3,
   "id": "cf8fcd35",
   "metadata": {},
   "outputs": [
    {
     "name": "stdout",
     "output_type": "stream",
     "text": [
      "comptime 11.601343\n"
     ]
    }
   ],
   "source": [
    "path=\"./simulations/\"\n",
    "path=\"/scratch2/sferrone/simulations/Stream/pouliasis2017pii/numericalErrorExperiment/\"\n",
    "fnames=os.listdir(\"./simulations/\")\n",
    "fnames = [f for f in fnames if f.endswith('.hdf5') ]\n",
    "\n",
    "fname = \"NGC6380_stream_NSTEPS_524288_NP_100_comp_time_experiment.hdf5\"\n",
    "myfile = h5py.File(path+fname, 'r')\n",
    "GCname = myfile.attrs['GCname']\n",
    "print(\"comptime\", myfile['comptimestream'][()])"
   ]
  },
  {
   "cell_type": "code",
   "execution_count": 4,
   "id": "abcb2ab7",
   "metadata": {},
   "outputs": [],
   "source": [
    "streaminitial = myfile['streaminitial'][:]\n",
    "hostorbit=myfile[\"hostorbit\"][:]\n",
    "hosttimestamps = myfile[\"timestamps\"][:]\n",
    "timestamps_stream = myfile[\"timestamps_stream\"][:]\n",
    "hostparams = myfile.attrs[\"hostparams\"]\n",
    "inithostperturber = [hosttimestamps, *hostorbit, *hostparams]\n",
    "integrationparameters = myfile.attrs[\"integrationparameters\"]\n",
    "staticgalaxy=[myfile.attrs['potentialname'], myfile.attrs['potentialparams']]\n",
    "streamfinal=myfile['streamfinal'][:]\n",
    "args = [streamfinal, staticgalaxy, integrationparameters, inithostperturber]"
   ]
  },
  {
   "cell_type": "code",
   "execution_count": 5,
   "id": "6a7549a3",
   "metadata": {},
   "outputs": [
    {
     "name": "stdout",
     "output_type": "stream",
     "text": [
      "(6, 100)\n"
     ]
    }
   ],
   "source": [
    "stream_retrace, tesc, timestamps_retrace, comptime = STR.leapfrogtofinalpositions_stream_retrace(args)\n",
    "print(streaminitial.shape)\n",
    "# shift to where it should be \n",
    "streaminitial = streaminitial + hostorbit[:,0][:,np.newaxis]"
   ]
  },
  {
   "cell_type": "code",
   "execution_count": 7,
   "id": "be1b4502",
   "metadata": {},
   "outputs": [
    {
     "name": "stdout",
     "output_type": "stream",
     "text": [
      "Timestep: dt = 1.9073486328125e-06\n",
      "Dynamical time: τ = 0.00016\n",
      "Number of steps per dynamical time: 85.4\n",
      "Ratio dt/τ = $0.1 \\times 10^{-3}$\n",
      "Boosted ratio dt/τ = $\\Delta t = 1.2 \\times 10^{-2} \\tau$\n",
      "$\\mathrm{Comp~time} = 9.88~\\mathrm{s}$\n",
      "$\\mathrm{T} = 978~\\mathrm{Myr}$\n"
     ]
    }
   ],
   "source": [
    "dt = integrationparameters[1]\n",
    "tau=np.sqrt(hostparams[2]**3/(hostparams[0]*hostparams[1]))\n",
    "alpha = dt/tau\n",
    "alpha\n",
    "# Calculate the number of timesteps per dynamical time\n",
    "n_steps_per_tau = tau / dt\n",
    "\n",
    "# Format alpha (dt/tau) in scientific notation\n",
    "mantissa =  10**(int(np.floor(np.log10(abs(alpha)))))\n",
    "exponent = int(np.floor(np.log10(abs(alpha))))\n",
    "alpha_formatted = r\"${:.1f} \\times 10^{{{}}}$\".format(mantissa*10, exponent-1)\n",
    "\n",
    "print(f\"Timestep: dt = {dt}\")\n",
    "print(f\"Dynamical time: τ = {tau:.5f}\")\n",
    "print(f\"Number of steps per dynamical time: {n_steps_per_tau:.1f}\")\n",
    "print(f\"Ratio dt/τ = {alpha_formatted}\")\n",
    "\n",
    "boost = 1\n",
    "matissa = 10**(np.log10(alpha) - int(np.log10(alpha)) + boost)\n",
    "exponent = int(np.log10(alpha)) - boost\n",
    "alpha_formatted = r\"$\\Delta t = {:.1f} \\times 10^{{{}}} \\tau$\".format(matissa, exponent)\n",
    "print(f\"Boosted ratio dt/τ = {alpha_formatted}\")\n",
    "text_comp_time = r\"$\\mathrm{{Comp~time}} = {:.2f}~\\mathrm{{s}}$\".format(comptime)\n",
    "integrationtime=integrationparameters[-1]*integrationparameters[1]\n",
    "NSTEPS = int(integrationparameters[-1])\n",
    "integrationtime=integrationtime*(u.s * (u.kpc/u.km))\n",
    "integrationtime = integrationtime.to(u.Myr)\n",
    "text_integration_time = r\"$\\mathrm{{T}} = {:.0f}~\\mathrm{{Myr}}$\".format(integrationtime.value)\n",
    "print(text_comp_time)\n",
    "print(text_integration_time)\n",
    "image_name = \"NumericalErrorStreamRetrace_{:s}_Nsteps_{:d}_stepsPerTau_{:d}.png\".format(GCname, NSTEPS, int(n_steps_per_tau))"
   ]
  },
  {
   "cell_type": "code",
   "execution_count": 8,
   "id": "cfeff725",
   "metadata": {},
   "outputs": [],
   "source": [
    "def compute_stream_energy(MWparams,hostparams,hostkinematics,stream):\n",
    "    \"\"\"\n",
    "    Compute the energy of the stream given the static galaxy potential and host kinematics.\n",
    "    \"\"\"\n",
    "    # get the potential in the MW \n",
    "    _,_,_,phiMW = tstrippy.potentials.pouliasis2017pii(MWparams, stream[0], stream[1], stream[2])\n",
    "    # get the total kinetic energy \n",
    "    T = 0.5 * (stream[3]**2 + stream[4]**2 + stream[5]**2)\n",
    "    # get the distance to the host\n",
    "    dx,dy,dz = stream[0] - hostkinematics[0], stream[1] - hostkinematics[1], stream[2] - hostkinematics[2]\n",
    "    _,_,_,phiHost = tstrippy.potentials.plummer(hostparams, dx, dy, dz)\n",
    "    return phiMW, phiHost, T\n"
   ]
  },
  {
   "cell_type": "code",
   "execution_count": 21,
   "id": "1b8ec5cc",
   "metadata": {},
   "outputs": [],
   "source": [
    "phiMW0, phiHost0, T0 = compute_stream_energy(staticgalaxy[1], hostparams, hostorbit[:,0], streaminitial)\n",
    "phiMWstream, phiHoststream, Tstream = compute_stream_energy(staticgalaxy[1], hostparams, hostorbit[:,-1], streamfinal)\n",
    "phiMWR, phiHostR, TR = compute_stream_energy(staticgalaxy[1], hostparams, hostorbit[:,0], stream_retrace)\n",
    "E0 = phiMW0 + phiHost0 + T0\n",
    "Estream = phiMWstream + phiHoststream + Tstream\n",
    "ER = phiMWR + phiHostR + TR"
   ]
  },
  {
   "cell_type": "code",
   "execution_count": 24,
   "id": "3a132e64",
   "metadata": {},
   "outputs": [
    {
     "data": {
      "text/plain": [
       "np.float64(4.5237732704906284e-05)"
      ]
     },
     "execution_count": 24,
     "metadata": {},
     "output_type": "execute_result"
    }
   ],
   "source": [
    "(np.mean(ER) - np.mean(E0)) / np.mean(E0)"
   ]
  },
  {
   "cell_type": "code",
   "execution_count": 25,
   "id": "20e5a9da",
   "metadata": {},
   "outputs": [
    {
     "data": {
      "text/plain": [
       "np.float64(-0.0009236610890040045)"
      ]
     },
     "execution_count": 25,
     "metadata": {},
     "output_type": "execute_result"
    },
    {
     "data": {
      "image/png": "[encoded data removed]",
      "text/plain": [
       "<Figure size 825x300 with 1 Axes>"
      ]
     },
     "metadata": {},
     "output_type": "display_data"
    }
   ],
   "source": [
    "fig,axis= plt.subplots(1, 1, figsize=(8.25, 3))\n",
    "_,bins,_=axis.hist(E0, lw=2, label='E0', linestyle='-');\n",
    "axis.hist(Estream,bins=bins,histtype='step', lw=10, label='Stream', linestyle='-');\n",
    "axis.legend()\n",
    "(np.mean(Estream)-np.mean(E0))/np.mean(E0)"
   ]
  },
  {
   "cell_type": "code",
   "execution_count": 26,
   "id": "03e18b85",
   "metadata": {},
   "outputs": [
    {
     "name": "stdout",
     "output_type": "stream",
     "text": [
      "<ER> 0.0001151192687469494\n",
      "<EF> 0.004700804932241867\n"
     ]
    }
   ],
   "source": [
    "errEF=np.abs((Estream - E0) / E0)\n",
    "errER = np.abs((ER - E0) / E0)\n",
    "\n",
    "print(\"<ER>\", np.mean(errER))\n",
    "print(\"<EF>\", np.mean(errEF))"
   ]
  },
  {
   "cell_type": "code",
   "execution_count": 27,
   "id": "e7922528",
   "metadata": {},
   "outputs": [],
   "source": [
    "plt.rcParams['axes.prop_cycle'] = plt.cycler(color=plt.cm.Accent.colors)"
   ]
  },
  {
   "cell_type": "code",
   "execution_count": 28,
   "id": "c3c38c7c",
   "metadata": {},
   "outputs": [
    {
     "data": {
      "image/png": "[encoded data removed]",
      "text/plain": [
       "<Figure size 625x450 with 2 Axes>"
      ]
     },
     "metadata": {},
     "output_type": "display_data"
    }
   ],
   "source": [
    "# fig,axis= plt.subplots(1,1,figsize=((8.25-2),(8.25-2)/2))\n",
    "fig = plt.figure(figsize=(8.25-2, 4.5))\n",
    "gs = mpl.gridspec.GridSpec(1, 2, figure=fig)\n",
    "axis = fig.add_subplot(gs[0, 0])\n",
    "ax2 = fig.add_subplot(gs[0, 1], )\n",
    "axis.plot(hostorbit[0,6:], hostorbit[1,6:], 'k-', label='Host orbit',zorder=0)\n",
    "scatStream=axis.scatter(streamfinal[0], streamfinal[1], s=1, label='Stream')\n",
    "scatRetrace=axis.scatter(stream_retrace[0], stream_retrace[1], s=1, label='Retrace')\n",
    "scatInit=axis.scatter(streaminitial[0],  streaminitial[1], s=1,  label='Initial')\n",
    "# Also make markers in the inset legend bigger if needed\n",
    "xymin = np.min([axis.get_xlim()[0], axis.get_ylim()[0]])\n",
    "xymax = np.max([axis.get_xlim()[1], axis.get_ylim()[1]])\n",
    "axis.set_xlim(3*xymin, 3*xymax)\n",
    "axis.set_ylim(3*xymin, 3*xymax)\n",
    "\n",
    "# add a subplot that zooms on the retrace positions\n",
    "axins = axis.inset_axes([0.075, 0.575, 0.4, 0.4])  # [x0, y0, width, height]\n",
    "axins.scatter(streaminitial[0],   streaminitial[1], s=10, c=scatInit.get_edgecolor(), label='Stream initial positions')\n",
    "axins.scatter(stream_retrace[0], stream_retrace[1], s=1, c=scatRetrace.get_edgecolor(), label='Stream retrace positions')\n",
    "axins.set_aspect('equal', adjustable='box')\n",
    "# Add indicator lines from the main plot to the inset\n",
    "axis.indicate_inset_zoom(axins, edgecolor=\"black\")\n",
    "# only do a couple characteristic radii\n",
    "hostparams[-1]\n",
    "radius = 10*hostparams[-1]\n",
    "axins.set_xlim(hostorbit[0,0] + - radius, hostorbit[0,0]  + radius)\n",
    "axins.set_ylim(hostorbit[1,0] + - radius, hostorbit[1,0]  + radius)\n",
    "axins.set_xticks([])\n",
    "axins.set_yticks([])\n",
    "\n",
    "# Make markers in legend bigger\n",
    "axis.legend(loc='lower right')\n",
    "axis.set_aspect('equal', )\n",
    "axis.set_xlabel(r'$x$ [kpc]')\n",
    "axis.set_ylabel(r'$y$ [kpc]')\n",
    "legend = axis.legend(loc='lower right')\n",
    "for handle in legend.legend_handles:\n",
    "    handle._sizes = [30]\n",
    "\n",
    "\n",
    "bins = np.logspace(-12,1,40)\n",
    "ax2.hist(errEF,bins=bins, histtype='step', color=scatStream.get_facecolor(), lw=2, label='Stream', linestyle='-');\n",
    "ax2.hist(errER,bins=bins, histtype='step', color=scatRetrace.get_facecolor(), lw=2, label='Retrace', linestyle='-.');\n",
    "ax2.set_xscale('log')\n",
    "\n",
    "ax2.set_xlabel(r'$|E - E_0| / E_0$')\n",
    "ax2.legend(loc=\"lower left\")\n",
    "\n",
    "# Make sure ax2 has the same height as axis\n",
    "ax2.set_position([ax2.get_position().x0, \n",
    "                 axis.get_position().y0, \n",
    "                 ax2.get_position().width, \n",
    "                 axis.get_position().height])\n",
    "ax2.text(0.05, 0.9, r\"$\\mathrm{{{:s}}}$\".format(GCname), transform=ax2.transAxes, ha='left', va='bottom', fontsize=\"medium\")\n",
    "ax2.text(0.05, 0.8, alpha_formatted, transform=ax2.transAxes, ha='left', va='bottom', fontsize=\"medium\")\n",
    "ax2.text(0.05, 0.7, text_comp_time, transform=ax2.transAxes, ha='left', va='bottom', fontsize=\"medium\")\n",
    "ax2.text(0.05, 0.6, text_integration_time, transform=ax2.transAxes, ha='left', va='bottom', fontsize=\"medium\")\n",
    "ax2.text(0.05, 0.5, r\"$\\mathrm{{N}}_\\mathrm{{p}} = {:d}$\".format(int(streamfinal.shape[1])), transform=ax2.transAxes, ha='left', va='bottom', fontsize=\"medium\")\n",
    "\n",
    "fig.savefig(\"../../images/\"+image_name, bbox_inches='tight', dpi=300)"
   ]
  }
 ],
 "metadata": {
  "kernelspec": {
   "display_name": "thesis",
   "language": "python",
   "name": "python3"
  },
  "language_info": {
   "codemirror_mode": {
    "name": "ipython",
    "version": 3
   },
   "file_extension": ".py",
   "mimetype": "text/x-python",
   "name": "python",
   "nbconvert_exporter": "python",
   "pygments_lexer": "ipython3",
   "version": "3.11.13"
  }
 },
 "nbformat": 4,
 "nbformat_minor": 5
}
