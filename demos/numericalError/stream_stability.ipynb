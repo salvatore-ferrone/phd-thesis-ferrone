{
 "cells": [
  {
   "cell_type": "code",
   "execution_count": 1,
   "id": "df327afd",
   "metadata": {},
   "outputs": [],
   "source": [
    "import stream_time_reversability as STR\n",
    "import numpy as np\n",
    "import matplotlib.pyplot as plt\n",
    "import matplotlib as mpl\n",
    "import tstrippy\n",
    "import datetime\n",
    "import multiprocessing as mp\n",
    "from astropy import units as u\n",
    "from astropy.coordinates import SkyCoord\n",
    "import h5py"
   ]
  },
  {
   "cell_type": "code",
   "execution_count": 2,
   "id": "e447f5b7",
   "metadata": {},
   "outputs": [],
   "source": [
    "integrationtime = 1/100\n",
    "currenttime = 0 "
   ]
  },
  {
   "cell_type": "code",
   "execution_count": 3,
   "id": "be2feb57",
   "metadata": {},
   "outputs": [],
   "source": [
    "MWparams = tstrippy.Parsers.pouliasis2017pii()\n",
    "dtfactor = 1/100\n",
    "staticgalaxy = [\"pouliasis2017pii\", MWparams]\n",
    "G = MWparams[0]\n",
    "M = 1e5\n",
    "a = 5e-3\n",
    "NP = int(1e2)\n",
    "aplum = tstrippy.ergodic.convertHalfMassRadiusToPlummerRadius(a)\n",
    "tau = STR.plummer_dynamical_time([G,M,a])"
   ]
  },
  {
   "cell_type": "code",
   "execution_count": 4,
   "id": "264cb899",
   "metadata": {},
   "outputs": [],
   "source": [
    "targetGC = \"NGC6760\"\n",
    "initialkinematics = STR.pick_GC_get_kinematics(targetGC)"
   ]
  },
  {
   "cell_type": "code",
   "execution_count": 5,
   "id": "3e3b55d1",
   "metadata": {},
   "outputs": [
    {
     "name": "stdout",
     "output_type": "stream",
     "text": [
      "nsteps 2048\n"
     ]
    }
   ],
   "source": [
    "integrationparameters = STR.prepare_integration_arguments(currenttime=currenttime,\n",
    "                                                          integrationtime=integrationtime,\n",
    "                                                          tdyn=tau,\n",
    "                                                          alpha=dtfactor)\n",
    "\n",
    "print(\"nsteps\", integrationparameters[-1])\n",
    "integrationparameters = list(integrationparameters)\n"
   ]
  },
  {
   "cell_type": "code",
   "execution_count": 6,
   "id": "b52cdd4d",
   "metadata": {},
   "outputs": [
    {
     "name": "stdout",
     "output_type": "stream",
     "text": [
      "integration time:  0:00:00.006334\n"
     ]
    }
   ],
   "source": [
    "args = initialkinematics, staticgalaxy, integrationparameters\n",
    "orbit, timestamps, comptime = STR.integrate_host_orbit_back(args)"
   ]
  },
  {
   "cell_type": "code",
   "execution_count": 7,
   "id": "a1e3ccc4",
   "metadata": {},
   "outputs": [
    {
     "data": {
      "text/plain": [
       "[0, np.float64(4.882812500000001e-06), 2048]"
      ]
     },
     "execution_count": 7,
     "metadata": {},
     "output_type": "execute_result"
    }
   ],
   "source": [
    "integrationparameters"
   ]
  },
  {
   "cell_type": "code",
   "execution_count": 8,
   "id": "d362eb90",
   "metadata": {},
   "outputs": [],
   "source": [
    "inithostperturber = [timestamps, *orbit, G, M, aplum ]\n",
    "xp,yp,zp,vxp,vyp,vzp = tstrippy.ergodic.isotropicplummer(G,M,a,NP)\n",
    "integrationparameters_stream = [timestamps[0],*integrationparameters[1:]]\n",
    "initialkinematics_stream = [xp+orbit[0,0], yp+orbit[1,0], zp+orbit[2,0], vxp+orbit[3,0], vyp+orbit[4,0], vzp+orbit[5,0]]"
   ]
  },
  {
   "cell_type": "code",
   "execution_count": 9,
   "id": "8c61ac80",
   "metadata": {},
   "outputs": [],
   "source": [
    "streaminit = np.array([xp, yp, zp, vxp, vyp, vzp]).T + orbit[:,0]"
   ]
  },
  {
   "cell_type": "code",
   "execution_count": 10,
   "id": "5ffbdf57",
   "metadata": {},
   "outputs": [
    {
     "name": "stdout",
     "output_type": "stream",
     "text": [
      "Stream generation took 0.082234 seconds\n"
     ]
    }
   ],
   "source": [
    "args_stream = initialkinematics_stream, staticgalaxy, integrationparameters_stream, inithostperturber\n",
    "stream,tesc, comptime = STR.leapfrogtofinalpositions_stream(args_stream)\n",
    "print(f\"Stream generation took {comptime} seconds\")"
   ]
  },
  {
   "cell_type": "code",
   "execution_count": 11,
   "id": "c44cd509",
   "metadata": {},
   "outputs": [],
   "source": [
    "# dx,dy,dz,dvx,dvy,dvz=(stream - orbit[:,0][:,np.newaxis]).T\n",
    "dx,dy,dz,dvx,dvy,dvz=(stream - orbit[:,-1][:,np.newaxis])\n",
    "dr = np.sqrt(dx**2 + dy**2 + dz**2)\n",
    "phi0 = -G*M/(dr**2 + aplum**2)**(1/2)\n",
    "T0 = (1/2) * (dvx**2 + dvy**2 + dvz**2) \n",
    "E0 = phi0 + T0"
   ]
  },
  {
   "cell_type": "code",
   "execution_count": 12,
   "id": "dcbc42a9",
   "metadata": {},
   "outputs": [
    {
     "data": {
      "text/latex": [
       "$7.6388889 \\; \\mathrm{d}$"
      ],
      "text/plain": [
       "<Quantity 7.63888889 d>"
      ]
     },
     "execution_count": 12,
     "metadata": {},
     "output_type": "execute_result"
    }
   ],
   "source": [
    "NSTEP = int(1e6)\n",
    "NP = int(1e5)\n",
    "Nc = 80e-9\n",
    "Nmc = 50\n",
    "NGC = 165\n",
    "comptime=Nmc*NGC*NSTEP*NP*Nc * u.s\n",
    "comptime.to(u.day) / 100"
   ]
  },
  {
   "cell_type": "markdown",
   "id": "b056bb57",
   "metadata": {},
   "source": [
    "\n"
   ]
  },
  {
   "cell_type": "code",
   "execution_count": 13,
   "id": "b5a7fae1",
   "metadata": {},
   "outputs": [
    {
     "data": {
      "image/png": "[encoded data removed]",
      "text/plain": [
       "<Figure size 625x500 with 1 Axes>"
      ]
     },
     "metadata": {},
     "output_type": "display_data"
    }
   ],
   "source": [
    "fig,axis= plt.subplots(1,1,figsize=(8.25-2,5))\n",
    "axis.scatter(stream[0], stream[1], s=1, c='k', alpha=0.5)\n",
    "axis.scatter(xp+orbit[0,0], yp+orbit[1,0], s=1, c='b', alpha=0.5, label='Stream particles')\n",
    "axis.plot(orbit[0],orbit[1], c='r', lw=1, label='Host orbit')\n",
    "axis.set_aspect('equal')"
   ]
  },
  {
   "cell_type": "markdown",
   "id": "98a5283f",
   "metadata": {},
   "source": [
    "# Computation time\n",
    "\n",
    "$$C(N_p, N_{\\text{Steps}}) = A \\cdot N_p^\\alpha \\cdot N_{\\text{Steps}}^\\beta $$\n",
    "\n",
    "$$\\log C = \\log A + \\alpha \\log N_p + \\beta \\log N_{\\text{Steps}} $$\n",
    "\n",
    "$$\\log C = \\log A + \\alpha \\log N_p + \\beta \\log N_{\\text{Steps}} $$\n"
   ]
  },
  {
   "cell_type": "code",
   "execution_count": 14,
   "id": "50f7d39d",
   "metadata": {},
   "outputs": [],
   "source": [
    "alphas = np.logspace(1,-2.5,5) # the dt factors"
   ]
  },
  {
   "cell_type": "code",
   "execution_count": 15,
   "id": "a31169cc",
   "metadata": {},
   "outputs": [],
   "source": [
    "# parameters of the experiment\n",
    "Nc = 80e-9 # mean time per single step \n",
    "NPs = np.logspace(0,4,5,dtype=int)\n",
    "alphas = np.logspace(1,-2.5,5) # the dt factors\n",
    "targetGC = \"NGC6760\"\n",
    "integrationtime = .1*u.Gyr\n",
    "# reverse the order so the heavy comps come first \n",
    "alphas = alphas[::-1]\n",
    "NPs = NPs[::-1]\n",
    "# convert to integration units \n",
    "integrationtime=integrationtime.to(u.s * (u.kpc/u.km)).value"
   ]
  },
  {
   "cell_type": "code",
   "execution_count": 16,
   "id": "3103b364",
   "metadata": {},
   "outputs": [],
   "source": [
    "# get the static galaxy, which doesn't change \n",
    "MWparams = tstrippy.Parsers.pouliasis2017pii()\n",
    "staticgalaxy = ['pouliasis2017pii', MWparams]"
   ]
  },
  {
   "cell_type": "code",
   "execution_count": 17,
   "id": "25f49154",
   "metadata": {},
   "outputs": [],
   "source": [
    "# Extract the GC initial conditions \n",
    "GCdata=tstrippy.Parsers.baumgardtMWGCs().data\n",
    "GCindex = np.where(GCdata['Cluster'] == targetGC)[0][0]\n",
    "Mass = GCdata['Mass'][GCindex].value\n",
    "rhm = GCdata['rh_m'][GCindex].value\n",
    "tau=STR.plummer_dynamical_time([G,Mass,rhm])\n",
    "clusterinitialkinematics = STR.pick_GC_get_kinematics(targetGC)"
   ]
  },
  {
   "cell_type": "code",
   "execution_count": 18,
   "id": "dafc93d8",
   "metadata": {},
   "outputs": [],
   "source": [
    "currenttime=0\n",
    "# PREPARE THE ARGUMENTS FOR EACH SIMULATION \n",
    "streamInitialKinematics = {}\n",
    "for i in range(len(NPs)):\n",
    "    streamInitialKinematics[i] = np.array(tstrippy.ergodic.isotropicplummer(G, Mass, rhm, NPs[i]))\n",
    "integrationparameters = {}\n",
    "NSTEPS = []\n",
    "for i in range(len(alphas)):\n",
    "    integrationparameters[i] = STR.prepare_integration_arguments(currenttime=currenttime,\n",
    "                                                                                 integrationtime=integrationtime,\n",
    "                                                                                 tdyn=tau,\n",
    "                                                                                 alpha=alphas[i],)\n",
    "    NSTEPS.append(integrationparameters[i][-1])"
   ]
  },
  {
   "cell_type": "code",
   "execution_count": 19,
   "id": "3998b060",
   "metadata": {},
   "outputs": [],
   "source": [
    "hostparams = [G, Mass, aplum]\n",
    "arguments = []\n",
    "for i in range(len(NPs)):\n",
    "    for j in range(len(alphas)):\n",
    "        args = (staticgalaxy, integrationparameters[j], clusterinitialkinematics, hostparams,\n",
    "                streamInitialKinematics[i],)\n",
    "        arguments.append(args)"
   ]
  },
  {
   "cell_type": "code",
   "execution_count": 20,
   "id": "63193548",
   "metadata": {},
   "outputs": [],
   "source": [
    "args = arguments[-8]\n",
    "mystaticgalaxy, myintegrationparameters, myclusterinitialkinematics, myhostsparams, myinitialstream=args"
   ]
  },
  {
   "cell_type": "code",
   "execution_count": 21,
   "id": "c8c62c5b",
   "metadata": {},
   "outputs": [
    {
     "name": "stdout",
     "output_type": "stream",
     "text": [
      "integration time:  0:00:00.006366\n"
     ]
    }
   ],
   "source": [
    "hostorbit, timestamps, comptimestream = STR.integrate_host_orbit_back([myclusterinitialkinematics, mystaticgalaxy, myintegrationparameters,])\n",
    "initialkinematics = myinitialstream + hostorbit[:,0][:,np.newaxis] # shift to the host's initial position \n",
    "inithostperturber = [timestamps, *hostorbit, *myhostsparams ]\n",
    "integrationparameters_stream = [timestamps[0], *myintegrationparameters[1:]]\n",
    "streamfinal,tesc,comptimestream = STR.leapfrogtofinalpositions_stream([initialkinematics, mystaticgalaxy, integrationparameters_stream, inithostperturber])"
   ]
  },
  {
   "cell_type": "code",
   "execution_count": 21,
   "id": "079f8e72",
   "metadata": {},
   "outputs": [],
   "source": [
    "attrs = {\n",
    "    \"GCname\": targetGC,\n",
    "    \"Note\": \"An experiment testing the scaling of the computation for integrating the most typical GC\"\n",
    "}\n",
    "fname = \"./simulations/{:s}_stream_NSTEPS_{:d}_NP_{:d}_comp_time_experiment.hdf5\".format(attrs['GCname'], myintegrationparameters[-1], NPs[i])"
   ]
  },
  {
   "cell_type": "code",
   "execution_count": 22,
   "id": "7dc3452c",
   "metadata": {},
   "outputs": [
    {
     "name": "stdout",
     "output_type": "stream",
     "text": [
      "Running simulation for NGC6760 with Nsteps=2048 and NP=10\n",
      "integration time:  0:00:00.005757\n",
      "Saved results to ./simulations/NGC6760_stream_NSTEPS_2048_NP_10_comp_time_experiment.hdf5\n"
     ]
    }
   ],
   "source": [
    "allargs = (mystaticgalaxy, myintegrationparameters, myclusterinitialkinematics, myhostsparams, myinitialstream, attrs)\n",
    "STR.generate_stream_leapfrogtofinalpositions_and_save(allargs)"
   ]
  },
  {
   "cell_type": "code",
   "execution_count": 31,
   "id": "be65921d",
   "metadata": {},
   "outputs": [],
   "source": [
    "# now what do we want to write out?\n",
    "newfile = h5py.File(fname, 'w')\n",
    "newfile.create_dataset('hostorbit', data=hostorbit)\n",
    "newfile.create_dataset('plummer', data=myinitialstream)\n",
    "newfile.create_dataset('streamfinal', data=streamfinal)\n",
    "newfile.create_dataset('timestamps', data=timestamps)\n",
    "newfile.create_dataset('integrationparameters', data=myintegrationparameters)\n",
    "newfile.attrs['staticgalaxy'] = mystaticgalaxy[0]\n",
    "newfile.attrs['galaxyparams'] = mystaticgalaxy[1]\n",
    "newfile.create_dataset('streamcomptime', data=comptimestream)\n",
    "newfile.attrs['hostparams'] = myhostsparams\n",
    "for key, value in attrs.items():\n",
    "    newfile.attrs[key] = value"
   ]
  },
  {
   "cell_type": "code",
   "execution_count": null,
   "id": "4625c7ed",
   "metadata": {},
   "outputs": [],
   "source": [
    "fname = \"./simulations/{:s}_stream_NSTEPS_{:d}_NP_{:d}_comp_time_experiment.hdf5\".format(attrs['GCname'], 2048, 10)\n",
    "myfile = h5py.File(fname, 'r')"
   ]
  },
  {
   "cell_type": "code",
   "execution_count": 39,
   "id": "fb59cfa1",
   "metadata": {},
   "outputs": [
    {
     "data": {
      "text/plain": [
       "np.float64(1.1078086871644706e-06)"
      ]
     },
     "execution_count": 39,
     "metadata": {},
     "output_type": "execute_result"
    }
   ],
   "source": [
    "NP = streamfinal.shape[1]\n",
    "Nstep = hostorbit.shape[1]\n",
    "myfile['comptimestream'][()]/NP/Nstep\n"
   ]
  },
  {
   "cell_type": "code",
   "execution_count": null,
   "id": "03adff69",
   "metadata": {},
   "outputs": [],
   "source": [
    "streamfinal=myfile['streamfinal']\n",
    "hostorbit = myfile['hostorbit']\n",
    "myinitialstream = myfile['streaminitial']"
   ]
  },
  {
   "cell_type": "code",
   "execution_count": 33,
   "id": "364a09fe",
   "metadata": {},
   "outputs": [
    {
     "data": {
      "text/plain": [
       "<matplotlib.legend.Legend at 0x14f425390>"
      ]
     },
     "execution_count": 33,
     "metadata": {},
     "output_type": "execute_result"
    },
    {
     "data": {
      "image/png": "[encoded data removed]",
      "text/plain": [
       "<Figure size 625x500 with 1 Axes>"
      ]
     },
     "metadata": {},
     "output_type": "display_data"
    }
   ],
   "source": [
    "fig,axis= plt.subplots(1,1,figsize=(8.25-2,5))\n",
    "axis.scatter(streamfinal[0], streamfinal[1], s=1, c='k', alpha=0.5)\n",
    "axis.scatter(myinitialstream[0]+hostorbit[0,0], myinitialstream[1]+hostorbit[1,0], s=1, c='b', alpha=0.5, label='Stream particles')\n",
    "axis.plot(hostorbit[0], hostorbit[1], c='r', lw=1, label='Host orbit')\n",
    "axis.set_aspect('equal')\n",
    "axis.legend()"
   ]
  },
  {
   "cell_type": "code",
   "execution_count": null,
   "id": "fcd6e659",
   "metadata": {},
   "outputs": [],
   "source": [
    "# psuedo code \n",
    "\n",
    "# input arguemnts \n",
    "# GCname, NP, alpha \n",
    "\n",
    "# 1. generate host orbit\n",
    "\n",
    "# 2. generate initial stream conditions \n",
    "\n",
    "# 3. integrate stream forward in time\n",
    "\n",
    "# output\n",
    "# total computation time, energy conservation error "
   ]
  }
 ],
 "metadata": {
  "kernelspec": {
   "display_name": "thesis",
   "language": "python",
   "name": "python3"
  },
  "language_info": {
   "codemirror_mode": {
    "name": "ipython",
    "version": 3
   },
   "file_extension": ".py",
   "mimetype": "text/x-python",
   "name": "python",
   "nbconvert_exporter": "python",
   "pygments_lexer": "ipython3",
   "version": "3.11.12"
  }
 },
 "nbformat": 4,
 "nbformat_minor": 5
}
