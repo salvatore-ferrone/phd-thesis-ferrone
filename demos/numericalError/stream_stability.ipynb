{
 "cells": [
  {
   "cell_type": "code",
   "execution_count": 1,
   "id": "df327afd",
   "metadata": {},
   "outputs": [],
   "source": [
    "import stream_time_reversability as STR\n",
    "import numpy as np\n",
    "import matplotlib.pyplot as plt\n",
    "import matplotlib as mpl\n",
    "import tstrippy\n",
    "import datetime\n",
    "import multiprocessing as mp\n",
    "from astropy import units as u\n",
    "from astropy.coordinates import SkyCoord"
   ]
  },
  {
   "cell_type": "code",
   "execution_count": 4,
   "id": "e447f5b7",
   "metadata": {},
   "outputs": [],
   "source": [
    "integrationtime = 1/2\n",
    "currenttime = 0 "
   ]
  },
  {
   "cell_type": "code",
   "execution_count": 5,
   "id": "be2feb57",
   "metadata": {},
   "outputs": [],
   "source": [
    "MWparams = tstrippy.Parsers.pouliasis2017pii()\n",
    "dtfactor = 1/100\n",
    "staticgalaxy = [\"pouliasis2017pii\", MWparams]\n",
    "G = MWparams[0]\n",
    "M = 1e5\n",
    "a = 5e-3\n",
    "NP = int(1e2)\n",
    "aplum = tstrippy.ergodic.convertHalfMassRadiusToPlummerRadius(a)\n",
    "tau = STR.plummer_dynamical_time([G,M,a])"
   ]
  },
  {
   "cell_type": "code",
   "execution_count": 6,
   "id": "264cb899",
   "metadata": {},
   "outputs": [],
   "source": [
    "targetGC = \"NGC5139\"\n",
    "initialkinematics = STR.pick_GC_get_kinematics(targetGC)"
   ]
  },
  {
   "cell_type": "code",
   "execution_count": 7,
   "id": "3e3b55d1",
   "metadata": {},
   "outputs": [
    {
     "name": "stdout",
     "output_type": "stream",
     "text": [
      "nsteps 131072\n"
     ]
    }
   ],
   "source": [
    "integrationparameters = STR.prepare_integration_arguments(currenttime=currenttime,\n",
    "                                                          integrationtime=integrationtime,\n",
    "                                                          tdyn=tau,\n",
    "                                                          alpha=dtfactor)\n",
    "\n",
    "print(\"nsteps\", integrationparameters[-1])\n",
    "integrationparameters = list(integrationparameters)\n"
   ]
  },
  {
   "cell_type": "code",
   "execution_count": 8,
   "id": "b52cdd4d",
   "metadata": {},
   "outputs": [
    {
     "name": "stdout",
     "output_type": "stream",
     "text": [
      "integration time:  0:00:00.359983\n"
     ]
    }
   ],
   "source": [
    "args = initialkinematics, staticgalaxy, integrationparameters\n",
    "orbit, timestamps, comptime = STR.integrate_host_orbit_back(args)"
   ]
  },
  {
   "cell_type": "code",
   "execution_count": 9,
   "id": "a1e3ccc4",
   "metadata": {},
   "outputs": [
    {
     "data": {
      "text/plain": [
       "[0, np.float64(3.814697265625e-06), 131072]"
      ]
     },
     "execution_count": 9,
     "metadata": {},
     "output_type": "execute_result"
    }
   ],
   "source": [
    "integrationparameters"
   ]
  },
  {
   "cell_type": "code",
   "execution_count": 11,
   "id": "d362eb90",
   "metadata": {},
   "outputs": [],
   "source": [
    "inithostperturber = [timestamps, *orbit, G, M, aplum ]\n",
    "xp,yp,zp,vxp,vyp,vzp = tstrippy.ergodic.isotropicplummer(G,M,a,NP)\n",
    "integrationparameters_stream = [timestamps[0],*integrationparameters[1:]]\n",
    "initialkinematics_stream = [xp+orbit[0,0], yp+orbit[1,0], zp+orbit[2,0], vxp+orbit[3,0], vyp+orbit[4,0], vzp+orbit[5,0]]"
   ]
  },
  {
   "cell_type": "code",
   "execution_count": 12,
   "id": "8c61ac80",
   "metadata": {},
   "outputs": [],
   "source": [
    "streaminit = np.array([xp, yp, zp, vxp, vyp, vzp]).T + orbit[:,0]"
   ]
  },
  {
   "cell_type": "code",
   "execution_count": 13,
   "id": "5ffbdf57",
   "metadata": {},
   "outputs": [
    {
     "name": "stdout",
     "output_type": "stream",
     "text": [
      "Stream generation took 28.683254 seconds\n"
     ]
    }
   ],
   "source": [
    "args_stream = initialkinematics_stream, staticgalaxy, integrationparameters_stream, inithostperturber\n",
    "stream,tesc, comptime = STR.generate_stream(args_stream)\n",
    "print(f\"Stream generation took {comptime} seconds\")"
   ]
  },
  {
   "cell_type": "code",
   "execution_count": 14,
   "id": "c44cd509",
   "metadata": {},
   "outputs": [],
   "source": [
    "# dx,dy,dz,dvx,dvy,dvz=(stream - orbit[:,0][:,np.newaxis]).T\n",
    "dx,dy,dz,dvx,dvy,dvz=(stream - orbit[:,-1][:,np.newaxis])\n",
    "dr = np.sqrt(dx**2 + dy**2 + dz**2)\n",
    "phi0 = -G*M/(dr**2 + aplum**2)**(1/2)\n",
    "T0 = (1/2) * (dvx**2 + dvy**2 + dvz**2) \n",
    "E0 = phi0 + T0"
   ]
  },
  {
   "cell_type": "code",
   "execution_count": 25,
   "id": "dcbc42a9",
   "metadata": {},
   "outputs": [
    {
     "data": {
      "text/latex": [
       "$7.6388889 \\; \\mathrm{d}$"
      ],
      "text/plain": [
       "<Quantity 7.63888889 d>"
      ]
     },
     "execution_count": 25,
     "metadata": {},
     "output_type": "execute_result"
    }
   ],
   "source": [
    "NSTEP = int(1e6)\n",
    "NP = int(1e5)\n",
    "Nc = 80e-9\n",
    "Nmc = 50\n",
    "NGC = 165\n",
    "comptime=Nmc*NGC*NSTEP*NP*Nc * u.s\n",
    "comptime.to(u.day) / 100"
   ]
  },
  {
   "cell_type": "markdown",
   "id": "b056bb57",
   "metadata": {},
   "source": [
    "$$C(N_p, N_{\\text{Steps}}) = A \\cdot N_p^\\alpha \\cdot N_{\\text{Steps}}^\\beta $$\n",
    "\n",
    "$$\\log C = \\log A + \\alpha \\log N_p + \\beta \\log N_{\\text{Steps}} $$\n",
    "\n",
    "$$\\log C = \\log A + \\alpha \\log N_p + \\beta \\log N_{\\text{Steps}} $$"
   ]
  },
  {
   "cell_type": "code",
   "execution_count": null,
   "id": "febeaa8b",
   "metadata": {},
   "outputs": [],
   "source": [
    "\n"
   ]
  },
  {
   "cell_type": "code",
   "execution_count": 16,
   "id": "b5a7fae1",
   "metadata": {},
   "outputs": [
    {
     "data": {
      "image/png": "[encoded data removed]",
      "text/plain": [
       "<Figure size 625x500 with 1 Axes>"
      ]
     },
     "metadata": {},
     "output_type": "display_data"
    }
   ],
   "source": [
    "fig,axis= plt.subplots(1,1,figsize=(8.25-2,5))\n",
    "axis.scatter(stream[0], stream[1], s=1, c='k', alpha=0.5)\n",
    "axis.scatter(xp+orbit[0,0], yp+orbit[1,0], s=1, c='b', alpha=0.5, label='Stream particles')\n",
    "axis.plot(orbit[0],orbit[1], c='r', lw=1, label='Host orbit')\n",
    "axis.set_aspect('equal')"
   ]
  },
  {
   "cell_type": "code",
   "execution_count": null,
   "id": "98a5283f",
   "metadata": {},
   "outputs": [],
   "source": []
  }
 ],
 "metadata": {
  "kernelspec": {
   "display_name": "thesis",
   "language": "python",
   "name": "python3"
  },
  "language_info": {
   "codemirror_mode": {
    "name": "ipython",
    "version": 3
   },
   "file_extension": ".py",
   "mimetype": "text/x-python",
   "name": "python",
   "nbconvert_exporter": "python",
   "pygments_lexer": "ipython3",
   "version": "3.11.12"
  }
 },
 "nbformat": 4,
 "nbformat_minor": 5
}
