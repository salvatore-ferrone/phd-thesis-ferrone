{
 "cells": [
  {
   "cell_type": "code",
   "execution_count": 1,
   "id": "df327afd",
   "metadata": {},
   "outputs": [],
   "source": [
    "import stream_time_reversability as STR\n",
    "import numpy as np\n",
    "import matplotlib.pyplot as plt\n",
    "import matplotlib as mpl\n",
    "import tstrippy\n",
    "import datetime\n",
    "import multiprocessing as mp\n",
    "from astropy import units as u\n",
    "from astropy.coordinates import SkyCoord\n",
    "import h5py\n",
    "plt.rcParams['axes.prop_cycle'] = plt.cycler(color=plt.cm.Pastel2.colors)\n",
    "plt.rcParams.update({\n",
    "    \"text.usetex\": True,\n",
    "    \"font.family\": \"serif\",\n",
    "    \"font.serif\": [\"Computer Modern Roman\"],\n",
    "})"
   ]
  },
  {
   "cell_type": "code",
   "execution_count": 2,
   "id": "2fb5d93e",
   "metadata": {},
   "outputs": [],
   "source": [
    "# # quick test to look at the time steps that are being used...\n",
    "# MWparams = tstrippy.Parsers.pouliasis2017pii()\n",
    "# staticgalaxy = [\"poulisasis2017pii\", MWparams ]\n",
    "# integrationparameters = [0, 1e-5, 2]\n",
    "# clusterinitialkinematics = [0, 8, 0, 220, 0, 0]\n",
    "# G,M,rhm,NP = MWparams[0],1e5, 5e-3,int(1e3)\n",
    "# aplum = tstrippy.ergodic.convertHalfMassRadiusToPlummerRadius(rhm)\n",
    "# hostparams = [G, M, aplum]\n",
    "# initialstream=tstrippy.ergodic.isotropicplummer(G,M,rhm,NP)\n",
    "# args = staticgalaxy, integrationparameters, clusterinitialkinematics, hostparams, initialstream\n",
    "# timestamps, timestamps_stream, hostorbit, streamfinal, tesc, comptimeorbit, comptimestream=STR.generate_stream_leapfrogtofinalpositions(args)"
   ]
  },
  {
   "cell_type": "markdown",
   "id": "3181a64c",
   "metadata": {},
   "source": [
    "# design reverse integrability"
   ]
  },
  {
   "cell_type": "code",
   "execution_count": null,
   "id": "cf8fcd35",
   "metadata": {},
   "outputs": [
    {
     "name": "stdout",
     "output_type": "stream",
     "text": [
      "39.693143\n"
     ]
    }
   ],
   "source": [
    "path=\"./simulations/\"\n",
    "fnames=os.listdir(\"./simulations/\")\n",
    "fnames = [f for f in fnames if f.endswith('.hdf5') ]\n",
    "fname = fnames[4]\n",
    "fname = \"NGC6171_stream_NSTEPS_1048576_NP_251_comp_time_experiment.hdf5\"\n",
    "myfile = h5py.File(path+fname, 'r')\n",
    "GCname = myfile.attrs['GCname']\n",
    "print(\"comptime\", myfile['comptimestream'][()])"
   ]
  },
  {
   "cell_type": "code",
   "execution_count": 6,
   "id": "abcb2ab7",
   "metadata": {},
   "outputs": [],
   "source": [
    "streaminitial = myfile['streaminitial'][:]\n",
    "hostorbit=myfile[\"hostorbit\"][:]\n",
    "hosttimestamps = myfile[\"timestamps\"][:]\n",
    "timestamps_stream = myfile[\"timestamps_stream\"][:]\n",
    "hostparams = myfile.attrs[\"hostparams\"]\n",
    "inithostperturber = [hosttimestamps, *hostorbit, *hostparams]\n",
    "integrationparameters = myfile.attrs[\"integrationparameters\"]\n",
    "staticgalaxy=[myfile.attrs['potentialname'], myfile.attrs['potentialparams']]\n",
    "streamfinal=myfile['streamfinal'][:]\n",
    "args = [streamfinal, staticgalaxy, integrationparameters, inithostperturber]\n"
   ]
  },
  {
   "cell_type": "code",
   "execution_count": 7,
   "id": "6a7549a3",
   "metadata": {},
   "outputs": [
    {
     "name": "stdout",
     "output_type": "stream",
     "text": [
      "(6, 251)\n"
     ]
    }
   ],
   "source": [
    "stream_retrace, tesc, timestamps_retrace, comptime = STR.leapfrogtofinalpositions_stream_retrace(args)\n",
    "print(streaminitial.shape)\n",
    "# shift to where it should be \n",
    "streaminitial = streaminitial + hostorbit[:,0][:,np.newaxis]"
   ]
  },
  {
   "cell_type": "code",
   "execution_count": 9,
   "id": "ba345959",
   "metadata": {},
   "outputs": [
    {
     "name": "stdout",
     "output_type": "stream",
     "text": [
      "(2097153,)\n",
      "(1048577,)\n"
     ]
    }
   ],
   "source": [
    "print(hosttimestamps.shape)\n",
    "print(timestamps_stream.shape)"
   ]
  },
  {
   "cell_type": "code",
   "execution_count": 10,
   "id": "96d1e79f",
   "metadata": {},
   "outputs": [
    {
     "data": {
      "text/plain": [
       "(6, 2097153)"
      ]
     },
     "execution_count": 10,
     "metadata": {},
     "output_type": "execute_result"
    }
   ],
   "source": [
    "hostorbit.shape"
   ]
  },
  {
   "cell_type": "code",
   "execution_count": 11,
   "id": "be1b4502",
   "metadata": {},
   "outputs": [
    {
     "name": "stdout",
     "output_type": "stream",
     "text": [
      "Timestep: dt = 9.5367431640625e-07\n",
      "Dynamical time: τ = 0.00030\n",
      "Number of steps per dynamical time: 311.1\n",
      "Ratio dt/τ = $0.0 \\times 10^{-4}$\n",
      "Boosted ratio dt/τ = $\\Delta t = 3.2 \\times 10^{-3} \\tau$\n",
      "$\\mathrm{Comp~time} = 39.91~\\mathrm{s}$\n",
      "$\\mathrm{T} = 978~\\mathrm{Myr}$\n"
     ]
    }
   ],
   "source": [
    "dt = integrationparameters[1]\n",
    "tau=np.sqrt(hostparams[2]**3/(hostparams[0]*hostparams[1]))\n",
    "alpha = dt/tau\n",
    "alpha\n",
    "# Calculate the number of timesteps per dynamical time\n",
    "n_steps_per_tau = tau / dt\n",
    "\n",
    "# Format alpha (dt/tau) in scientific notation\n",
    "mantissa =  10**(int(np.floor(np.log10(abs(alpha)))))\n",
    "exponent = int(np.floor(np.log10(abs(alpha))))\n",
    "alpha_formatted = r\"${:.1f} \\times 10^{{{}}}$\".format(mantissa*10, exponent-1)\n",
    "\n",
    "print(f\"Timestep: dt = {dt}\")\n",
    "print(f\"Dynamical time: τ = {tau:.5f}\")\n",
    "print(f\"Number of steps per dynamical time: {n_steps_per_tau:.1f}\")\n",
    "print(f\"Ratio dt/τ = {alpha_formatted}\")\n",
    "\n",
    "boost = 1\n",
    "matissa = 10**(np.log10(alpha) - int(np.log10(alpha)) + boost)\n",
    "exponent = int(np.log10(alpha)) - boost\n",
    "alpha_formatted = r\"$\\Delta t = {:.1f} \\times 10^{{{}}} \\tau$\".format(matissa, exponent)\n",
    "print(f\"Boosted ratio dt/τ = {alpha_formatted}\")\n",
    "text_comp_time = r\"$\\mathrm{{Comp~time}} = {:.2f}~\\mathrm{{s}}$\".format(comptime)\n",
    "integrationtime=integrationparameters[-1]*integrationparameters[1]\n",
    "NSTEPS = int(integrationparameters[-1])\n",
    "integrationtime=integrationtime*(u.s * (u.kpc/u.km))\n",
    "integrationtime = integrationtime.to(u.Myr)\n",
    "text_integration_time = r\"$\\mathrm{{T}} = {:.0f}~\\mathrm{{Myr}}$\".format(integrationtime.value)\n",
    "print(text_comp_time)\n",
    "print(text_integration_time)\n",
    "image_name = \"NumericalErrorStreamRetrace_{:s}_Nsteps_{:d}_stepsPerTau_{:d}.png\".format(GCname, NSTEPS, int(n_steps_per_tau))"
   ]
  },
  {
   "cell_type": "code",
   "execution_count": 12,
   "id": "cfeff725",
   "metadata": {},
   "outputs": [],
   "source": [
    "def compute_stream_energy(MWparams,hostparams,hostkinematics,stream):\n",
    "    \"\"\"\n",
    "    Compute the energy of the stream given the static galaxy potential and host kinematics.\n",
    "    \"\"\"\n",
    "    # get the potential in the MW \n",
    "    _,_,_,phiMW = tstrippy.potentials.pouliasis2017pii(MWparams, stream[0], stream[1], stream[2])\n",
    "    # get the total kinetic energy \n",
    "    T = 0.5 * (stream[3]**2 + stream[4]**2 + stream[5]**2)\n",
    "    # get the distance to the host\n",
    "    dx,dy,dz = stream[0] - hostkinematics[0], stream[1] - hostkinematics[1], stream[2] - hostkinematics[2]\n",
    "    _,_,_,phiHost = tstrippy.potentials.plummer(hostparams, dx, dy, dz)\n",
    "    return phiMW, phiHost, T\n"
   ]
  },
  {
   "cell_type": "code",
   "execution_count": 13,
   "id": "baef69a9",
   "metadata": {},
   "outputs": [
    {
     "data": {
      "text/plain": [
       "array([4.30091727e-06, 6.12000000e+04, 2.85108588e-03])"
      ]
     },
     "execution_count": 13,
     "metadata": {},
     "output_type": "execute_result"
    }
   ],
   "source": [
    "hostparams\n"
   ]
  },
  {
   "cell_type": "code",
   "execution_count": 25,
   "id": "5e66509e",
   "metadata": {},
   "outputs": [
    {
     "data": {
      "text/plain": [
       "np.float64(0.0)"
      ]
     },
     "execution_count": 25,
     "metadata": {},
     "output_type": "execute_result"
    }
   ],
   "source": [
    "timestamps_retrace[0]"
   ]
  },
  {
   "cell_type": "code",
   "execution_count": 26,
   "id": "1b8ec5cc",
   "metadata": {},
   "outputs": [],
   "source": [
    "phiMW0, phiHost0, T0 = compute_stream_energy(staticgalaxy[1], hostparams, hostorbit[:,0], streaminitial)\n",
    "phiMWstream, phiHoststream, Tstream = compute_stream_energy(staticgalaxy[1], hostparams, hostorbit[:,0], streamfinal)\n",
    "phiMWR, phiHostR, TR = compute_stream_energy(staticgalaxy[1], hostparams, hostorbit[:,0], stream_retrace)\n",
    "\n",
    "E0 = phiMW0 + phiHost0 + T0\n",
    "Estream = phiMWstream + phiHoststream + Tstream\n",
    "ER = phiMWR + phiHostR + TR\n"
   ]
  },
  {
   "cell_type": "code",
   "execution_count": 27,
   "id": "03e18b85",
   "metadata": {},
   "outputs": [],
   "source": [
    "errEF=np.abs((Estream - E0) / E0)\n",
    "errER = np.abs((ER - E0) / E0)"
   ]
  },
  {
   "cell_type": "code",
   "execution_count": 28,
   "id": "e7922528",
   "metadata": {},
   "outputs": [],
   "source": [
    "plt.rcParams['axes.prop_cycle'] = plt.cycler(color=plt.cm.Accent.colors)"
   ]
  },
  {
   "cell_type": "code",
   "execution_count": 38,
   "id": "c3c38c7c",
   "metadata": {},
   "outputs": [
    {
     "data": {
      "image/png": "[encoded data removed]",
      "text/plain": [
       "<Figure size 625x450 with 2 Axes>"
      ]
     },
     "metadata": {},
     "output_type": "display_data"
    }
   ],
   "source": [
    "# fig,axis= plt.subplots(1,1,figsize=((8.25-2),(8.25-2)/2))\n",
    "fig = plt.figure(figsize=(8.25-2, 4.5))\n",
    "gs = mpl.gridspec.GridSpec(1, 2, figure=fig)\n",
    "axis = fig.add_subplot(gs[0, 0])\n",
    "ax2 = fig.add_subplot(gs[0, 1], )\n",
    "axis.plot(hostorbit[0,6:], hostorbit[1,6:], 'k-', label='Host orbit',zorder=0)\n",
    "scatStream=axis.scatter(streamfinal[0], streamfinal[1], s=1, label='Stream')\n",
    "scatRetrace=axis.scatter(stream_retrace[0], stream_retrace[1], s=1, label='Retrace')\n",
    "scatInit=axis.scatter(streaminitial[0],  streaminitial[1], s=1,  label='Initial')\n",
    "# Also make markers in the inset legend bigger if needed\n",
    "xymin = np.min([axis.get_xlim()[0], axis.get_ylim()[0]])\n",
    "xymax = np.max([axis.get_xlim()[1], axis.get_ylim()[1]])\n",
    "axis.set_xlim(3*xymin, 3*xymax)\n",
    "axis.set_ylim(3*xymin, 3*xymax)\n",
    "\n",
    "# add a subplot that zooms on the retrace positions\n",
    "axins = axis.inset_axes([0.075, 0.575, 0.4, 0.4])  # [x0, y0, width, height]\n",
    "axins.scatter(streaminitial[0],   streaminitial[1], s=10, c=scatInit.get_edgecolor(), label='Stream initial positions')\n",
    "axins.scatter(stream_retrace[0], stream_retrace[1], s=1, c=scatRetrace.get_edgecolor(), label='Stream retrace positions')\n",
    "axins.set_aspect('equal', adjustable='box')\n",
    "# Add indicator lines from the main plot to the inset\n",
    "axis.indicate_inset_zoom(axins, edgecolor=\"black\")\n",
    "# only do a couple characteristic radii\n",
    "hostparams[-1]\n",
    "radius = 10*hostparams[-1]\n",
    "axins.set_xlim(hostorbit[0,0] + - radius, hostorbit[0,0]  + radius)\n",
    "axins.set_ylim(hostorbit[1,0] + - radius, hostorbit[1,0]  + radius)\n",
    "axins.set_xticks([])\n",
    "axins.set_yticks([])\n",
    "\n",
    "# Make markers in legend bigger\n",
    "axis.legend(loc='lower right')\n",
    "axis.set_aspect('equal', )\n",
    "axis.set_xlabel(r'$x$ [kpc]')\n",
    "axis.set_ylabel(r'$y$ [kpc]')\n",
    "legend = axis.legend(loc='lower right')\n",
    "for handle in legend.legend_handles:\n",
    "    handle._sizes = [30]\n",
    "\n",
    "\n",
    "bins = np.logspace(-12,1,40)\n",
    "ax2.hist(errEF,bins=bins, histtype='step', color=scatStream.get_facecolor(), lw=2, label='Stream', linestyle='-');\n",
    "ax2.hist(errER,bins=bins, histtype='step', color=scatRetrace.get_facecolor(), lw=2, label='Retrace', linestyle='-.');\n",
    "ax2.set_xscale('log')\n",
    "\n",
    "ax2.set_xlabel(r'$|E - E_0| / E_0$')\n",
    "ax2.legend(loc=\"lower left\")\n",
    "\n",
    "# Make sure ax2 has the same height as axis\n",
    "ax2.set_position([ax2.get_position().x0, \n",
    "                 axis.get_position().y0, \n",
    "                 ax2.get_position().width, \n",
    "                 axis.get_position().height])\n",
    "ax2.text(0.05, 0.9, r\"$\\mathrm{{{:s}}}$\".format(GCname), transform=ax2.transAxes, ha='left', va='bottom', fontsize=\"medium\")\n",
    "ax2.text(0.05, 0.8, alpha_formatted, transform=ax2.transAxes, ha='left', va='bottom', fontsize=\"medium\")\n",
    "ax2.text(0.05, 0.7, text_comp_time, transform=ax2.transAxes, ha='left', va='bottom', fontsize=\"medium\")\n",
    "ax2.text(0.05, 0.6, text_integration_time, transform=ax2.transAxes, ha='left', va='bottom', fontsize=\"medium\")\n",
    "ax2.text(0.05, 0.5, r\"$\\mathrm{{N}}_\\mathrm{{p}} = {:d}$\".format(int(streamfinal.shape[1])), transform=ax2.transAxes, ha='left', va='bottom', fontsize=\"medium\")\n",
    "\n",
    "fig.savefig(\"../../images/\"+image_name, bbox_inches='tight', dpi=300)"
   ]
  },
  {
   "cell_type": "code",
   "execution_count": 39,
   "id": "f0b8e62a",
   "metadata": {},
   "outputs": [
    {
     "data": {
      "image/png": "[encoded data removed]",
      "text/plain": [
       "<Figure size 625x312.5 with 1 Axes>"
      ]
     },
     "metadata": {},
     "output_type": "display_data"
    }
   ],
   "source": [
    "fig,axis= plt.subplots(1,1,figsize=((8.25-2),(8.25-2)/2))\n",
    "axis.scatter(streaminitial[0],   streaminitial[1], s=10, c=scatInit.get_edgecolor(), label='Stream initial positions')\n",
    "axis.scatter(stream_retrace[0], stream_retrace[1], s=1, c=scatRetrace.get_edgecolor(), label='Stream retrace positions')\n",
    "axis.set_aspect('equal', )"
   ]
  },
  {
   "cell_type": "code",
   "execution_count": 40,
   "id": "e447f5b7",
   "metadata": {},
   "outputs": [],
   "source": [
    "# pseduo code\n",
    "\n",
    "# slip the sign of the velocities for the host when we change directions \n",
    "\n",
    "# no need to reorient the array becuase the new func to coordinate the indicies is good\n",
    "\n",
    "# no need to flip the sign of the velocities for the stream, setbackwardorbit does that\n",
    "\n",
    "# so load in the orbit\n",
    "\n",
    "# take the integration parameters\n",
    "\n",
    "# load in the stream particles at the end\n",
    "\n",
    "# integrate backward and see where we land "
   ]
  },
  {
   "cell_type": "code",
   "execution_count": 41,
   "id": "dcbc42a9",
   "metadata": {},
   "outputs": [
    {
     "data": {
      "text/latex": [
       "$7.6388889 \\; \\mathrm{d}$"
      ],
      "text/plain": [
       "<Quantity 7.63888889 d>"
      ]
     },
     "execution_count": 41,
     "metadata": {},
     "output_type": "execute_result"
    }
   ],
   "source": [
    "NSTEP = int(1e6)\n",
    "NP = int(1e5)\n",
    "Nc = 80e-9\n",
    "Nmc = 50\n",
    "NGC = 165\n",
    "comptime=Nmc*NGC*NSTEP*NP*Nc * u.s\n",
    "comptime.to(u.day) / 100"
   ]
  },
  {
   "cell_type": "markdown",
   "id": "98a5283f",
   "metadata": {},
   "source": [
    "# Computation time\n",
    "\n",
    "$$C(N_p, N_{\\text{Steps}}) = A \\cdot N_p^\\alpha \\cdot N_{\\text{Steps}}^\\beta $$\n",
    "\n",
    "$$\\log C = \\log A + \\alpha \\log N_p + \\beta \\log N_{\\text{Steps}} $$\n",
    "\n",
    "$$\\log C = \\log A + \\alpha \\log N_p + \\beta \\log N_{\\text{Steps}} $$\n"
   ]
  },
  {
   "cell_type": "code",
   "execution_count": 42,
   "id": "50f7d39d",
   "metadata": {},
   "outputs": [],
   "source": [
    "import os \n",
    "targetGC = 'NGC6760'\n",
    "integrationtime = 1  # in dynamical time units\n",
    "NPs = np.logspace(1,3,3, dtype=int)  # number of particles for the stream\n",
    "alphas = np.logspace(1,-2,3)\n",
    "Nc = 80e-9 # mean time per single step "
   ]
  },
  {
   "cell_type": "code",
   "execution_count": 43,
   "id": "aa51a1a7",
   "metadata": {},
   "outputs": [],
   "source": [
    "path=\"./simulations/\"\n",
    "fnames=os.listdir(\"./simulations/\")\n",
    "fnames = [f for f in fnames if f.endswith('.hdf5') ]\n",
    "NPs = [ ]\n",
    "NSTEPS = []\n",
    "comp = []\n",
    "for i in range(0,len(fnames)):\n",
    "    myfile=h5py.File(path+fnames[i], 'r')\n",
    "    NSTEP = myfile['hostorbit'].shape[1]\n",
    "    NP = myfile['streamfinal'].shape[1]\n",
    "    comptimestream = myfile['comptimestream'][()]\n",
    "\n",
    "    NPs.append(NP)\n",
    "    NSTEPS.append(NSTEP)\n",
    "    comp.append(comptimestream)\n",
    "\n",
    "NPs = np.array(NPs)\n",
    "NSTEPS = np.array(NSTEPS)\n",
    "comp = np.array(comp)"
   ]
  },
  {
   "cell_type": "code",
   "execution_count": 44,
   "id": "be51ec80",
   "metadata": {},
   "outputs": [
    {
     "data": {
      "text/plain": [
       "np.float64(1.643122331975621e-06)"
      ]
     },
     "execution_count": 44,
     "metadata": {},
     "output_type": "execute_result"
    }
   ],
   "source": [
    "np.mean(comp/NPs/NSTEPS)"
   ]
  },
  {
   "cell_type": "code",
   "execution_count": 45,
   "id": "364a09fe",
   "metadata": {},
   "outputs": [],
   "source": [
    "logNPS = np.log10(NPs)\n",
    "logNSTEPS = np.log10(NSTEPS)\n",
    "logcomp = np.log10(comp)"
   ]
  },
  {
   "cell_type": "code",
   "execution_count": 46,
   "id": "df90f806",
   "metadata": {},
   "outputs": [
    {
     "name": "stdout",
     "output_type": "stream",
     "text": [
      "Fit: log C = -6.78 ± 0.21 + 1.43 ± 0.06 log Np + 0.86 ± 0.03 log Nsteps\n",
      "Fit: C = 10^-6.78 ± 0.21 * Np^1.43 ± 0.06 * Nsteps^0.86 ± 0.03\n"
     ]
    }
   ],
   "source": [
    "A = np.vstack([np.ones_like(logNPS), logNPS, logNSTEPS]).T\n",
    "coeffs, residuals, rank, s = np.linalg.lstsq(A, logcomp, rcond=None)\n",
    "logA, alpha, beta = coeffs\n",
    "\n",
    "# Estimate variance of residuals\n",
    "n = len(logcomp)\n",
    "p = A.shape[1]\n",
    "res_var = residuals[0] / (n - p) if residuals.size > 0 else 0\n",
    "\n",
    "# Covariance matrix of coefficients\n",
    "cov = res_var * np.linalg.inv(A.T @ A)\n",
    "errors = np.sqrt(np.diag(cov))\n",
    "\n",
    "logA_err, alpha_err, beta_err = errors\n",
    "\n",
    "print(f\"Fit: log C = {logA:.2f} ± {logA_err:.2f} + {alpha:.2f} ± {alpha_err:.2f} log Np + {beta:.2f} ± {beta_err:.2f} log Nsteps\")\n",
    "print(f\"Fit: C = 10^{logA:.2f} ± {logA_err:.2f} * Np^{alpha:.2f} ± {alpha_err:.2f} * Nsteps^{beta:.2f} ± {beta_err:.2f}\")\n"
   ]
  },
  {
   "cell_type": "code",
   "execution_count": 47,
   "id": "ba9c9397",
   "metadata": {},
   "outputs": [],
   "source": [
    "cmax = np.max(comp)\n",
    "cmin = np.min(comp)\n",
    "norm = mpl.colors.LogNorm(vmin=cmin, vmax=cmax)\n",
    "cmap = mpl.cm.rainbow\n",
    "colors = cmap(norm(comp))"
   ]
  },
  {
   "cell_type": "code",
   "execution_count": 48,
   "id": "2801fac4",
   "metadata": {},
   "outputs": [],
   "source": [
    "\n",
    "mantissa=10**(logA - int(logA) + boost)\n",
    "exponent= int(logA) - boost\n",
    "compstring = r\"$\\mathrm{{C}} = {{{:.2f}}} \\times 10^{{{:.0f}}}~\\mathrm{{s}} \\cdot N_p^{{{:.2f}}} \\cdot N_{{\\mathrm{{steps}}}}^{{{:.2f}}}$\".format(mantissa,int(exponent), alpha, beta)\n"
   ]
  },
  {
   "cell_type": "code",
   "execution_count": 49,
   "id": "bc931e3a",
   "metadata": {},
   "outputs": [
    {
     "name": "stderr",
     "output_type": "stream",
     "text": [
      "/var/folders/vt/72vlp8hj577dnzr1gl35j41c0000gn/T/ipykernel_66238/469843656.py:6: UserWarning: No data for colormapping provided via 'c'. Parameters 'cmap' will be ignored\n",
      "  axis.scatter(NSTEPS, NPs, c=colors, marker=\"s\", s=100, cmap='viridis', alpha=0.7)\n"
     ]
    },
    {
     "data": {
      "image/png": "[encoded data removed]",
      "text/plain": [
       "<Figure size 625x300 with 2 Axes>"
      ]
     },
     "metadata": {},
     "output_type": "display_data"
    }
   ],
   "source": [
    "fig=plt.figure(figsize=(8.25-2,3))\n",
    "gs = fig.add_gridspec(1, 2, width_ratios=[1, 1/50],hspace=0.1, wspace=0.1)\n",
    "axis = fig.add_subplot(gs[0, 0])\n",
    "cax = fig.add_subplot(gs[0, 1])\n",
    "axis.grid(True, which='both', linestyle='--', linewidth=0.1)\n",
    "axis.scatter(NSTEPS, NPs, c=colors, marker=\"s\", s=100, cmap='viridis', alpha=0.7)\n",
    "axis.set_xlabel(r'$\\mathrm{N}_{\\mathrm{steps}}$')\n",
    "axis.set_ylabel(r'$\\mathrm{N}_{\\mathrm{particles}}$')\n",
    "axis.set_title(r'$\\mathrm{Stream~creation~in~Pouliasis~2017~MW}$')\n",
    "axis.set_xscale('log')\n",
    "axis.set_yscale('log')\n",
    "# axis.set_aspect('equal')\n",
    "sm = plt.cm.ScalarMappable(cmap=cmap, norm=norm)\n",
    "sm.set_array([])\n",
    "cbar = fig.colorbar(sm, cax=cax)\n",
    "cbar.set_label(r'$\\mathrm{Computation~time~(s)}$', rotation=270, labelpad=15)\n",
    "cbar.ax.tick_params(labelsize=8)\n",
    "# make the colorbar the same height as the plot\n",
    "# Adjust colorbar position to match plot height\n",
    "cbar.ax.set_position([cbar.ax.get_position().x0, \n",
    "                     axis.get_position().y0, \n",
    "                     cbar.ax.get_position().width, \n",
    "                     axis.get_position().height])\n",
    "\n",
    "axis.set_title(compstring, fontsize=\"large\")\n",
    "fig.savefig(\"../../images/NumericalErrorComputationTimeScalingForStreams.png\", bbox_inches='tight', dpi=300)"
   ]
  },
  {
   "cell_type": "code",
   "execution_count": null,
   "id": "be3b5b3b",
   "metadata": {},
   "outputs": [],
   "source": []
  }
 ],
 "metadata": {
  "kernelspec": {
   "display_name": "thesis",
   "language": "python",
   "name": "python3"
  },
  "language_info": {
   "codemirror_mode": {
    "name": "ipython",
    "version": 3
   },
   "file_extension": ".py",
   "mimetype": "text/x-python",
   "name": "python",
   "nbconvert_exporter": "python",
   "pygments_lexer": "ipython3",
   "version": "3.11.12"
  }
 },
 "nbformat": 4,
 "nbformat_minor": 5
}
