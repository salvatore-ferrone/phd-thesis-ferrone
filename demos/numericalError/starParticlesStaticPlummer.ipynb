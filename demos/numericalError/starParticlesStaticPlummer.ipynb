{
 "cells": [
  {
   "cell_type": "code",
   "execution_count": 1,
   "id": "5a4352df",
   "metadata": {},
   "outputs": [],
   "source": [
    "import numpy as np\n",
    "import matplotlib.pyplot as plt\n",
    "import matplotlib as mpl\n",
    "import tstrippy\n",
    "from astropy import units as u\n",
    "from astropy import constants as const\n",
    "import starParticlesErr1 as SPE\n",
    "import datetime\n",
    "import multiprocessing as mp\n",
    "plt.rcParams.update({\n",
    "    \"text.usetex\": True,\n",
    "    \"font.family\": \"serif\",\n",
    "    \"font.serif\": [\"Computer Modern Roman\"],\n",
    "})"
   ]
  },
  {
   "cell_type": "code",
   "execution_count": 9,
   "id": "f0bf83b5",
   "metadata": {},
   "outputs": [],
   "source": [
    "GCdata=tstrippy.Parsers.baumgardtMWGCs().data\n",
    "np.savetxt( \"GCnames.txt\", GCdata['Cluster'][:],fmt='%s')"
   ]
  },
  {
   "cell_type": "code",
   "execution_count": 2,
   "id": "55f7ff37",
   "metadata": {},
   "outputs": [
    {
     "name": "stdout",
     "output_type": "stream",
     "text": [
      "Running 6 batches with 6 CPUs, each with 166 particles\n",
      "Alpha: 2, Computation time: 0.56 seconds\n",
      "Running 6 batches with 6 CPUs, each with 166 particles\n",
      "Alpha: 1, Computation time: 0.56 seconds\n",
      "Running 6 batches with 6 CPUs, each with 166 particles\n",
      "Alpha: 0.1, Computation time: 0.56 seconds\n",
      "Running 6 batches with 6 CPUs, each with 166 particles\n",
      "Alpha: 0.01, Computation time: 0.78 seconds\n",
      "Running 6 batches with 6 CPUs, each with 166 particles\n",
      "Alpha: 0.001, Computation time: 2.44 seconds\n",
      "Running 6 batches with 6 CPUs, each with 166 particles\n",
      "Alpha: 0.0001, Computation time: 15.39 seconds\n"
     ]
    }
   ],
   "source": [
    "NP = 1000\n",
    "integrationtime = 100\n",
    "\n",
    "alphas = [2,1,1/10,1/100,1/1000,1/10000,] # number of experiments \n",
    "\n",
    "# for accelerating the computation \n",
    "freecpu = 2 \n",
    "ncpu = mp.cpu_count()-freecpu\n",
    "nbatches = ncpu \n",
    "\n",
    "\n",
    "\n",
    "comptime = []\n",
    "streams = []\n",
    "alpha_adjusted = []\n",
    "errE = []\n",
    "arguments = []\n",
    "NSTEPS = [ ]\n",
    "for i in range(len(alphas)):\n",
    "    alpha = alphas[i]\n",
    "    initialkinematics, staticgalaxy, integrationparameters = SPE.prepare_integration_arguments(NP, integrationtime, alpha)\n",
    "    initialkinematics = np.array(initialkinematics)\n",
    "    args = [initialkinematics, staticgalaxy, integrationparameters]\n",
    "    start_time = datetime.datetime.now()\n",
    "    stream, comptime_i = SPE.batch_leapfrogtofinalpositions(args, nbatches=nbatches, freecpu=freecpu)\n",
    "    endtime = datetime.datetime.now()\n",
    "    cccomptime = (endtime - start_time).total_seconds()\n",
    "    print(f\"Alpha: {alpha}, Computation time: {cccomptime:.2f} seconds\")\n",
    "    streams.append(stream)\n",
    "    comptime.append(comptime_i)\n",
    "    alpha_adjusted.append(integrationparameters[1])\n",
    "    arguments.append(args)\n",
    "    NSTEPS.append(integrationparameters[-1])\n",
    "\n",
    "# power = int(np.log10(alpha_out))\n",
    "# mantissa = alpha_out / 10**power\n",
    "# dtstring = r\"$\\Delta t = {:.2f} \\times 10^{{{:d}}}~\\tau $\" .format(mantissa, power)\n"
   ]
  },
  {
   "cell_type": "code",
   "execution_count": 3,
   "id": "f6153b7c",
   "metadata": {},
   "outputs": [],
   "source": [
    "# get the error for each one \n",
    "errE = []\n",
    "for i in range(len(alphas)):\n",
    "    args = arguments[i]\n",
    "    initialkinematics, staticgalaxy, integrationparameters = args\n",
    "    Erel = SPE.realative_enery_error_final(initialkinematics, staticgalaxy, streams[i])\n",
    "    errE.append(Erel)"
   ]
  },
  {
   "cell_type": "code",
   "execution_count": 4,
   "id": "c0e93133",
   "metadata": {},
   "outputs": [
    {
     "data": {
      "image/png": "[encoded data removed]",
      "text/plain": [
       "<Figure size 625x300 with 1 Axes>"
      ]
     },
     "metadata": {},
     "output_type": "display_data"
    }
   ],
   "source": [
    "fig,axis= plt.subplots(figsize=(8.25-2, 3))\n",
    "bins = np.logspace(-16, 0, 100)\n",
    "cmap = mpl.colormaps['rainbow']\n",
    "norm = mpl.colors.Normalize(vmin=0, vmax=1)\n",
    "for i in range(len(alphas)):\n",
    "    args = arguments[i]\n",
    "    initialkinematics, staticgalaxy, integrationparameters = args\n",
    "    # get the eccentricities\n",
    "    axis.scatter(np.ones_like(errE[i]) * alpha_adjusted[i], errE[i], s=1, label=f\"$\\\\alpha = {alphas[i]}$\", color=\"k\",alpha=.1)\n",
    "axis.set_xscale('log')\n",
    "axis.set_yscale('log')\n",
    "axis.set_xlabel(r\"$\\alpha~\\left[\\sqrt{\\frac{a^3}{GM}} \\right]$\")\n",
    "axis.set_ylabel(r'$\\mathrm{err}\\left(E\\right)_{\\mathrm{rel}}$')\n",
    "axis.text(0.01, 0.9, r\"$N = 1000$\", transform=axis.transAxes,va=\"bottom\", ha=\"left\")\n",
    "axis.text(0.01, 0.8, r\"$T = 100~\\tau$\", transform=axis.transAxes,va=\"bottom\", ha=\"left\")\n",
    "fig.tight_layout()\n",
    "fig.savefig(\"../../images/numericalErrorStaticPlummerSphereEnergyError.png\",dpi=300)"
   ]
  },
  {
   "cell_type": "markdown",
   "id": "7a1692b9",
   "metadata": {},
   "source": [
    "what's the average computation time per step? "
   ]
  },
  {
   "cell_type": "code",
   "execution_count": 7,
   "id": "d016b2a2",
   "metadata": {},
   "outputs": [
    {
     "data": {
      "image/png": "[encoded data removed]",
      "text/plain": [
       "<Figure size 625x300 with 1 Axes>"
      ]
     },
     "metadata": {},
     "output_type": "display_data"
    }
   ],
   "source": [
    "comptime_per_step=[]\n",
    "comptime=   np.array(comptime)\n",
    "nexp= len(alphas)\n",
    "for i in range(nexp):\n",
    "    comptime_per_step.append(comptime[i].sum() / NP / NSTEPS[i])\n",
    "comptime_per_step = np.array(comptime_per_step)\n",
    "fig,axis = plt.subplots(figsize=(8.25-2, 3))\n",
    "axis.plot(NSTEPS, comptime_per_step, marker='o')\n",
    "axis.set_xscale('log')\n"
   ]
  },
  {
   "cell_type": "code",
   "execution_count": 10,
   "id": "ceaafa64",
   "metadata": {},
   "outputs": [
    {
     "name": "stdout",
     "output_type": "stream",
     "text": [
      "mean computation time per step 8.019092909495036e-08 s\n"
     ]
    }
   ],
   "source": [
    "print(\"mean computation time per step\", comptime_per_step.mean(), \"s\")"
   ]
  },
  {
   "cell_type": "markdown",
   "id": "c6eb9393",
   "metadata": {},
   "source": [
    "# over all trends with computation time?"
   ]
  },
  {
   "cell_type": "code",
   "execution_count": 11,
   "id": "e1995a82",
   "metadata": {},
   "outputs": [],
   "source": [
    "NP = np.logspace(1,4,4, dtype=int)\n",
    "NSTEPS = np.logspace(2,5,4, dtype=int)\n",
    "NPgrid, NSTEPSgrid = np.meshgrid(NP, NSTEPS)"
   ]
  },
  {
   "cell_type": "code",
   "execution_count": 25,
   "id": "53bf6992",
   "metadata": {},
   "outputs": [
    {
     "data": {
      "text/plain": [
       "np.float64(98.98134779140821)"
      ]
     },
     "execution_count": 25,
     "metadata": {},
     "output_type": "execute_result"
    }
   ],
   "source": [
    "np.sum(NPgrid*NSTEPSgrid)*comptime_per_step.mean()"
   ]
  },
  {
   "cell_type": "code",
   "execution_count": 26,
   "id": "7d5ccd03",
   "metadata": {},
   "outputs": [
    {
     "name": "stdout",
     "output_type": "stream",
     "text": [
      "expected computation time for all combinations of NP and NSTEPS\n",
      "98.98134779140821 s\n"
     ]
    }
   ],
   "source": [
    "mean_comptime_per_step = comptime_per_step.mean()\n",
    "print(\"expected computation time for all combinations of NP and NSTEPS\")\n",
    "print(np.sum(NPgrid*NSTEPSgrid)*mean_comptime_per_step, \"s\")"
   ]
  },
  {
   "cell_type": "code",
   "execution_count": 27,
   "id": "343f8adf",
   "metadata": {},
   "outputs": [
    {
     "name": "stderr",
     "output_type": "stream",
     "text": [
      "Process SpawnPoolWorker-46:\n",
      "Traceback (most recent call last):\n",
      "  File \"/Users/sferrone/miniforge3/envs/thesis/lib/python3.11/multiprocessing/process.py\", line 314, in _bootstrap\n",
      "    self.run()\n",
      "  File \"/Users/sferrone/miniforge3/envs/thesis/lib/python3.11/multiprocessing/process.py\", line 108, in run\n",
      "    self._target(*self._args, **self._kwargs)\n",
      "  File \"/Users/sferrone/miniforge3/envs/thesis/lib/python3.11/multiprocessing/pool.py\", line 125, in worker\n",
      "    result = (True, func(*args, **kwds))\n",
      "                    ^^^^^^^^^^^^^^^^^^^\n",
      "  File \"/Users/sferrone/miniforge3/envs/thesis/lib/python3.11/multiprocessing/pool.py\", line 48, in mapstar\n",
      "    return list(map(*args))\n",
      "           ^^^^^^^^^^^^^^^^\n",
      "  File \"/Users/sferrone/repos/phd-thesis-ferrone/demos/numericalError/starParticlesErr1.py\", line 174, in leapfrogtofinalpositions\n",
      "    xf, yf, zf = tstrippy.integrator.xf.copy(), tstrippy.integrator.yf.copy(), tstrippy.integrator.zf.copy()\n",
      "    ^^^^^^^^^^^^^^^^^^^^^^^^^^^^^^^^^^^^^^^^^^^^^^\n",
      "KeyboardInterrupt\n",
      "Process SpawnPoolWorker-53:\n",
      "Process SpawnPoolWorker-52:\n",
      "Process SpawnPoolWorker-49:\n",
      "Process SpawnPoolWorker-50:\n",
      "Process SpawnPoolWorker-51:\n",
      "Traceback (most recent call last):\n",
      "Traceback (most recent call last):\n",
      "Traceback (most recent call last):\n",
      "Traceback (most recent call last):\n",
      "Traceback (most recent call last):\n",
      "  File \"/Users/sferrone/miniforge3/envs/thesis/lib/python3.11/multiprocessing/process.py\", line 314, in _bootstrap\n",
      "    self.run()\n",
      "  File \"/Users/sferrone/miniforge3/envs/thesis/lib/python3.11/multiprocessing/process.py\", line 108, in run\n",
      "    self._target(*self._args, **self._kwargs)\n",
      "  File \"/Users/sferrone/miniforge3/envs/thesis/lib/python3.11/multiprocessing/pool.py\", line 114, in worker\n",
      "    task = get()\n",
      "           ^^^^^\n",
      "  File \"/Users/sferrone/miniforge3/envs/thesis/lib/python3.11/multiprocessing/queues.py\", line 364, in get\n",
      "    with self._rlock:\n",
      "  File \"/Users/sferrone/miniforge3/envs/thesis/lib/python3.11/multiprocessing/synchronize.py\", line 95, in __enter__\n",
      "    return self._semlock.__enter__()\n",
      "           ^^^^^^^^^^^^^^^^^^^^^^^^^\n",
      "KeyboardInterrupt\n",
      "  File \"/Users/sferrone/miniforge3/envs/thesis/lib/python3.11/multiprocessing/process.py\", line 314, in _bootstrap\n",
      "    self.run()\n",
      "  File \"/Users/sferrone/miniforge3/envs/thesis/lib/python3.11/multiprocessing/process.py\", line 108, in run\n",
      "    self._target(*self._args, **self._kwargs)\n",
      "  File \"/Users/sferrone/miniforge3/envs/thesis/lib/python3.11/multiprocessing/pool.py\", line 114, in worker\n",
      "    task = get()\n",
      "           ^^^^^\n",
      "  File \"/Users/sferrone/miniforge3/envs/thesis/lib/python3.11/multiprocessing/queues.py\", line 364, in get\n",
      "    with self._rlock:\n",
      "  File \"/Users/sferrone/miniforge3/envs/thesis/lib/python3.11/multiprocessing/synchronize.py\", line 95, in __enter__\n",
      "    return self._semlock.__enter__()\n",
      "           ^^^^^^^^^^^^^^^^^^^^^^^^^\n",
      "KeyboardInterrupt\n",
      "  File \"/Users/sferrone/miniforge3/envs/thesis/lib/python3.11/multiprocessing/process.py\", line 314, in _bootstrap\n",
      "    self.run()\n",
      "  File \"/Users/sferrone/miniforge3/envs/thesis/lib/python3.11/multiprocessing/process.py\", line 108, in run\n",
      "    self._target(*self._args, **self._kwargs)\n",
      "  File \"/Users/sferrone/miniforge3/envs/thesis/lib/python3.11/multiprocessing/pool.py\", line 114, in worker\n",
      "    task = get()\n",
      "           ^^^^^\n",
      "  File \"/Users/sferrone/miniforge3/envs/thesis/lib/python3.11/multiprocessing/queues.py\", line 365, in get\n",
      "    res = self._reader.recv_bytes()\n",
      "          ^^^^^^^^^^^^^^^^^^^^^^^^^\n",
      "  File \"/Users/sferrone/miniforge3/envs/thesis/lib/python3.11/multiprocessing/connection.py\", line 216, in recv_bytes\n",
      "    buf = self._recv_bytes(maxlength)\n",
      "          ^^^^^^^^^^^^^^^^^^^^^^^^^^^\n",
      "  File \"/Users/sferrone/miniforge3/envs/thesis/lib/python3.11/multiprocessing/connection.py\", line 430, in _recv_bytes\n",
      "    buf = self._recv(4)\n",
      "          ^^^^^^^^^^^^^\n",
      "  File \"/Users/sferrone/miniforge3/envs/thesis/lib/python3.11/multiprocessing/connection.py\", line 395, in _recv\n",
      "    chunk = read(handle, remaining)\n",
      "            ^^^^^^^^^^^^^^^^^^^^^^^\n",
      "KeyboardInterrupt\n",
      "  File \"/Users/sferrone/miniforge3/envs/thesis/lib/python3.11/multiprocessing/process.py\", line 314, in _bootstrap\n",
      "    self.run()\n",
      "  File \"/Users/sferrone/miniforge3/envs/thesis/lib/python3.11/multiprocessing/process.py\", line 108, in run\n",
      "    self._target(*self._args, **self._kwargs)\n",
      "  File \"/Users/sferrone/miniforge3/envs/thesis/lib/python3.11/multiprocessing/pool.py\", line 114, in worker\n",
      "    task = get()\n",
      "           ^^^^^\n",
      "  File \"/Users/sferrone/miniforge3/envs/thesis/lib/python3.11/multiprocessing/queues.py\", line 364, in get\n",
      "    with self._rlock:\n",
      "  File \"/Users/sferrone/miniforge3/envs/thesis/lib/python3.11/multiprocessing/synchronize.py\", line 95, in __enter__\n",
      "    return self._semlock.__enter__()\n",
      "           ^^^^^^^^^^^^^^^^^^^^^^^^^\n",
      "KeyboardInterrupt\n",
      "  File \"/Users/sferrone/miniforge3/envs/thesis/lib/python3.11/multiprocessing/process.py\", line 314, in _bootstrap\n",
      "    self.run()\n",
      "  File \"/Users/sferrone/miniforge3/envs/thesis/lib/python3.11/multiprocessing/process.py\", line 108, in run\n",
      "    self._target(*self._args, **self._kwargs)\n",
      "  File \"/Users/sferrone/miniforge3/envs/thesis/lib/python3.11/multiprocessing/pool.py\", line 114, in worker\n",
      "    task = get()\n",
      "           ^^^^^\n",
      "  File \"/Users/sferrone/miniforge3/envs/thesis/lib/python3.11/multiprocessing/queues.py\", line 364, in get\n",
      "    with self._rlock:\n",
      "  File \"/Users/sferrone/miniforge3/envs/thesis/lib/python3.11/multiprocessing/synchronize.py\", line 95, in __enter__\n",
      "    return self._semlock.__enter__()\n",
      "           ^^^^^^^^^^^^^^^^^^^^^^^^^\n",
      "KeyboardInterrupt\n"
     ]
    },
    {
     "ename": "KeyboardInterrupt",
     "evalue": "",
     "output_type": "error",
     "traceback": [
      "\u001b[31m---------------------------------------------------------------------------\u001b[39m",
      "\u001b[31mKeyboardInterrupt\u001b[39m                         Traceback (most recent call last)",
      "\u001b[36mCell\u001b[39m\u001b[36m \u001b[39m\u001b[32mIn[27]\u001b[39m\u001b[32m, line 12\u001b[39m\n\u001b[32m     10\u001b[39m ncpu = mp.cpu_count()-freecpu\n\u001b[32m     11\u001b[39m pool = mp.Pool(processes=ncpu)\n\u001b[32m---> \u001b[39m\u001b[32m12\u001b[39m results = \u001b[43mpool\u001b[49m\u001b[43m.\u001b[49m\u001b[43mmap\u001b[49m\u001b[43m(\u001b[49m\u001b[43mSPE\u001b[49m\u001b[43m.\u001b[49m\u001b[43mleapfrogtofinalpositions\u001b[49m\u001b[43m,\u001b[49m\u001b[43m \u001b[49m\u001b[43marguments\u001b[49m\u001b[43m)\u001b[49m\n",
      "\u001b[36mFile \u001b[39m\u001b[32m~/miniforge3/envs/thesis/lib/python3.11/multiprocessing/pool.py:367\u001b[39m, in \u001b[36mPool.map\u001b[39m\u001b[34m(self, func, iterable, chunksize)\u001b[39m\n\u001b[32m    362\u001b[39m \u001b[38;5;28;01mdef\u001b[39;00m\u001b[38;5;250m \u001b[39m\u001b[34mmap\u001b[39m(\u001b[38;5;28mself\u001b[39m, func, iterable, chunksize=\u001b[38;5;28;01mNone\u001b[39;00m):\n\u001b[32m    363\u001b[39m \u001b[38;5;250m    \u001b[39m\u001b[33;03m'''\u001b[39;00m\n\u001b[32m    364\u001b[39m \u001b[33;03m    Apply `func` to each element in `iterable`, collecting the results\u001b[39;00m\n\u001b[32m    365\u001b[39m \u001b[33;03m    in a list that is returned.\u001b[39;00m\n\u001b[32m    366\u001b[39m \u001b[33;03m    '''\u001b[39;00m\n\u001b[32m--> \u001b[39m\u001b[32m367\u001b[39m     \u001b[38;5;28;01mreturn\u001b[39;00m \u001b[38;5;28;43mself\u001b[39;49m\u001b[43m.\u001b[49m\u001b[43m_map_async\u001b[49m\u001b[43m(\u001b[49m\u001b[43mfunc\u001b[49m\u001b[43m,\u001b[49m\u001b[43m \u001b[49m\u001b[43miterable\u001b[49m\u001b[43m,\u001b[49m\u001b[43m \u001b[49m\u001b[43mmapstar\u001b[49m\u001b[43m,\u001b[49m\u001b[43m \u001b[49m\u001b[43mchunksize\u001b[49m\u001b[43m)\u001b[49m\u001b[43m.\u001b[49m\u001b[43mget\u001b[49m\u001b[43m(\u001b[49m\u001b[43m)\u001b[49m\n",
      "\u001b[36mFile \u001b[39m\u001b[32m~/miniforge3/envs/thesis/lib/python3.11/multiprocessing/pool.py:768\u001b[39m, in \u001b[36mApplyResult.get\u001b[39m\u001b[34m(self, timeout)\u001b[39m\n\u001b[32m    767\u001b[39m \u001b[38;5;28;01mdef\u001b[39;00m\u001b[38;5;250m \u001b[39m\u001b[34mget\u001b[39m(\u001b[38;5;28mself\u001b[39m, timeout=\u001b[38;5;28;01mNone\u001b[39;00m):\n\u001b[32m--> \u001b[39m\u001b[32m768\u001b[39m     \u001b[38;5;28;43mself\u001b[39;49m\u001b[43m.\u001b[49m\u001b[43mwait\u001b[49m\u001b[43m(\u001b[49m\u001b[43mtimeout\u001b[49m\u001b[43m)\u001b[49m\n\u001b[32m    769\u001b[39m     \u001b[38;5;28;01mif\u001b[39;00m \u001b[38;5;129;01mnot\u001b[39;00m \u001b[38;5;28mself\u001b[39m.ready():\n\u001b[32m    770\u001b[39m         \u001b[38;5;28;01mraise\u001b[39;00m \u001b[38;5;167;01mTimeoutError\u001b[39;00m\n",
      "\u001b[36mFile \u001b[39m\u001b[32m~/miniforge3/envs/thesis/lib/python3.11/multiprocessing/pool.py:765\u001b[39m, in \u001b[36mApplyResult.wait\u001b[39m\u001b[34m(self, timeout)\u001b[39m\n\u001b[32m    764\u001b[39m \u001b[38;5;28;01mdef\u001b[39;00m\u001b[38;5;250m \u001b[39m\u001b[34mwait\u001b[39m(\u001b[38;5;28mself\u001b[39m, timeout=\u001b[38;5;28;01mNone\u001b[39;00m):\n\u001b[32m--> \u001b[39m\u001b[32m765\u001b[39m     \u001b[38;5;28;43mself\u001b[39;49m\u001b[43m.\u001b[49m\u001b[43m_event\u001b[49m\u001b[43m.\u001b[49m\u001b[43mwait\u001b[49m\u001b[43m(\u001b[49m\u001b[43mtimeout\u001b[49m\u001b[43m)\u001b[49m\n",
      "\u001b[36mFile \u001b[39m\u001b[32m~/miniforge3/envs/thesis/lib/python3.11/threading.py:629\u001b[39m, in \u001b[36mEvent.wait\u001b[39m\u001b[34m(self, timeout)\u001b[39m\n\u001b[32m    627\u001b[39m signaled = \u001b[38;5;28mself\u001b[39m._flag\n\u001b[32m    628\u001b[39m \u001b[38;5;28;01mif\u001b[39;00m \u001b[38;5;129;01mnot\u001b[39;00m signaled:\n\u001b[32m--> \u001b[39m\u001b[32m629\u001b[39m     signaled = \u001b[38;5;28;43mself\u001b[39;49m\u001b[43m.\u001b[49m\u001b[43m_cond\u001b[49m\u001b[43m.\u001b[49m\u001b[43mwait\u001b[49m\u001b[43m(\u001b[49m\u001b[43mtimeout\u001b[49m\u001b[43m)\u001b[49m\n\u001b[32m    630\u001b[39m \u001b[38;5;28;01mreturn\u001b[39;00m signaled\n",
      "\u001b[36mFile \u001b[39m\u001b[32m~/miniforge3/envs/thesis/lib/python3.11/threading.py:327\u001b[39m, in \u001b[36mCondition.wait\u001b[39m\u001b[34m(self, timeout)\u001b[39m\n\u001b[32m    325\u001b[39m \u001b[38;5;28;01mtry\u001b[39;00m:    \u001b[38;5;66;03m# restore state no matter what (e.g., KeyboardInterrupt)\u001b[39;00m\n\u001b[32m    326\u001b[39m     \u001b[38;5;28;01mif\u001b[39;00m timeout \u001b[38;5;129;01mis\u001b[39;00m \u001b[38;5;28;01mNone\u001b[39;00m:\n\u001b[32m--> \u001b[39m\u001b[32m327\u001b[39m         \u001b[43mwaiter\u001b[49m\u001b[43m.\u001b[49m\u001b[43macquire\u001b[49m\u001b[43m(\u001b[49m\u001b[43m)\u001b[49m\n\u001b[32m    328\u001b[39m         gotit = \u001b[38;5;28;01mTrue\u001b[39;00m\n\u001b[32m    329\u001b[39m     \u001b[38;5;28;01melse\u001b[39;00m:\n",
      "\u001b[31mKeyboardInterrupt\u001b[39m: "
     ]
    }
   ],
   "source": [
    "# lets get some computation time per step\n",
    "alpha = 1/100\n",
    "arguments = []\n",
    "for i in range(len(NP)):\n",
    "    for j in range(len(NSTEPS)):\n",
    "        initialkinematics, staticgalaxy, integrationparameters = SPE.prepare_integration_arguments(NPgrid[i,j], NSTEPSgrid[i,j]/alpha, alpha)\n",
    "        args = [initialkinematics, staticgalaxy, integrationparameters]\n",
    "        arguments.append(args)\n",
    "\n",
    "ncpu = mp.cpu_count()-freecpu\n",
    "pool = mp.Pool(processes=ncpu)\n",
    "results = pool.map(SPE.leapfrogtofinalpositions, arguments)"
   ]
  },
  {
   "cell_type": "code",
   "execution_count": null,
   "id": "b54ab341",
   "metadata": {},
   "outputs": [],
   "source": []
  },
  {
   "cell_type": "code",
   "execution_count": null,
   "id": "e7d12dec",
   "metadata": {},
   "outputs": [],
   "source": []
  }
 ],
 "metadata": {
  "kernelspec": {
   "display_name": "tstrippy",
   "language": "python",
   "name": "python3"
  },
  "language_info": {
   "codemirror_mode": {
    "name": "ipython",
    "version": 3
   },
   "file_extension": ".py",
   "mimetype": "text/x-python",
   "name": "python",
   "nbconvert_exporter": "python",
   "pygments_lexer": "ipython3",
   "version": "3.11.11"
  }
 },
 "nbformat": 4,
 "nbformat_minor": 5
}
