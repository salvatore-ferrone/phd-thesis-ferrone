{
 "cells": [
  {
   "cell_type": "code",
   "execution_count": 1,
   "id": "df327afd",
   "metadata": {},
   "outputs": [],
   "source": [
    "import stream_time_reversability as STR\n",
    "import numpy as np\n",
    "import matplotlib.pyplot as plt\n",
    "import matplotlib as mpl\n",
    "import tstrippy\n",
    "import datetime\n",
    "import multiprocessing as mp\n",
    "from astropy import units as u\n",
    "from astropy.coordinates import SkyCoord\n",
    "import h5py\n",
    "plt.rcParams.update({'text.usetex': True})"
   ]
  },
  {
   "cell_type": "markdown",
   "id": "3181a64c",
   "metadata": {},
   "source": [
    "# design reverse integrability"
   ]
  },
  {
   "cell_type": "code",
   "execution_count": 40,
   "id": "8e4e5a61",
   "metadata": {},
   "outputs": [],
   "source": [
    "fname=\"./simulations/pouliasis2017pii/numericalErrorExperiment/NGC6171_stream_NSTEPS_131072_NP_512_retrace.hdf5\"\n",
    "myfile= h5py.File(fname, 'r')"
   ]
  },
  {
   "cell_type": "code",
   "execution_count": 41,
   "id": "a5603b18",
   "metadata": {},
   "outputs": [
    {
     "data": {
      "text/plain": [
       "<KeysViewHDF5 ['comptimeorbit', 'comptimeretrace', 'comptimestream', 'hostorbit', 'stream_retrace', 'streamfinal', 'streaminitial', 'tesc', 'timestamps', 'timestamps_stream']>"
      ]
     },
     "execution_count": 41,
     "metadata": {},
     "output_type": "execute_result"
    }
   ],
   "source": [
    "myfile.keys()"
   ]
  },
  {
   "cell_type": "code",
   "execution_count": 50,
   "id": "4bcc1c89",
   "metadata": {},
   "outputs": [
    {
     "data": {
      "text/plain": [
       "<KeysViewHDF5 ['GCname', 'date', 'hostparams', 'integrationparameters', 'machine', 'note', 'platform', 'potentialname', 'potentialparams', 'processor', 'python_version']>"
      ]
     },
     "execution_count": 50,
     "metadata": {},
     "output_type": "execute_result"
    }
   ],
   "source": [
    "myfile.attrs.keys()"
   ]
  },
  {
   "cell_type": "code",
   "execution_count": null,
   "id": "f987ec01",
   "metadata": {},
   "outputs": [
    {
     "name": "stdout",
     "output_type": "stream",
     "text": [
      "comptimeorbit 0.292295\n",
      "comptimestream 21.552959\n",
      "comptimeretrace 20.693976\n"
     ]
    },
    {
     "data": {
      "text/plain": [
       "('pouliasis2017pii',\n",
       " array([4.30091727e-06, 2.08800000e+11, 1.40000000e+01, 2.02000000e+00,\n",
       "        1.00000000e+02, 3.71200000e+10, 4.80000000e+00, 2.50000000e-01,\n",
       "        3.94400000e+10, 2.00000000e+00, 8.00000000e-01]))"
      ]
     },
     "execution_count": 51,
     "metadata": {},
     "output_type": "execute_result"
    }
   ],
   "source": [
    "comptimeretrace = myfile['comptimeretrace'][()]\n",
    "print(\"comptimeorbit\", myfile['comptimeorbit'][()])\n",
    "print(\"comptimestream\", myfile['comptimestream'][()])\n",
    "print(\"comptimeretrace\", myfile['comptimeretrace'][()])\n",
    "stream_retrace = myfile['stream_retrace'][:]\n",
    "streamfinal = myfile['streamfinal'][:]\n",
    "streaminitial = myfile['streaminitial'][:]\n",
    "hostorbit = myfile['hostorbit'][:]\n",
    "streaminitial = streaminitial + hostorbit[:,0][:, np.newaxis]\n",
    "integrationparameters = myfile.attrs['integrationparameters']\n",
    "hostparams = myfile.attrs['hostparams']\n",
    "staticgalaxy = myfile.attrs['potentialname'],myfile.attrs['potentialparams']"
   ]
  },
  {
   "cell_type": "code",
   "execution_count": 43,
   "id": "cf8fcd35",
   "metadata": {},
   "outputs": [],
   "source": [
    "# # quick test to look at the time steps that are being used...\n",
    "# MWparams = tstrippy.Parsers.pouliasis2017pii()\n",
    "# staticgalaxy = [\"pouliasis2017pii\", MWparams ]\n",
    "# clusterinitialkinematics = STR.pick_GC_get_kinematics(GCname)\n",
    "# G, M, rhm = STR.load_hostparams(GCname)\n",
    "# NP=int(512)\n",
    "# integrationtime = 1\n",
    "# currenttime = 0 \n",
    "# alpha = 1/10\n",
    "# aplum = tstrippy.ergodic.convertHalfMassRadiusToPlummerRadius(rhm)\n",
    "# hostparams = [G, M, aplum]\n",
    "# tau = STR.plummer_dynamical_time(hostparams)\n",
    "# integrationparameters=STR.prepare_integration_arguments(currenttime=currenttime, integrationtime=integrationtime, tdyn=tau, alpha=alpha)\n",
    "# initialstream=tstrippy.ergodic.isotropicplummer(G,M,rhm,NP)\n",
    "# args = staticgalaxy, integrationparameters, clusterinitialkinematics, hostparams, initialstream\n",
    "# timestamps, timestamps_stream, hostorbit, streamfinal, tesc, comptimeorbit, comptimestream=STR.generate_stream_leapfrogtofinalpositions(args)\n",
    "# print(\"Computation time for orbit: \", comptimeorbit)\n",
    "# print(\"Computation time for stream: \", comptimestream)"
   ]
  },
  {
   "cell_type": "code",
   "execution_count": 44,
   "id": "6a7549a3",
   "metadata": {},
   "outputs": [],
   "source": [
    "# inithostperturber = [timestamps, *hostorbit, *hostparams]\n",
    "# args = streamfinal, staticgalaxy, integrationparameters, inithostperturber\n",
    "# stream_retrace, tesc, timestamps_retrace, comptime = STR.leapfrogtofinalpositions_stream_retrace(args)\n",
    "# # shift to where it should be \n",
    "# initialstream = initialstream + hostorbit[:,0][:,np.newaxis]\n",
    "# print(\"Computation time for stream retrace: \", comptime)"
   ]
  },
  {
   "cell_type": "code",
   "execution_count": 47,
   "id": "be1b4502",
   "metadata": {},
   "outputs": [
    {
     "name": "stdout",
     "output_type": "stream",
     "text": [
      "Timestep: dt = 7.62939453125e-06\n",
      "Dynamical time: τ = 0.00030\n",
      "Number of steps per dynamical time: 38.9\n",
      "Ratio dt/τ = $0.1 \\times 10^{-3}$\n",
      "Boosted ratio dt/τ = $\\Delta t = 2.6 \\times 10^{-2} \\tau$\n",
      "$\\mathrm{Comp~time} = 20.69~\\mathrm{s}$\n",
      "$\\mathrm{T} = 978~\\mathrm{Myr}$\n"
     ]
    }
   ],
   "source": [
    "dt = integrationparameters[1]\n",
    "tau=np.sqrt(hostparams[2]**3/(hostparams[0]*hostparams[1]))\n",
    "alpha = dt/tau\n",
    "alpha\n",
    "# Calculate the number of timesteps per dynamical time\n",
    "n_steps_per_tau = tau / dt\n",
    "\n",
    "# Format alpha (dt/tau) in scientific notation\n",
    "mantissa =  10**(int(np.floor(np.log10(abs(alpha)))))\n",
    "exponent = int(np.floor(np.log10(abs(alpha))))\n",
    "alpha_formatted = r\"${:.1f} \\times 10^{{{}}}$\".format(mantissa*10, exponent-1)\n",
    "\n",
    "print(f\"Timestep: dt = {dt}\")\n",
    "print(f\"Dynamical time: τ = {tau:.5f}\")\n",
    "print(f\"Number of steps per dynamical time: {n_steps_per_tau:.1f}\")\n",
    "print(f\"Ratio dt/τ = {alpha_formatted}\")\n",
    "\n",
    "boost = 1\n",
    "matissa = 10**(np.log10(alpha) - int(np.log10(alpha)) + boost)\n",
    "exponent = int(np.log10(alpha)) - boost\n",
    "alpha_formatted = r\"$\\Delta t = {:.1f} \\times 10^{{{}}} \\tau$\".format(matissa, exponent)\n",
    "print(f\"Boosted ratio dt/τ = {alpha_formatted}\")\n",
    "text_comp_time = r\"$\\mathrm{{Comp~time}} = {:.2f}~\\mathrm{{s}}$\".format(comptimeretrace)\n",
    "integrationtime=integrationparameters[-1]*integrationparameters[1]\n",
    "NSTEPS = int(integrationparameters[-1])\n",
    "integrationtime=integrationtime*(u.s * (u.kpc/u.km))\n",
    "integrationtime = integrationtime.to(u.Myr)\n",
    "text_integration_time = r\"$\\mathrm{{T}} = {:.0f}~\\mathrm{{Myr}}$\".format(integrationtime.value)\n",
    "print(text_comp_time)\n",
    "print(text_integration_time)\n",
    "image_name = \"NumericalErrorStreamRetrace_{:s}_Nsteps_{:d}_stepsPerTau_{:d}.png\".format(GCname, NSTEPS, int(n_steps_per_tau))"
   ]
  },
  {
   "cell_type": "code",
   "execution_count": 48,
   "id": "1b8ec5cc",
   "metadata": {},
   "outputs": [],
   "source": [
    "phiMW0, phiHost0, T0 = STR.compute_stream_energy(staticgalaxy[1], hostparams, hostorbit[:,0], streaminitial)\n",
    "phiMWstream, phiHoststream, Tstream = STR.compute_stream_energy(staticgalaxy[1], hostparams, hostorbit[:,-1], streamfinal)\n",
    "phiMWR, phiHostR, TR = STR.compute_stream_energy(staticgalaxy[1], hostparams, hostorbit[:,0], stream_retrace)\n",
    "E0 = phiMW0 + phiHost0 + T0\n",
    "Estream = phiMWstream + phiHoststream + Tstream\n",
    "ER = phiMWR + phiHostR + TR"
   ]
  },
  {
   "cell_type": "code",
   "execution_count": 36,
   "id": "e7922528",
   "metadata": {},
   "outputs": [],
   "source": [
    "plt.rcParams['axes.prop_cycle'] = plt.cycler(color=plt.cm.Accent.colors)"
   ]
  },
  {
   "cell_type": "code",
   "execution_count": 39,
   "id": "c3c38c7c",
   "metadata": {},
   "outputs": [
    {
     "data": {
      "image/png": "[encoded data removed]",
      "text/plain": [
       "<Figure size 625x450 with 2 Axes>"
      ]
     },
     "metadata": {},
     "output_type": "display_data"
    }
   ],
   "source": [
    "# fig,axis= plt.subplots(1,1,figsize=((8.25-2),(8.25-2)/2))\n",
    "fig = plt.figure(figsize=(8.25-2, 4.5))\n",
    "gs = mpl.gridspec.GridSpec(1, 2, figure=fig)\n",
    "axis = fig.add_subplot(gs[0, 0])\n",
    "ax2 = fig.add_subplot(gs[0, 1], )\n",
    "axis.plot(hostorbit[0,6:], hostorbit[1,6:], 'k-', label='Host orbit',zorder=0)\n",
    "scatStream=axis.scatter(streamfinal[0], streamfinal[1], s=10, label='Stream')\n",
    "scatRetrace=axis.scatter(stream_retrace[0], stream_retrace[1], s=5, label='Retrace')\n",
    "scatInit=axis.scatter(streaminitial[0],  streaminitial[1], s=10,  label='Initial')\n",
    "# Also make markers in the inset legend bigger if needed\n",
    "xymin = np.min([axis.get_xlim()[0], axis.get_ylim()[0]])\n",
    "xymax = np.max([axis.get_xlim()[1], axis.get_ylim()[1]])\n",
    "axis.set_xlim(xymin, xymax)\n",
    "axis.set_ylim(xymin, xymax)\n",
    "\n",
    "# add a subplot that zooms on the retrace positions\n",
    "axins = axis.inset_axes([-0.2, 0.75, 0.4, 0.4])  # [x0, y0, width, height]\n",
    "axins.scatter(streaminitial[0],   streaminitial[1], s=10, c=scatInit.get_edgecolor(), label='Stream initial positions')\n",
    "axins.scatter(stream_retrace[0], stream_retrace[1], s=1, c=scatRetrace.get_edgecolor(), label='Stream retrace positions')\n",
    "axins.set_aspect('equal', adjustable='box')\n",
    "# Add indicator lines from the main plot to the inset\n",
    "axis.indicate_inset_zoom(axins, edgecolor=\"black\")\n",
    "# only do a couple characteristic radii\n",
    "hostparams[-1]\n",
    "radius = 2*hostparams[-1]\n",
    "axins.set_xlim(hostorbit[0,0] + - radius, hostorbit[0,0]  + radius)\n",
    "axins.set_ylim(hostorbit[1,0] + - radius, hostorbit[1,0]  + radius)\n",
    "axins.set_xticks([])\n",
    "axins.set_yticks([])\n",
    "\n",
    "# Make markers in legend bigger\n",
    "axis.legend(loc='lower right')\n",
    "axis.set_aspect('equal', )\n",
    "axis.set_xlabel(r'$x$ [kpc]')\n",
    "axis.set_ylabel(r'$y$ [kpc]')\n",
    "legend = axis.legend(loc='lower right')\n",
    "for handle in legend.legend_handles:\n",
    "    handle._sizes = [30]\n",
    "\n",
    "\n",
    "bins = np.logspace(-12,1,40)\n",
    "ax2.hist(errEF,bins=bins, histtype='step', color=scatStream.get_facecolor(), lw=2, label='Stream', linestyle='-.');\n",
    "ax2.hist(errER,bins=bins, histtype='step', color=scatRetrace.get_facecolor(), lw=2, label='Retrace', linestyle='-');\n",
    "ax2.set_xscale('log')\n",
    "\n",
    "ax2.set_xlabel(r'$|E - E_0| / E_0$')\n",
    "ax2.legend(loc=\"lower left\")\n",
    "\n",
    "# Make sure ax2 has the same height as axis\n",
    "ax2.set_position([ax2.get_position().x0, \n",
    "                 axis.get_position().y0, \n",
    "                 ax2.get_position().width, \n",
    "                 axis.get_position().height])\n",
    "ax2.text(0.05, 0.9, r\"$\\mathrm{{{:s}}}$\".format(GCname), transform=ax2.transAxes, ha='left', va='bottom', fontsize=\"medium\")\n",
    "ax2.text(0.05, 0.8, alpha_formatted, transform=ax2.transAxes, ha='left', va='bottom', fontsize=\"medium\")\n",
    "ax2.text(0.05, 0.7, text_comp_time, transform=ax2.transAxes, ha='left', va='bottom', fontsize=\"medium\")\n",
    "ax2.text(0.05, 0.6, text_integration_time, transform=ax2.transAxes, ha='left', va='bottom', fontsize=\"medium\")\n",
    "ax2.text(0.05, 0.5, r\"$\\mathrm{{N}}_\\mathrm{{p}} = {:d}$\".format(int(streamfinal.shape[1])), transform=ax2.transAxes, ha='left', va='bottom', fontsize=\"medium\")\n",
    "\n",
    "fig.savefig(\"../../images/\"+image_name, bbox_inches='tight', dpi=300)"
   ]
  },
  {
   "cell_type": "code",
   "execution_count": null,
   "id": "4475a9f3",
   "metadata": {},
   "outputs": [],
   "source": [
    "meanW = (initialstream + stream_retrace)/2\n",
    "dx,dy,dz = stream_retrace[0] - initialstream[0], stream_retrace[1] - initialstream[1], stream_retrace[2] - initialstream[2]\n",
    "dvx,dvy,dvz = stream_retrace[3] + initialstream[3], stream_retrace[4] + initialstream[4], stream_retrace[5] + initialstream[5]\n",
    "errR = np.sqrt((dx/initialstream[0])**2 + (dy/initialstream[1])**2 + (dz/initialstream[2])**2)\n",
    "errV = np.sqrt((dvx/initialstream[3])**2 + (dvy/initialstream[4])**2 + (dvz/initialstream[5])**2)"
   ]
  },
  {
   "cell_type": "code",
   "execution_count": null,
   "id": "f7e49a75",
   "metadata": {},
   "outputs": [
    {
     "data": {
      "image/png": "[encoded data removed]",
      "text/plain": [
       "<Figure size 625x450 with 1 Axes>"
      ]
     },
     "metadata": {},
     "output_type": "display_data"
    }
   ],
   "source": [
    "fig,axis= plt.subplots(1, 1, figsize=(8.25-2, 4.5))\n",
    "bins = np.logspace(-16,1,int(np.ceil(np.sqrt(NP))))\n",
    "axis.hist(errR, bins=bins, histtype='step', lw=2, label='Retrace error', linestyle='-');\n",
    "axis.hist(errV, bins=bins, histtype='step', lw=2, label='Retrace error', linestyle='-');\n",
    "axis.set_xscale('log')\n",
    "axis.set_yscale('log')"
   ]
  }
 ],
 "metadata": {
  "kernelspec": {
   "display_name": "thesis",
   "language": "python",
   "name": "python3"
  },
  "language_info": {
   "codemirror_mode": {
    "name": "ipython",
    "version": 3
   },
   "file_extension": ".py",
   "mimetype": "text/x-python",
   "name": "python",
   "nbconvert_exporter": "python",
   "pygments_lexer": "ipython3",
   "version": "3.11.12"
  }
 },
 "nbformat": 4,
 "nbformat_minor": 5
}
