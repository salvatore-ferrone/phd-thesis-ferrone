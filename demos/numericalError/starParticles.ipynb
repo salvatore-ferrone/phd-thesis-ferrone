{
 "cells": [
  {
   "cell_type": "markdown",
   "id": "15ce4b9a",
   "metadata": {},
   "source": [
    "# Quality check for star-particle integration\n",
    "\n",
    "How do we ensure that the orbital integration went well for our star particles? We need to ensure that the relative error is good. Does it need to be time-reversable? what about computational cost? "
   ]
  },
  {
   "cell_type": "code",
   "execution_count": 1,
   "id": "acc7e16c",
   "metadata": {},
   "outputs": [],
   "source": [
    "import numpy as np\n",
    "import matplotlib.pyplot as plt\n",
    "import matplotlib as mpl\n",
    "import tstrippy\n",
    "from astropy import units as u\n",
    "from astropy import constants as const\n",
    "import numericalErrorFunctions as NEF\n",
    "import datetime\n",
    "import multiprocessing as mp\n",
    "plt.rcParams.update({\n",
    "    \"text.usetex\": True,\n",
    "    \"font.family\": \"serif\",\n",
    "    \"font.serif\": [\"Computer Modern Roman\"],\n",
    "})"
   ]
  },
  {
   "cell_type": "markdown",
   "id": "6abd7559",
   "metadata": {},
   "source": [
    "# Dynamical time scales\n",
    "\n",
    "What are the time scales involved in the problem? What should our expectation be for the time scales for integrating a whole globular cluster? for integrating an individual star particle? \n",
    "\n",
    "Below, I will also try to find some that are disrupted, which could be ones whose internal time scales are longer than their crossing times. "
   ]
  },
  {
   "cell_type": "code",
   "execution_count": 2,
   "id": "7b91abc8",
   "metadata": {},
   "outputs": [],
   "source": [
    "GCdata          =   tstrippy.Parsers.baumgardtMWGCs().data\n",
    "MWparams        =   tstrippy.Parsers.potential_parameters.pouliasis2017pii()\n",
    "MWrefframe      =   tstrippy.Parsers.potential_parameters.MWreferenceframe()\n",
    "x,y,z,vx,vy,vz  =   NEF.load_globular_clusters_in_galactic_coordinates(MWrefframe)\n",
    "G = const.G\n",
    "G=G.to(tstrippy.Parsers.unitbasis['G'])"
   ]
  },
  {
   "cell_type": "code",
   "execution_count": 3,
   "id": "af34da07",
   "metadata": {},
   "outputs": [],
   "source": [
    "# get the crossing time of the clusters \n",
    "vGCs = np.sqrt(vx**2 + vy**2 + vz**2)\n",
    "rGCS = np.sqrt(x**2 + y**2 + z**2)\n",
    "tcrossGCs = ((rGCS / vGCs) * u.Unit(tstrippy.Parsers.unitbasis['time'])).to(u.yr)\n",
    "# get the internal dynamical time \n",
    "tdyn=np.sqrt(GCdata['rh_m']**3 / (G*GCdata['Mass'])).to(u.yr)"
   ]
  },
  {
   "cell_type": "code",
   "execution_count": 4,
   "id": "6b9e3efd",
   "metadata": {},
   "outputs": [],
   "source": [
    "nbins = int(np.ceil(len(GCdata)))\n",
    "binednges = 10**np.linspace(np.log10(tdyn.min().value), np.log10(tcrossGCs.max().value), nbins+1)"
   ]
  },
  {
   "cell_type": "code",
   "execution_count": 5,
   "id": "ee8973ba",
   "metadata": {},
   "outputs": [],
   "source": [
    "indexes = [tdyn.argmin(), np.argmin(np.abs(tdyn-np.median(tdyn))), tdyn.argmax()]\n",
    "NP = 10000\n",
    "labels = [r\"$\\mathrm{Most~dense}$\", r\"$\\mathrm{Median}$\", r\"$\\mathrm{Least~dense}$\"]\n",
    "index = indexes[0]\n",
    "xp,yp,zp,vxp,vyp,vzp=tstrippy.ergodic.isotropicplummer(G.value,GCdata['Mass'][index].value,GCdata['rh_m'][index].value, NP)\n",
    "rp,vp = np.sqrt(xp**2 + yp**2 + zp**2), np.sqrt(vxp**2 + vyp**2 + vzp**2)\n",
    "tcrossP = rp/vp\n",
    "tcrossP = (tcrossP*u.Unit(tstrippy.Parsers.unitbasis['time'])).to(u.yr)\n",
    "tmin=tcrossP.min()\n",
    "index= indexes[-1]\n",
    "xp,yp,zp,vxp,vyp,vzp=tstrippy.ergodic.isotropicplummer(G.value,GCdata['Mass'][index].value,GCdata['rh_m'][index].value, NP)\n",
    "rp,vp = np.sqrt(xp**2 + yp**2 + zp**2), np.sqrt(vxp**2 + vyp**2 + vzp**2)\n",
    "tcrossP = rp/vp\n",
    "tcrossP = (tcrossP*u.Unit(tstrippy.Parsers.unitbasis['time'])).to(u.yr)\n",
    "tmax=tcrossP.max()\n",
    "nbins = int(np.sqrt(NP))\n",
    "bins = 10**np.linspace(np.log10(tmin.value), np.log10(tmax.value), nbins+1)"
   ]
  },
  {
   "cell_type": "code",
   "execution_count": 6,
   "id": "4d6d8ba2",
   "metadata": {},
   "outputs": [
    {
     "name": "stdout",
     "output_type": "stream",
     "text": [
      "1.423078026509687\n",
      "1.4686334588710033\n",
      "1.4641006684707252\n"
     ]
    },
    {
     "data": {
      "image/png": "[encoded data removed]",
      "text/plain": [
       "<Figure size 625x400 with 2 Axes>"
      ]
     },
     "metadata": {},
     "output_type": "display_data"
    }
   ],
   "source": [
    "fig,axis=plt.subplots(2,1,figsize=(8.25-2,4),sharex=True, gridspec_kw={'height_ratios': [1, 1]})\n",
    "axis[0].hist(tdyn.value, bins=binednges,  histtype='step', color='tab:blue', lw=2, label=r\"$\\mathrm{Internal~dynamical~time}$\")\n",
    "axis[0].hist(tcrossGCs.value, bins=binednges,  histtype='step', color='tab:red', lw=2, label=r\"$\\mathrm{Galactic~crossing~time}$\")\n",
    "axis[0].set_xscale('log')\n",
    "axis[1].set_xlabel(r'$T_{\\mathrm{dyn}}~[\\mathrm{yr}]$', fontsize=\"medium\")\n",
    "axis[0].set_ylabel(r'$N_{\\mathrm{cluster}}$', fontsize=\"medium\")\n",
    "ylims = axis[0].get_ylim()\n",
    "axis[0].set_ylim(0, ylims[1])\n",
    "# axis[0].set_xlim(3e4,5e9)\n",
    "axis[0].legend(fontsize=\"medium\", loc='best')\n",
    "\n",
    "colors = ['tab:orange', 'tab:purple', 'tab:brown']\n",
    "bin_ceneters = 0.5*(bins[1:] + bins[:-1])\n",
    "for i in range(len(indexes)):\n",
    "    index = indexes[i]\n",
    "    xp,yp,zp,vxp,vyp,vzp=tstrippy.ergodic.isotropicplummer(G.value,GCdata['Mass'][index].value,GCdata['rh_m'][index].value, NP)\n",
    "    rp,vp = np.sqrt(xp**2 + yp**2 + zp**2), np.sqrt(vxp**2 + vyp**2 + vzp**2)\n",
    "    tcrossP = rp/vp\n",
    "    tcrossP = (tcrossP*u.Unit(tstrippy.Parsers.unitbasis['time'])).to(u.yr)\n",
    "    counts,_,_=axis[1].hist(tcrossP.value, bins=bins, histtype='step', lw=2, label=labels[i],color=colors[i])\n",
    "    # find the counts at the median tdyn \n",
    "    myindex = np.argmin(np.abs(bin_ceneters - tdyn[index].value))\n",
    "    axis[1].vlines(tdyn[index].value, 0, counts[myindex], color=colors[i], linestyle='--', lw=1, )\n",
    "    print(np.median(tcrossP).value/tdyn[index].value)\n",
    "\n",
    "axis[1].set_xlim(tmin.value, tmax.value)\n",
    "axis[1].legend(fontsize=\"medium\", loc='best')\n",
    "axis[1].set_xscale('log')\n",
    "axis[1].set_ylabel(r'$N_{\\mathrm{particles}}$', fontsize=\"medium\")\n",
    "\n",
    "fig.savefig(\"../../images/GCsystemCharacteristicTimes.png\", bbox_inches='tight', dpi=300)"
   ]
  },
  {
   "cell_type": "markdown",
   "id": "2344e310",
   "metadata": {},
   "source": [
    "We see that the tails overlap, are there any cluster's whose internal crossing time is longer than the galactic crossing time?"
   ]
  },
  {
   "cell_type": "code",
   "execution_count": 7,
   "id": "d73334ac",
   "metadata": {},
   "outputs": [
    {
     "name": "stdout",
     "output_type": "stream",
     "text": [
      "0\n"
     ]
    }
   ],
   "source": [
    "print(np.sum(tdyn > tcrossGCs))"
   ]
  },
  {
   "cell_type": "markdown",
   "id": "e4d471ab",
   "metadata": {},
   "source": [
    "no, there are not. Good to know. What are the ratio's? "
   ]
  },
  {
   "cell_type": "code",
   "execution_count": 8,
   "id": "4bb9d98b",
   "metadata": {},
   "outputs": [],
   "source": [
    "least_stable_threshold,most_stable_threshold = 10,500\n",
    "ratio = tcrossGCs/tdyn\n",
    "criteria=ratio < least_stable_threshold\n",
    "least_stable = GCdata['Cluster'][criteria]\n",
    "least_stable_ratio = ratio[criteria]\n",
    "least_stable_sort = np.argsort(least_stable_ratio)\n",
    "least_stable_sorted = least_stable[least_stable_sort]\n",
    "criteria = ratio > most_stable_threshold\n",
    "most_stable = GCdata['Cluster'][criteria]\n",
    "most_stable_ratio = ratio[criteria]\n",
    "most_stable_sort = np.argsort(most_stable_ratio)\n",
    "most_stable_sorted = most_stable[most_stable_sort]"
   ]
  },
  {
   "cell_type": "code",
   "execution_count": 9,
   "id": "76089b1d",
   "metadata": {},
   "outputs": [
    {
     "data": {
      "image/png": "[encoded data removed]",
      "text/plain": [
       "<Figure size 625x300 with 1 Axes>"
      ]
     },
     "metadata": {},
     "output_type": "display_data"
    }
   ],
   "source": [
    "bins = np.logspace(np.log10(ratio.min().value), np.log10(ratio.max().value) , int(np.sqrt(nbins)))\n",
    "centers = 0.5*(bins[1:] + bins[:-1])\n",
    "fig,axis=plt.subplots(1,1,figsize=(8.25-2,3))\n",
    "counts,_,_=axis.hist(ratio.value, bins=bins, histtype='step', lw=2, color='black')\n",
    "# find the intersection of the counts with the median tdyn\n",
    "index_least = np.argmin(np.abs(centers-least_stable_threshold))\n",
    "index_most = np.argmin(np.abs(centers-most_stable_threshold))\n",
    "axis.vlines(centers[index_least], 0, counts[index_least], color='tab:blue', linestyle='-', lw=1, )\n",
    "axis.vlines(centers[index_most], 0, counts[index_most], color='tab:green', linestyle='-', lw=1,)\n",
    "axis.set_xscale('log')\n",
    "axis.set_xlabel(r'$T_{\\mathrm{cross,MW}}/T_{\\mathrm{dyn,internal}}$', fontsize=\"medium\")\n",
    "axis.set_ylabel(r'$N_{\\mathrm{GCs}}$', fontsize=\"medium\")\n",
    "axis.text(0.01, 0.925, r\"$\\mathrm{Least~stable~clusters}$\", fontsize=\"medium\", color='tab:blue',transform=axis.transAxes,ha='left', va='bottom')\n",
    "for i in range(len(least_stable)):\n",
    "    axis.text(0.01, 0.875 - i*0.05, least_stable_sorted[i], fontsize=\"small\", color='black',transform=axis.transAxes,ha='left', va='bottom')\n",
    "\n",
    "axis.text(0.99, 0.925, r\"$\\mathrm{Most~stable~clusters}$\", fontsize=\"medium\", color='tab:green',transform=axis.transAxes,ha='right', va='bottom')\n",
    "for i in range(len(most_stable)):\n",
    "    axis.text(0.99, 0.875 - i*0.05, most_stable_sorted[i], fontsize=\"small\", color='black',transform=axis.transAxes,ha='right', va='bottom')\n",
    "\n",
    "fig.savefig(\"../../images/GCsystemStabilityDynamicalTimeRatios.png\", bbox_inches='tight', dpi=300)"
   ]
  },
  {
   "cell_type": "markdown",
   "id": "7153fa43",
   "metadata": {},
   "source": [
    "what's the most typical globular cluster?"
   ]
  },
  {
   "cell_type": "code",
   "execution_count": 10,
   "id": "8d529570",
   "metadata": {},
   "outputs": [
    {
     "name": "stdout",
     "output_type": "stream",
     "text": [
      "Most typical globular cluster: NGC6760\n",
      "Mass: 286000.0 solMass Msun\n",
      "Internal dynamical time: 383398.89404155954 yr\n",
      "Galactic crossing time: 31467033.00751118 yr\n",
      "Ratio: 82.07387526814365\n",
      "R half mass: 0.00574 kpc\n"
     ]
    }
   ],
   "source": [
    "dTdyn = (np.log10(tdyn.value) - np.log10(np.median(tdyn).value)) / np.log10(np.median(tdyn).value)\n",
    "dCross = (np.log10(tcrossGCs.value) - np.log10(np.median(tcrossGCs).value)) / np.log10(np.median(tcrossGCs).value)\n",
    "typicaldex=np.argmin(np.abs(dTdyn) + np.abs(dCross))\n",
    "# medianIndex = np.argmin(np.abs(ratio-np.median(ratio)))\n",
    "# typicalGC = GCdata['Cluster'][medianIndex]\n",
    "# GCdata['Mass'][medianIndex]\n",
    "print(f\"Most typical globular cluster: {GCdata['Cluster'][typicaldex]}\")\n",
    "print(f\"Mass: {GCdata['Mass'][typicaldex]} Msun\")\n",
    "print(f\"Internal dynamical time: {tdyn[typicaldex]}\")\n",
    "print(f\"Galactic crossing time: {tcrossGCs[typicaldex]}\")\n",
    "print(f\"Ratio: {tcrossGCs[typicaldex]/tdyn[typicaldex]}\")\n",
    "print(f\"R half mass: {GCdata['rh_m'][typicaldex]}\")"
   ]
  },
  {
   "cell_type": "code",
   "execution_count": 16,
   "id": "4f1285ee",
   "metadata": {},
   "outputs": [
    {
     "name": "stdout",
     "output_type": "stream",
     "text": [
      "some of the most typical clusters by stability ratio\n",
      "NGC6760 0.0018449005823754077 383398.89404155954 yr 31467033.00751118 yr\n",
      "NGC6218 0.004971833457713373 377401.2599695203 yr 30449852.116946597 yr\n",
      "NGC6934 0.009741833482753752 393506.368081583 yr 37121169.77788263 yr\n",
      "NGC6171 0.012364829342188785 432418.9645355858 yr 34224555.84814521 yr\n",
      "NGC6254 0.013754278755766035 355038.57851801836 yr 28398514.382304374 yr\n"
     ]
    }
   ],
   "source": [
    "# get some other typical clusters \n",
    "metric = np.abs(dTdyn) + np.abs(dCross)\n",
    "idxs=np.argsort(np.abs(dTdyn) + np.abs(dCross))\n",
    "GCdata['Cluster'][idxs]\n",
    "print(\"some of the most typical clusters by stability ratio\")\n",
    "for i in range(5):\n",
    "    print(GCdata['Cluster'][idxs[i]],metric[idxs[i]], tdyn[idxs[i]], tcrossGCs[idxs[i]])"
   ]
  },
  {
   "cell_type": "markdown",
   "id": "d8d7b701",
   "metadata": {},
   "source": [
    "## "
   ]
  },
  {
   "cell_type": "markdown",
   "id": "3987e975",
   "metadata": {},
   "source": [
    "## What is a good timestep for an isolated cluster?\n",
    "\n",
    "Normalize the system to it's own length, G, and it's own mass."
   ]
  },
  {
   "cell_type": "markdown",
   "id": "be50c981",
   "metadata": {},
   "source": [
    "what is the a typical globular cluster just to get an idea of the timescales involved?"
   ]
  },
  {
   "cell_type": "code",
   "execution_count": 10,
   "id": "f77c9e3f",
   "metadata": {},
   "outputs": [
    {
     "name": "stdout",
     "output_type": "stream",
     "text": [
      "Number of dynamical times for our experiment 12843\n"
     ]
    }
   ],
   "source": [
    "integration_time = int(5e9/np.median(tdyn).value)\n",
    "print(\"Number of dynamical times for our experiment\", integration_time)"
   ]
  },
  {
   "cell_type": "code",
   "execution_count": 11,
   "id": "a98637e4",
   "metadata": {},
   "outputs": [],
   "source": [
    "G,M,a = 1,1,1\n",
    "NP = int(1e2)\n",
    "tau = np.sqrt(a**3 / (G*M))"
   ]
  },
  {
   "cell_type": "markdown",
   "id": "972479d0",
   "metadata": {},
   "source": [
    "how to pick the time step? \n",
    "\n",
    "$$ \\Delta t = \\frac{T}{2^{k-1}} $$\n",
    "\n",
    "where $N=2^{k-1}$, and $k$ is the number of intervals and $N$ is the number of steps. Note that we want the timestep to be some fraction of the dynamical time: \n",
    "\n",
    "$$ \\alpha \\Delta t = \\tau$$\n",
    "\n",
    "where $0<\\alpha<1$. So, given an $\\alpha$, we want to find the number of steps such that $k$ and $N$ are integers. This becomes: \n",
    "\n",
    "$$ \\log_2 \\left(\\frac{T}{\\alpha \\tau} \\right) + 1 < k$$\n",
    "\n",
    "\n",
    "This means, we can take the expression on the left side of the inequality and round it up for the lowest possible value of $k$. If $\\alpha = 1/100$ and $T = 1200\\tau$, Then $k$ becomes: "
   ]
  }
 ],
 "metadata": {
  "kernelspec": {
   "display_name": "thesis",
   "language": "python",
   "name": "python3"
  },
  "language_info": {
   "codemirror_mode": {
    "name": "ipython",
    "version": 3
   },
   "file_extension": ".py",
   "mimetype": "text/x-python",
   "name": "python",
   "nbconvert_exporter": "python",
   "pygments_lexer": "ipython3",
   "version": "3.11.12"
  }
 },
 "nbformat": 4,
 "nbformat_minor": 5
}
