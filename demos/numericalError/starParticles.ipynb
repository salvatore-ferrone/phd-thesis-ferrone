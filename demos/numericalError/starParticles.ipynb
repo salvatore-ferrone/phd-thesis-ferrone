{
 "cells": [
  {
   "cell_type": "code",
   "execution_count": 130,
   "id": "acc7e16c",
   "metadata": {},
   "outputs": [],
   "source": [
    "import numpy as np\n",
    "import matplotlib.pyplot as plt\n",
    "import tstrippy\n",
    "from astropy import units as u\n",
    "from astropy import constants as const\n",
    "import numericalErrorFunctions as NEF\n",
    "plt.rcParams.update({\n",
    "    \"text.usetex\": True,\n",
    "    \"font.family\": \"serif\",\n",
    "    \"font.serif\": [\"Computer Modern Roman\"],\n",
    "})"
   ]
  },
  {
   "cell_type": "code",
   "execution_count": null,
   "id": "7b91abc8",
   "metadata": {},
   "outputs": [],
   "source": [
    "GCdata          =   tstrippy.Parsers.baumgardtMWGCs().data\n",
    "MWparams        =   tstrippy.Parsers.potential_parameters.pouliasis2017pii()\n",
    "MWrefframe      =   tstrippy.Parsers.potential_parameters.MWreferenceframe()\n",
    "x,y,z,vx,vy,vz  =   NEF.load_globular_clusters_in_galactic_coordinates(MWrefframe)\n",
    "G = const.G\n",
    "G=G.to(tstrippy.Parsers.unitbasis['G'])"
   ]
  },
  {
   "cell_type": "code",
   "execution_count": 133,
   "id": "af34da07",
   "metadata": {},
   "outputs": [],
   "source": [
    "# get the crossing time of the clusters \n",
    "vGCs = np.sqrt(vx**2 + vy**2 + vz**2)\n",
    "rGCS = np.sqrt(x**2 + y**2 + z**2)\n",
    "tcrossGCs = ((rGCS / vGCs) * u.Unit(tstrippy.Parsers.unitbasis['time'])).to(u.yr)\n",
    "# get the internal dynamical time \n",
    "tdyn=np.sqrt(GCdata['rh_m']**3 / (G*GCdata['Mass'])).to(u.yr)"
   ]
  },
  {
   "cell_type": "code",
   "execution_count": null,
   "id": "484c3051",
   "metadata": {},
   "outputs": [],
   "source": [
    "nbins = int(np.ceil(len(GCdata)))\n",
    "binednges = 10**np.linspace(np.log10(tdyn.min().value), np.log10(tcrossGCs.max().value), nbins+1)"
   ]
  },
  {
   "cell_type": "code",
   "execution_count": 138,
   "id": "4d6d8ba2",
   "metadata": {},
   "outputs": [
    {
     "data": {
      "image/png": "[encoded data removed]",
      "text/plain": [
       "<Figure size 625x300 with 1 Axes>"
      ]
     },
     "metadata": {},
     "output_type": "display_data"
    }
   ],
   "source": [
    "fig,axis=plt.subplots(1,1,figsize=(8.25-2,3))\n",
    "axis.hist(tdyn.value, bins=binednges,  histtype='step', color='tab:blue', lw=2, label=r\"$\\mathrm{GC~internal~dynamical~time}$\")\n",
    "axis.hist(tcrossGCs.value, bins=binednges,  histtype='step', color='tab:red', lw=2, label=r\"$\\mathrm{GC~galactic~crossing~time}$\")\n",
    "axis.set_xscale('log')\n",
    "axis.set_xlabel(r'$T_{\\mathrm{dyn}}~[\\mathrm{yr}]$', fontsize=\"medium\")\n",
    "axis.set_ylabel(r'$N_{\\mathrm{cluster}}$', fontsize=\"medium\")\n",
    "ylims = axis.get_ylim()\n",
    "axis.set_ylim(0, ylims[1])\n",
    "axis.set_xlim(3e4,5e9)\n",
    "axis.legend(fontsize=\"medium\", loc='best')\n",
    "fig.savefig(\"../../images/GCsystemCharacteristicTimes.png\", bbox_inches='tight', dpi=300)"
   ]
  }
 ],
 "metadata": {
  "kernelspec": {
   "display_name": "thesis",
   "language": "python",
   "name": "python3"
  },
  "language_info": {
   "codemirror_mode": {
    "name": "ipython",
    "version": 3
   },
   "file_extension": ".py",
   "mimetype": "text/x-python",
   "name": "python",
   "nbconvert_exporter": "python",
   "pygments_lexer": "ipython3",
   "version": "3.11.12"
  }
 },
 "nbformat": 4,
 "nbformat_minor": 5
}
