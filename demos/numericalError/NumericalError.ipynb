{
 "cells": [
  {
   "cell_type": "markdown",
   "id": "8a6d3c2c",
   "metadata": {},
   "source": [
    "# Numerical error\n",
    "\n",
    "Two different metrics: \n",
    "\n",
    "1. time reversability \n",
    "2. conservation of energy \n",
    "\n",
    "show this for four different systems:\n",
    "\n",
    "1. GC center of mass in the galaxy \n",
    "2. particle in GC moving around the galaxy \n",
    "3. GC center of mass in the galaxy with a bar \n",
    "4. particle in the GC moving around the galaxy with a bar \n"
   ]
  }
 ],
 "metadata": {
  "language_info": {
   "name": "python"
  }
 },
 "nbformat": 4,
 "nbformat_minor": 5
}
