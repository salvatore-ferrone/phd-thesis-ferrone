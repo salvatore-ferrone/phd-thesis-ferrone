{
 "cells": [
  {
   "cell_type": "markdown",
   "id": "253c1949",
   "metadata": {},
   "source": [
    "# The Martos halo seems strange\n",
    "\n",
    "The potential presented in Allen Santillian is not the same from the mass distribution "
   ]
  },
  {
   "cell_type": "code",
   "execution_count": 34,
   "id": "958f12e4",
   "metadata": {},
   "outputs": [],
   "source": [
    "import sympy as sp\n",
    "import numpy as np \n",
    "import matplotlib.pyplot as plt"
   ]
  },
  {
   "cell_type": "code",
   "execution_count": 58,
   "id": "5301d6a9",
   "metadata": {},
   "outputs": [],
   "source": [
    "def martos_mass(r,params):\n",
    "    # assert that r is a np.ndarray\n",
    "    assert isinstance(r, np.ndarray)\n",
    "    M0,rs,rcut,gamma=params\n",
    "    x=r/rs\n",
    "    xc = rcut/rs\n",
    "\n",
    "    inside = x < xc\n",
    "    outside = x >= xc\n",
    "    # M0 is the mass at r=0\n",
    "    M = np.zeros_like(r)\n",
    "    M[inside] = M0*(x[inside]**gamma) / (1 + x[inside]**(gamma-1))\n",
    "    M[outside] = M0*(xc**gamma) / (1 + xc**(gamma-1)) \n",
    "    return M\n",
    "\n",
    "def martos_potential(r,params):\n",
    "    # assert that r is a np.ndarray\n",
    "    assert isinstance(r, np.ndarray)\n",
    "    G,M0,rs,rcut,gamma=params\n",
    "    x=r/rs\n",
    "    xc = rcut/rs\n",
    "\n",
    "    inside = x < xc\n",
    "    outside = x >= xc\n",
    "    term1= -G*M0/rs\n",
    "    term2=(1/(gamma-1))*np.log(1+xc**(gamma-1) / (1+x**(gamma-1)))\n",
    "    term3= xc**(gamma-1) / (1+x**(gamma-1))\n",
    "    V = term1*(term2 + term3)\n",
    "    return V\n",
    "\n",
    "\n",
    "def force(r,params):\n",
    "    # assert that r is a np.ndarray\n",
    "    assert isinstance(r, np.ndarray)\n",
    "    G,M0,rs,rcut,gamma=params\n",
    "    x=r/rs\n",
    "    xc = rcut/rs\n",
    "    inside = x < xc\n",
    "    outside = x >= xc\n",
    "    F = np.zeros_like(r)\n",
    "    F[inside] = -G*M0/(rs**2) * (x[inside]**(gamma-2)) / (1 + x[inside]**(gamma-1))\n",
    "    F[outside] = -G*M0/(r[outside]**2) * (xc**(gamma)) / (1 + xc**(gamma-1))\n",
    "    return F"
   ]
  },
  {
   "cell_type": "code",
   "execution_count": 61,
   "id": "1af3d1c6",
   "metadata": {},
   "outputs": [
    {
     "data": {
      "text/plain": [
       "[<matplotlib.lines.Line2D at 0x16c0781d0>]"
      ]
     },
     "execution_count": 61,
     "metadata": {},
     "output_type": "execute_result"
    },
    {
     "data": {
      "image/png": "[encoded data removed]",
      "text/plain": [
       "<Figure size 640x480 with 1 Axes>"
      ]
     },
     "metadata": {},
     "output_type": "display_data"
    }
   ],
   "source": [
    "M,rs,rcut,gamma = 10,14,100,2.02\n",
    "r = np.linspace(0, 120, 1000)\n",
    "m = martos_mass(r, (M,rs,rcut,gamma))\n",
    "V = martos_potential(r, (1, M, rs, rcut, gamma))\n",
    "F = force(r, (1, M, rs, rcut, gamma))\n",
    "fig, ax = plt.subplots()\n",
    "ax.plot(r, F)\n"
   ]
  },
  {
   "cell_type": "code",
   "execution_count": 22,
   "id": "ec753a00",
   "metadata": {},
   "outputs": [],
   "source": [
    "x,gamma,xcut,xeval = sp.symbols('x gamma x_cut xeval', real=True,positive=True)\n",
    "# Define the function\n",
    "xcut=10\n",
    "m = x**gamma / (1 + x**(gamma-1))\n",
    "mtot=xcut**gamma / (1 + xcut**(gamma-1))\n",
    "# make the piecewise function\n",
    "\n",
    "\n",
    "integrand = m / x**2 "
   ]
  },
  {
   "cell_type": "code",
   "execution_count": 29,
   "id": "21d7815c",
   "metadata": {},
   "outputs": [
    {
     "data": {
      "text/latex": [
       "$\\displaystyle \\begin{cases} \\frac{\\log{\\left(10^{\\gamma} + 10 \\right)}}{\\gamma - 1} - \\frac{\\log{\\left(10 \\right)}}{\\gamma - 1} - \\frac{\\log{\\left(2 \\right)}}{\\gamma - 1} & \\text{for}\\: \\gamma \\neq 1 \\\\\\frac{\\log{\\left(10 \\right)}}{2} & \\text{otherwise} \\end{cases}$"
      ],
      "text/plain": [
       "Piecewise((log(10**gamma + 10)/(gamma - 1) - log(10)/(gamma - 1) - log(2)/(gamma - 1), Ne(gamma, 1)), (log(10)/2, True))"
      ]
     },
     "execution_count": 29,
     "metadata": {},
     "output_type": "execute_result"
    }
   ],
   "source": [
    "sp.integrate(sp.simplify(integrand), (x, 1, xcut)).expand()"
   ]
  }
 ],
 "metadata": {
  "kernelspec": {
   "display_name": "thesis",
   "language": "python",
   "name": "python3"
  },
  "language_info": {
   "codemirror_mode": {
    "name": "ipython",
    "version": 3
   },
   "file_extension": ".py",
   "mimetype": "text/x-python",
   "name": "python",
   "nbconvert_exporter": "python",
   "pygments_lexer": "ipython3",
   "version": "3.11.12"
  }
 },
 "nbformat": 4,
 "nbformat_minor": 5
}
