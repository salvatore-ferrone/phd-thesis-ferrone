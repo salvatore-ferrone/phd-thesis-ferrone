{
 "cells": [
  {
   "cell_type": "markdown",
   "metadata": {},
   "source": [
    "# Buckingham $\\Pi$\n",
    "\n",
    "The power of dimensional analysis of the equations of motion is typically reserved for fluid mechanics courses, however, in dynamics, we can learn a lot from a great dimensional analysis. Moreover, it provides the best units for numerical intergration which can avoid rounding error from using combinations of numbers with large orders of magnitude far from unity. Also, units in galactic dynamics can be quite unintuitive at first glance and differ from SI units. I have revisted this theme multiple times, and I can say that my understand has not grown to a maximum until I learned about the Buckingham $\\Pi$ theorem."
   ]
  },
  {
   "cell_type": "markdown",
   "metadata": {},
   "source": [
    "## outline\n",
    "1. motivation (above)\n",
    "    1. Add more context in galactic dynamics.\n",
    "    2. Perhaps talk about a variety of different numerical integrators and tools. Thus, if you ever want to go into the greater community, a strong knowledge of unit and dimensionality is imperitive. \n",
    "        1. how bad Nbody6 is. \n",
    "        2. How galpy uses \"natural units\"\n",
    "\n",
    "\n",
    "can I get a better source than these wikipedia articles? [Dimensional analysis](https://en.wikipedia.org/wiki/Dimensional_analysis). [Buckingham PI](https://en.wikipedia.org/wiki/Buckingham_%CF%80_theorem). \n",
    "\n",
    "\n",
    "YES George W. Bluman \\& Sukeyuki Kumei's *Symmetries and Differential Equations*\n",
    "\n",
    "also, here is this great paper! [BuckinghamPy](https://doi.org/10.1016/j.softx.2021.100851), with the corresponding [python package](https://github.com/saadgroup/BuckinghamPy?tab=readme-ov-file)\n",
    "\n",
    "\n",
    "## All ideas\n",
    "1. The basis set in dynamics \n",
    "    1. unit conversion as a matrix vector product \n",
    "\n",
    "2. The dimensionless numbers (still need to understand this for the three body problem)\n"
   ]
  },
  {
   "cell_type": "markdown",
   "metadata": {},
   "source": [
    "## buckingham $\\Pi$ for grav dynamics\n",
    "\n",
    "1. pick the basis vectors: length time and mass\n",
    "$$\n",
    "\\mathcal{l},\\mathcal{T},\\mathcal{M}=\n",
    "\\left(\\begin{bmatrix}\n",
    "1 \\\\\n",
    "0 \\\\\n",
    "0\n",
    "\\end{bmatrix},\n",
    "\\begin{bmatrix}\n",
    "0 \\\\\n",
    "1 \\\\\n",
    "0\n",
    "\\end{bmatrix},\n",
    "\\begin{bmatrix}\n",
    "0 \\\\\n",
    "0 \\\\\n",
    "1\n",
    "\\end{bmatrix}\n",
    "\\right)\n",
    "$$\n",
    "\n"
   ]
  },
  {
   "cell_type": "markdown",
   "metadata": {},
   "source": [
    "2. construct the dimensionality matrix from the variables and constants of the system. In this system, I will choose the separation distance between the primary and the secondary, the orbital period, the mass of the primary, the mass of the secondary, and the gravitational constant:\n",
    "\n",
    "$$ \\delta a, \\tau, m_1, m_2, G $$\n",
    "\n",
    "Now assemble their column vectors in terms of fundamental units:\n",
    "\n",
    "$$ \n",
    "B=\n",
    "\\left(\\begin{bmatrix}\n",
    "1 \\\\\n",
    "0 \\\\\n",
    "0\n",
    "\\end{bmatrix},\n",
    "\\begin{bmatrix}\n",
    "0 \\\\\n",
    "1 \\\\\n",
    "0\n",
    "\\end{bmatrix},\n",
    "\\begin{bmatrix}\n",
    "0 \\\\\n",
    "0 \\\\\n",
    "1\n",
    "\\end{bmatrix},\n",
    "\\begin{bmatrix}\n",
    "0 \\\\\n",
    "0 \\\\\n",
    "1\n",
    "\\end{bmatrix},\n",
    "\\begin{bmatrix}\n",
    "3 \\\\\n",
    "-2 \\\\\n",
    "-1\n",
    "\\end{bmatrix}\n",
    "\\right)\n",
    "$$\n",
    "\n",
    "and voilà this is the dimensionality matrix."
   ]
  },
  {
   "cell_type": "markdown",
   "metadata": {},
   "source": [
    "Look how we can generate many things, just by knowing what linear combination of the column vectors. For instance, we can generate the potential as the following:\n",
    "\n",
    "$$\n",
    "\\Phi=\n",
    "\\begin{bmatrix}\n",
    "1 & 0 & 0 & 0 & 3 \\\\\n",
    "0 & 1 & 0 & 0 & -2\\\\\n",
    "0 & 0 & 1 & 1 & -1\n",
    "\\end{bmatrix}\n",
    "\n",
    "\\begin{bmatrix}\n",
    "-1 \\\\\n",
    "0\\\\\n",
    "1\\\\\n",
    "0\\\\\n",
    "1\n",
    "\\end{bmatrix}\n",
    "= \\delta a^{-1} m_1^1 G^1 = \\delta a^2 T^{-2} m_1^1\n",
    "$$\n"
   ]
  },
  {
   "cell_type": "markdown",
   "metadata": {},
   "source": [
    "It is interesting to note, that if we changed the choice of the basis, the numerical value of the potential would change. For instance, if we chose to use meters instead of using the $\\delta a$, then numerical value of $\\Phi$ would change dramatically.\n",
    "\n",
    "This is why dimensional numbers are so interesting, because they are invariant under change of basis and change of units. To find these dimensionless numbers, we can find the null space of the matrix B.\n",
    "\n",
    "$$\n",
    "B\\vec{x} =0\n",
    "$$"
   ]
  },
  {
   "cell_type": "code",
   "execution_count": null,
   "metadata": {},
   "outputs": [],
   "source": [
    "from astropy import units as u\n",
    "from astropy import constants as const\n"
   ]
  },
  {
   "cell_type": "code",
   "execution_count": 13,
   "metadata": {},
   "outputs": [
    {
     "data": {
      "text/latex": [
       "$4.3009173 \\times 10^{-6} \\; \\mathrm{\\frac{km^{2}\\,kpc}{M_{\\odot}\\,s^{2}}}$"
      ],
      "text/plain": [
       "<Quantity 4.30091727e-06 km2 kpc / (solMass s2)>"
      ]
     },
     "execution_count": 13,
     "metadata": {},
     "output_type": "execute_result"
    }
   ],
   "source": [
    "G = const.G\n",
    "unitL = u.kpc\n",
    "unitV = u.km / u.s\n",
    "unitM = u.Msun\n",
    "unitG = unitV**2 * unitL/ unitM\n",
    "G.to(unitG)"
   ]
  },
  {
   "cell_type": "code",
   "execution_count": 12,
   "metadata": {},
   "outputs": [
    {
     "data": {
      "text/latex": [
       "$232508.54 \\; \\mathrm{M_{\\odot}}$"
      ],
      "text/plain": [
       "<Quantity 232508.54113536 solMass>"
      ]
     },
     "execution_count": 12,
     "metadata": {},
     "output_type": "execute_result"
    }
   ],
   "source": [
    "unitM = unitL * unitV**2 / G\n",
    "\n",
    "unitM.to(u.Msun)"
   ]
  },
  {
   "cell_type": "code",
   "execution_count": null,
   "metadata": {},
   "outputs": [
    {
     "data": {
      "text/plain": [
       "np.float64(220.58245304590878)"
      ]
     },
     "execution_count": 92,
     "metadata": {},
     "output_type": "execute_result"
    }
   ],
   "source": [
    "from galpy.potential import MiyamotoNagaiPotential, NFWPotential, plotPotentials\n",
    "from astropy import units as u\n",
    "import numpy as np\n",
    "from galpy.potential import vcirc\n",
    "import matplotlib.pyplot as plt\n",
    "\n",
    "# Define natural units\n",
    "R0 = 8.0  # kpc\n",
    "V0 = 220\n",
    "\n",
    "# Miyamoto-Nagai disk\n",
    "disk = MiyamotoNagaiPotential(\n",
    "    a=6.5/R0,      # a / R_0\n",
    "    b=0.25/R0,      # b / R_0\n",
    "    ro=R0,\n",
    "    vo=V0,\n",
    "    normalize=.8  # Do not normalize to 1\n",
    ")\n",
    "\n",
    "# NFW halo\n",
    "halo = NFWPotential(\n",
    "    a=20/R0,         # scale radius / R_0\n",
    "    ro=R0,\n",
    "    vo=V0,\n",
    "    normalize=.2  # Do not normalize to 1\n",
    ")\n",
    "\n",
    "# Combine potentials\n",
    "pot = [disk, halo]\n",
    "\n",
    "\n",
    "R = np.linspace(0.1, 20, 500)  # 0.1 to 20 R0\n",
    "\n",
    "# Compute circular velocity at each radius\n",
    "vc = [p.vcirc(R) for p in pot]           # For each component\n",
    "vc_total = sum(vc)                       # Total rotation curve\n",
    "\n",
    "vc_total2 = vcirc(pot, R)\n",
    "\n",
    "index = np.argmin(np.abs(R - 1.0))  # Find index of R=1 (in units of ro)\n",
    "\n",
    "vc_total2[index] \n"
   ]
  },
  {
   "cell_type": "code",
   "execution_count": 105,
   "metadata": {},
   "outputs": [
    {
     "data": {
      "text/plain": [
       "np.float64(0.9989117064759713)"
      ]
     },
     "execution_count": 105,
     "metadata": {},
     "output_type": "execute_result"
    }
   ],
   "source": [
    "disk = MiyamotoNagaiPotential(a=.4, b=0.1, normalize=0.6)\n",
    "halo = NFWPotential(a=1, normalize=0.4)\n",
    "pot = [disk, halo]\n",
    "\n",
    "R = np.linspace(0.1, 20, 500)  # 0.1 to 20 R0\n",
    "\n",
    "# Compute circular velocity at each radius\n",
    "vc = [p.vcirc(R) for p in pot]           # For each component\n",
    "vc_total = sum(vc)                       # Total rotation curve\n",
    "\n",
    "vc_total2 = vcirc(pot, R)\n",
    "\n",
    "index = np.argmin(np.abs(R - 1.0))  # Find index of R=1 (in units of ro)\n",
    "\n",
    "vc_total2[index] \n"
   ]
  },
  {
   "cell_type": "code",
   "execution_count": 107,
   "metadata": {},
   "outputs": [
    {
     "name": "stdout",
     "output_type": "stream",
     "text": [
      "Disk mass within 8 kpc: 5.40e+10 Msun\n",
      "Hernquist mass within 8 kpc: 3.60e+10 Msun\n"
     ]
    }
   ],
   "source": [
    "G = 4.30091e-6  # kpc (km/s)^2 / Msun\n",
    "R = 8.0         # kpc\n",
    "V0 = 220.0      # km/s\n",
    "\n",
    "# Disk\n",
    "v_disk2 = 0.6 * V0**2\n",
    "M_disk = v_disk2 * R / G\n",
    "\n",
    "# Hernquist\n",
    "v_hern2 = 0.4 * V0**2\n",
    "M_hern = v_hern2 * R / G\n",
    "\n",
    "print(f\"Disk mass within 8 kpc: {M_disk:.2e} Msun\")\n",
    "print(f\"Hernquist mass within 8 kpc: {M_hern:.2e} Msun\")"
   ]
  },
  {
   "cell_type": "code",
   "execution_count": 106,
   "metadata": {},
   "outputs": [
    {
     "data": {
      "text/plain": [
       "Text(0, 0.5, 'Circular Velocity (V/V0)')"
      ]
     },
     "execution_count": 106,
     "metadata": {},
     "output_type": "execute_result"
    },
    {
     "data": {
      "image/png": "[encoded data removed]",
      "text/plain": [
       "<Figure size 640x480 with 1 Axes>"
      ]
     },
     "metadata": {},
     "output_type": "display_data"
    }
   ],
   "source": [
    "plt.plot(R, vc_total2 , label='Total Rotation Curve')\n",
    "plt.plot(R, vc[0], label='Disk Rotation Curve')\n",
    "plt.plot(R, vc[1], label='Halo Rotation Curve')\n",
    "plt.vlines(1.0, 0, 1, color='k', linestyle='--', label='R=1.0')\n",
    "plt.xlabel('Radius (R/R0)')\n",
    "plt.ylabel('Circular Velocity (V/V0)')"
   ]
  },
  {
   "cell_type": "code",
   "execution_count": null,
   "metadata": {},
   "outputs": [],
   "source": []
  }
 ],
 "metadata": {
  "kernelspec": {
   "display_name": "thesis",
   "language": "python",
   "name": "python3"
  },
  "language_info": {
   "codemirror_mode": {
    "name": "ipython",
    "version": 3
   },
   "file_extension": ".py",
   "mimetype": "text/x-python",
   "name": "python",
   "nbconvert_exporter": "python",
   "pygments_lexer": "ipython3",
   "version": "3.11.12"
  }
 },
 "nbformat": 4,
 "nbformat_minor": 2
}
