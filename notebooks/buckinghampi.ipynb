{
 "cells": [
  {
   "cell_type": "markdown",
   "metadata": {},
   "source": [
    "# Buckingham $\\Pi$\n",
    "\n",
    "The power of dimensional analysis of the equations of motion is typically reserved for fluid mechanics courses, however, in dynamics, we can learn a lot from a great dimensional analysis. Moreover, it provides the best units for numerical intergration which can avoid rounding error from using combinations of numbers with large orders of magnitude far from unity. Also, units in galactic dynamics can be quite unintuitive at first glance and differ from SI units. I have revisted this theme multiple times, and I can say that my understand has not grown to a maximum until I learned about the Buckingham $\\Pi$ theorem."
   ]
  },
  {
   "cell_type": "markdown",
   "metadata": {},
   "source": [
    "## outline\n",
    "1. motivation (above)\n",
    "    1. Add more context in galactic dynamics.\n",
    "    2. Perhaps talk about a variety of different numerical integrators and tools. Thus, if you ever want to go into the greater community, a strong knowledge of unit and dimensionality is imperitive. \n",
    "        1. how bad Nbody6 is. \n",
    "        2. How galpy uses \"natural units\"\n",
    "\n",
    "\n",
    "can I get a better source than these wikipedia articles? [Dimensional analysis](https://en.wikipedia.org/wiki/Dimensional_analysis). [Buckingham PI](https://en.wikipedia.org/wiki/Buckingham_%CF%80_theorem). \n",
    "\n",
    "\n",
    "YES George W. Bluman \\& Sukeyuki Kumei's *Symmetries and Differential Equations*\n",
    "\n",
    "also, here is this great paper! [BuckinghamPy](https://doi.org/10.1016/j.softx.2021.100851), with the corresponding [python package](https://github.com/saadgroup/BuckinghamPy?tab=readme-ov-file)\n",
    "\n",
    "\n",
    "## All ideas\n",
    "1. The basis set in dynamics \n",
    "    1. unit conversion as a matrix vector product \n",
    "\n",
    "2. The dimensionless numbers (still need to understand this for the three body problem)\n"
   ]
  },
  {
   "cell_type": "markdown",
   "metadata": {},
   "source": [
    "## buckingham $\\Pi$ for grav dynamics\n",
    "\n",
    "1. pick the basis vectors: length time and mass\n",
    "$$\n",
    "\\mathcal{l},\\mathcal{T},\\mathcal{M}=\n",
    "\\left(\\begin{bmatrix}\n",
    "1 \\\\\n",
    "0 \\\\\n",
    "0\n",
    "\\end{bmatrix},\n",
    "\\begin{bmatrix}\n",
    "0 \\\\\n",
    "1 \\\\\n",
    "0\n",
    "\\end{bmatrix},\n",
    "\\begin{bmatrix}\n",
    "0 \\\\\n",
    "0 \\\\\n",
    "1\n",
    "\\end{bmatrix}\n",
    "\\right)\n",
    "$$\n",
    "\n"
   ]
  },
  {
   "cell_type": "markdown",
   "metadata": {},
   "source": [
    "2. construct the dimensionality matrix from the variables and constants of the system. In this system, I will choose the separation distance between the primary and the secondary, the orbital period, the mass of the primary, the mass of the secondary, and the gravitational constant:\n",
    "\n",
    "$$ \\delta a, \\tau, m_1, m_2, G $$\n",
    "\n",
    "Now assemble their column vectors in terms of fundamental units:\n",
    "\n",
    "$$ \n",
    "B=\n",
    "\\left(\\begin{bmatrix}\n",
    "1 \\\\\n",
    "0 \\\\\n",
    "0\n",
    "\\end{bmatrix},\n",
    "\\begin{bmatrix}\n",
    "0 \\\\\n",
    "1 \\\\\n",
    "0\n",
    "\\end{bmatrix},\n",
    "\\begin{bmatrix}\n",
    "0 \\\\\n",
    "0 \\\\\n",
    "1\n",
    "\\end{bmatrix},\n",
    "\\begin{bmatrix}\n",
    "0 \\\\\n",
    "0 \\\\\n",
    "1\n",
    "\\end{bmatrix},\n",
    "\\begin{bmatrix}\n",
    "3 \\\\\n",
    "-2 \\\\\n",
    "-1\n",
    "\\end{bmatrix}\n",
    "\\right)\n",
    "$$\n",
    "\n",
    "and voilà this is the dimensionality matrix."
   ]
  },
  {
   "cell_type": "markdown",
   "metadata": {},
   "source": [
    "Look how we can generate many things, just by knowing what linear combination of the column vectors. For instance, we can generate the potential as the following:\n",
    "\n",
    "$$\n",
    "\\Phi=\n",
    "\\begin{bmatrix}\n",
    "1 & 0 & 0 & 0 & 3 \\\\\n",
    "0 & 1 & 0 & 0 & -2\\\\\n",
    "0 & 0 & 1 & 1 & -1\n",
    "\\end{bmatrix}\n",
    "\n",
    "\\begin{bmatrix}\n",
    "-1 \\\\\n",
    "0\\\\\n",
    "1\\\\\n",
    "0\\\\\n",
    "1\n",
    "\\end{bmatrix}\n",
    "= \\delta a^{-1} m_1^1 G^1 = \\delta a^2 T^{-2} m_1^1\n",
    "$$\n"
   ]
  },
  {
   "cell_type": "markdown",
   "metadata": {},
   "source": [
    "It is interesting to note, that if we changed the choice of the basis, the numerical value of the potential would change. For instance, if we chose to use meters instead of using the $\\delta a$, then numerical value of $\\Phi$ would change dramatically.\n",
    "\n",
    "This is why dimensional numbers are so interesting, because they are invariant under change of basis and change of units. To find these dimensionless numbers, we can find the null space of the matrix B.\n",
    "\n",
    "$$\n",
    "B\\vec{x} =0\n",
    "$$"
   ]
  }
 ],
 "metadata": {
  "language_info": {
   "name": "python"
  }
 },
 "nbformat": 4,
 "nbformat_minor": 2
}
