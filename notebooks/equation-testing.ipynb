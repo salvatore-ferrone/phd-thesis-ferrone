{
 "cells": [
  {
   "cell_type": "markdown",
   "metadata": {},
   "source": [
    "\\begin{equation}\n",
    "    \\tau = \\sqrt{\\frac{3\\pi}{G\\rho_c}} \\left(1+\\left(\\frac{r}{b}\\right)\\right)^{3/4},\n",
    "\\end{equation}\n",
    "\n",
    "where $\\rho_c$ is the plummer's characteristic density: $\\rho_c = \\frac{3M}{4\\pi b^3}$."
   ]
  },
  {
   "cell_type": "code",
   "execution_count": 3,
   "metadata": {},
   "outputs": [],
   "source": [
    "import astropy.units as u\n",
    "from astropy import constants as const\n",
    "import numpy as np "
   ]
  },
  {
   "cell_type": "code",
   "execution_count": null,
   "metadata": {},
   "outputs": [],
   "source": []
  },
  {
   "cell_type": "code",
   "execution_count": 11,
   "metadata": {},
   "outputs": [
    {
     "data": {
      "text/latex": [
       "$104.73719 \\; \\mathrm{Gyr}$"
      ],
      "text/plain": [
       "<Quantity 104.73718773 Gyr>"
      ]
     },
     "execution_count": 11,
     "metadata": {},
     "output_type": "execute_result"
    }
   ],
   "source": [
    "G=const.G\n",
    "unitV=u.km/u.s\n",
    "unitM=u.Msun\n",
    "unitL=u.kpc\n",
    "unitT=unitL/unitV\n",
    "unitG=unitV**2*unitL/unitM\n",
    "G=G.to(unitG)\n",
    "Mass=1e5*unitM\n",
    "r=5*unitL\n",
    "density=Mass/(4/3*np.pi*r**3)\n",
    "crossingtime=np.sqrt(3*np.pi/(G*density))\n",
    "crossingtime.to(u.Gyr)"
   ]
  },
  {
   "cell_type": "code",
   "execution_count": null,
   "metadata": {},
   "outputs": [],
   "source": []
  },
  {
   "cell_type": "code",
   "execution_count": null,
   "metadata": {},
   "outputs": [],
   "source": []
  }
 ],
 "metadata": {
  "kernelspec": {
   "display_name": "artpop",
   "language": "python",
   "name": "python3"
  },
  "language_info": {
   "codemirror_mode": {
    "name": "ipython",
    "version": 3
   },
   "file_extension": ".py",
   "mimetype": "text/x-python",
   "name": "python",
   "nbconvert_exporter": "python",
   "pygments_lexer": "ipython3",
   "version": "3.11.2"
  }
 },
 "nbformat": 4,
 "nbformat_minor": 2
}
