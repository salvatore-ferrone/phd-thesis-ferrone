{
 "cells": [
  {
   "cell_type": "markdown",
   "metadata": {},
   "source": [
    "# EQUATIONS OF MOTION\n",
    "\n",
    "$$ L = T-U $$\n",
    "\n",
    "$$ L = \\frac{m}{2}\\left(\\dot{x}^2+\\dot{y}^2+\\dot{z}^2\\right) - m\\Phi_{\\text{gal}}(x,y,z)$$\n",
    "\n",
    "$$ \\mathcal{L} = \\frac{L}{m} = \\frac{1}{2}\\left(\\dot{x}^2+\\dot{y}^2+\\dot{z}^2\\right) - \\Phi_{\\text{gal}}(x,y,z)$$\n",
    "\n",
    "This is advantageous because we can pass to solving the Hamiltonian, which instead gives a system of first order differential equations. By eliminiating the mass of the cluster, the momentum coordinate of the Hamiltonian is the same as the velocity coordinate of the Lagrangian:\n",
    "\n",
    "$$ p = \\frac{\\partial \\mathcal{L}}{\\partial \\mathcal{\\dot{q}}}$$\n",
    "\n",
    "Therefore, $p_x = \\dot{x}$\n",
    "\n",
    "And again we can now derive the Hamiltoniah through the Ledengre transform: \n",
    "\n",
    "$$ \\mathcal{H}_\\text{GC}=\\sum_i p_i\\dot{q}_i - \\mathcal{L}$$ \n",
    "\n",
    "Which gives: \n",
    "\n",
    "$$ \\mathcal{H}_{\\text{GC}} = \\frac{1}{2}\\left(p_x^2+p_y^2+p_z^2\\right) + \\Phi_{\\text{gal}}(x,y,z) $$ \n",
    "\n",
    "\n",
    "The time evolution of each is now: \n",
    "\n",
    "$$ \n",
    "\\begin{aligned}\n",
    "\\dot{p}_i &= -\\frac{\\partial \\mathcal{H}}{\\partial q_i} \\\\\n",
    "\\dot{q}_i &= \\frac{\\partial \\mathcal{H}}{\\partial p_i}\n",
    "\\end{aligned}\n",
    "$$"
   ]
  },
  {
   "cell_type": "markdown",
   "metadata": {},
   "source": [
    "## Particle equations of motion \n",
    "\n",
    "The situation is now a bit different for the particle because its energy depends on it's position relative to the globular cluster's, which evolves in time. \n",
    "\n",
    "$$ \\mathcal{H}_s = \\frac{1}{2}\\left(p_{s,x}^2+p_{s,y}^2+p_{s,z}^2\\right) + \\Phi_{\\text{gal}}(x_s,y_s,z_s) + \\Phi_{\\text{GC}}(\\vec{r}_s-\\vec{r}_\\text{GC}(t)) $$ \n",
    "\n",
    "It's important to note that these equations could be solved simultaneously, but in practice we do not do this. We first compute the orbit for the globular cluster to find its position as a function of time and the load that data into a second step when we compute the orbit of the star particles. \n"
   ]
  }
 ],
 "metadata": {
  "kernelspec": {
   "display_name": "artpop",
   "language": "python",
   "name": "python3"
  },
  "language_info": {
   "codemirror_mode": {
    "name": "ipython",
    "version": 3
   },
   "file_extension": ".py",
   "mimetype": "text/x-python",
   "name": "python",
   "nbconvert_exporter": "python",
   "pygments_lexer": "ipython3",
   "version": "3.11.2"
  }
 },
 "nbformat": 4,
 "nbformat_minor": 2
}
